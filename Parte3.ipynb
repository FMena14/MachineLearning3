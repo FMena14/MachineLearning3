{
 "cells": [
  {
   "cell_type": "markdown",
   "metadata": {},
   "source": [
    "# Reconocimiento de Imágenes en CIFAR10"
   ]
  },
  {
   "cell_type": "code",
   "execution_count": null,
   "metadata": {
    "collapsed": true
   },
   "outputs": [],
   "source": [
    "explicacion"
   ]
  },
  {
   "cell_type": "code",
   "execution_count": null,
   "metadata": {
    "collapsed": true
   },
   "outputs": [],
   "source": [
    "def unpickle(file):\n",
    "import cPickle\n",
    "fo = open(file, ’rb’)\n",
    "dict = cPickle.load(fo)\n",
    "fo.close()\n",
    "return dict\n",
    "\n",
    "\n",
    "label_names = [’airplane’, ’automobile’, ’bird’, ’cat’, ’deer’, ’dog’,\\\n",
    "’frog’, ’horse’, ’ship’, ’truck’]\n"
   ]
  },
  {
   "cell_type": "markdown",
   "metadata": {},
   "source": [
    "## A)"
   ]
  },
  {
   "cell_type": "code",
   "execution_count": null,
   "metadata": {
    "collapsed": true
   },
   "outputs": [],
   "source": [
    "from scipy.misc import imread\n",
    "import cPickle as pickle\n",
    "import numpy as np\n",
    "import os\n",
    "\n",
    "def load_CIFAR_one(filename):\n",
    "    with open(filename, ’rb’) as f:\n",
    "        datadict = pickle.load(f)\n",
    "        X = datadict[’data’]\n",
    "        Y = datadict[’labels’]\n",
    "        return X, np.array(Y)\n",
    "\n",
    "def load_CIFAR10(PATH):\n",
    "    xs = [], ys = []\n",
    "    for b in range(1,6):\n",
    "        f = os.path.join(PATH, ’data_batch_%d’ % (b, ))\n",
    "        X, Y = load_CIFAR_one(f)\n",
    "        xs.append(X)\n",
    "        ys.append(Y)\n",
    "    Xtr = np.concatenate(xs)\n",
    "    Ytr = np.concatenate(ys)\n",
    "    del X, Y\n",
    "    Xte, Yte = load_CIFAR_batch(os.path.join(PATH, ’test_batch’))\n",
    "    return Xtr, Ytr, Xte, Yte\n",
    "#you need to add Xval\n",
    "load_CIFAR10(’.’)"
   ]
  },
  {
   "cell_type": "markdown",
   "metadata": {},
   "source": [
    "## B)"
   ]
  },
  {
   "cell_type": "code",
   "execution_count": null,
   "metadata": {
    "collapsed": true
   },
   "outputs": [],
   "source": [
    "# Escalar y centrar datos"
   ]
  },
  {
   "cell_type": "markdown",
   "metadata": {},
   "source": [
    "## C)"
   ]
  },
  {
   "cell_type": "code",
   "execution_count": null,
   "metadata": {
    "collapsed": true
   },
   "outputs": [],
   "source": [
    "from keras.utils.np_utils import to_categorical\n",
    "from sklearn.preprocessing import StandardScaler\n",
    "\n",
    "def scaler_function(Xtr,Xt,scale=True):\n",
    "    scaler = StandardScaler(with_std=scale).fit(Xtr)\n",
    "    Xtr_scaled = scaler.transform(Xtr)\n",
    "    Xt_scaled = scaler.transform(Xt)\n",
    "    return Xtr_scaled, Xt_scaled\n",
    "\n",
    "Xtr,Xte = scaler_function(Xtr,Xte)\n",
    "Ytr = to_categorical(Ytr)\n",
    "Yte = to_categorical(Yte)\n",
    "\n",
    "from keras.models import Sequential\n",
    "from keras.layers import Dense, Activation\n",
    "from keras.optimizers import SGD\n",
    "\n",
    "model = Sequential()\n",
    "model.add(Dense(100, input_dim=Xtr.shape[1], init=’uniform’, activation=’relu’))\n",
    "model.add(Dropout(0.1))\n",
    "model.add(Dense(10, init=’uniform’, activation=’softmax’))\n",
    "model.compile(optimizer=SGD(lr=0.05), loss=’binary_crossentropy’, metrics=[’accuracy’])\n",
    "model.fit(Xtr, Ytr, nb_epoch=50, batch_size=32, verbose=1, validation_data=(Xte,Yte))\n",
    "scores = model.evaluate(Xte, Yte)\n",
    "test_acc = scores[1]"
   ]
  },
  {
   "cell_type": "markdown",
   "metadata": {},
   "source": [
    "## D)"
   ]
  },
  {
   "cell_type": "code",
   "execution_count": null,
   "metadata": {
    "collapsed": true
   },
   "outputs": [],
   "source": [
    "from top_level_features import hog_features\n",
    "from top_level_features import color_histogram_hsv\n",
    "from top_level_features import extract_features\n",
    "Xtr, Ytr, Xte, Yte = load_CIFAR10(\"datasets/\")\n",
    "features = extract_features(Xtr,[hog_features]) #extrae hog features\n",
    "features = extract_features(Xtr,[color_histogram_hsv]) #extrae histogramas de color\n",
    "features = extract_features(Xtr,[hog_features, color_histogram_hsv]) #extrae todo\n",
    "print Xtr.shape\n",
    "print features.shape"
   ]
  },
  {
   "cell_type": "markdown",
   "metadata": {},
   "source": [
    "## E)"
   ]
  },
  {
   "cell_type": "code",
   "execution_count": null,
   "metadata": {
    "collapsed": true
   },
   "outputs": [],
   "source": []
  },
  {
   "cell_type": "markdown",
   "metadata": {},
   "source": [
    "## F)"
   ]
  },
  {
   "cell_type": "code",
   "execution_count": null,
   "metadata": {
    "collapsed": true
   },
   "outputs": [],
   "source": []
  }
 ],
 "metadata": {
  "kernelspec": {
   "display_name": "Python 2",
   "language": "python",
   "name": "python2"
  },
  "language_info": {
   "codemirror_mode": {
    "name": "ipython",
    "version": 2
   },
   "file_extension": ".py",
   "mimetype": "text/x-python",
   "name": "python",
   "nbconvert_exporter": "python",
   "pygments_lexer": "ipython2",
   "version": "2.7.10"
  }
 },
 "nbformat": 4,
 "nbformat_minor": 1
}
