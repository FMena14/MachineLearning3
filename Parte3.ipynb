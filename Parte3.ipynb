{
 "cells": [
  {
   "cell_type": "markdown",
   "metadata": {},
   "source": [
    "# Reconocimiento de Imágenes en CIFAR10"
   ]
  },
  {
   "cell_type": "code",
   "execution_count": null,
   "metadata": {
    "collapsed": true
   },
   "outputs": [],
   "source": [
    "explicacion"
   ]
  },
  {
   "cell_type": "code",
   "execution_count": 1,
   "metadata": {
    "collapsed": false
   },
   "outputs": [],
   "source": [
    "def unpickle(file):\n",
    "    import cPickle\n",
    "    fo = open(file, 'rb')\n",
    "    dict = cPickle.load(fo)\n",
    "    fo.close()\n",
    "    return dict\n",
    "\n",
    "\n",
    "\n",
    "dict1 = unpickle(\"data_batch_1\")\n",
    "dict2 = unpickle(\"data_batch_2\")\n",
    "dict3 = unpickle(\"data_batch_3\")\n",
    "dict4 = unpickle(\"data_batch_4\")\n",
    "dict5 = unpickle(\"data_batch_5\")\n",
    "\n",
    "\n",
    "label_names = [\"airplane\", \"automobile\", \"bird\", \"cat\", \"deer\", \"dog\", \"frog\", \"horse\", \"ship\", \"truck\"]\n"
   ]
  },
  {
   "cell_type": "markdown",
   "metadata": {},
   "source": [
    "## A)"
   ]
  },
  {
   "cell_type": "code",
   "execution_count": 14,
   "metadata": {
    "collapsed": false
   },
   "outputs": [
    {
     "name": "stdout",
     "output_type": "stream",
     "text": [
      "(50000, 3072)\n",
      "[[ 59  43  50 ..., 140  84  72]\n",
      " [154 126 105 ..., 139 142 144]\n",
      " [255 253 253 ...,  83  83  84]\n",
      " ..., \n",
      " [ 35  40  42 ...,  77  66  50]\n",
      " [189 186 185 ..., 169 171 171]\n",
      " [229 236 234 ..., 173 162 161]]\n",
      "(42567, 3072)\n",
      "(7433, 3072)\n"
     ]
    }
   ],
   "source": [
    "from scipy.misc import imread\n",
    "import cPickle as pickle\n",
    "import numpy as np\n",
    "import os\n",
    "\n",
    "def load_CIFAR_one(filename):\n",
    "    with open(filename, \"rb\") as f:\n",
    "        datadict = pickle.load(f)\n",
    "        X = datadict[\"data\"]\n",
    "        Y = datadict[\"labels\"]\n",
    "        return X, np.array(Y)\n",
    "\n",
    "def load_CIFAR10(PATH):\n",
    "    xs = []\n",
    "    ys = []\n",
    "    for b in range(1,6):\n",
    "        f = os.path.join(PATH, \"data_batch_%d\" % (b, ))\n",
    "        X, Y = load_CIFAR_one(f)\n",
    "        xs.append(X)\n",
    "        ys.append(Y)\n",
    "    Xtr = np.concatenate(xs)\n",
    "    Ytr = np.concatenate(ys)\n",
    "    del X, Y\n",
    "    Xte, Yte = load_CIFAR_one(os.path.join(PATH, \"test_batch\"))\n",
    "    return Xtr, Ytr, Xte, Yte\n",
    "#you need to add Xval\n",
    "X_train,Y_train, X_test,Y_test = load_CIFAR10('.')\n",
    "\n",
    "print X_train.shape\n",
    "print X_train\n",
    "\n",
    "index = np.arange(np.shape(X_train)[0]) #filas \n",
    "np.random.shuffle(index) #permutan las filas\n",
    "X = X_train[index, :] #matriz permutada\n",
    "Y = Y_train[index]\n",
    "\n",
    "#l =  np.random.randint(1000,10000) #entrego 7433\n",
    "n = X_train.shape[0]\n",
    "l = 7433\n",
    "X_train = X[l:,] #Datos de entrenamiento ( n-l)\n",
    "Y_train = Y[l:]\n",
    "print X_train.shape\n",
    "X_val = X[:l,] #Datos de prueba (l)\n",
    "Y_val = Y[:l]\n",
    "print X_val.shape"
   ]
  },
  {
   "cell_type": "markdown",
   "metadata": {},
   "source": [
    "## B)"
   ]
  },
  {
   "cell_type": "code",
   "execution_count": 4,
   "metadata": {
    "collapsed": false
   },
   "outputs": [],
   "source": [
    "# Escalar y centrar datos\n",
    "from sklearn.preprocessing import StandardScaler\n",
    "def Scaler(X,scaler_type):\n",
    "    if scaler_type == \"standar\":\n",
    "        return StandardScaler().fit_transform(X)\n",
    "    elif scaler_type == \"int_max\":\n",
    "        return X/256\n",
    "    else: #otro\n",
    "        return X*0.5\n",
    "    "
   ]
  },
  {
   "cell_type": "markdown",
   "metadata": {},
   "source": [
    "## C)"
   ]
  },
  {
   "cell_type": "code",
   "execution_count": 16,
   "metadata": {
    "collapsed": false
   },
   "outputs": [
    {
     "ename": "ImportError",
     "evalue": "No module named deepy.dataset",
     "output_type": "error",
     "traceback": [
      "\u001b[0;31m---------------------------------------------------------------------------\u001b[0m",
      "\u001b[0;31mImportError\u001b[0m                               Traceback (most recent call last)",
      "\u001b[0;32m<ipython-input-16-f483c2aef201>\u001b[0m in \u001b[0;36m<module>\u001b[0;34m()\u001b[0m\n\u001b[1;32m      2\u001b[0m \u001b[0;32mfrom\u001b[0m \u001b[0msklearn\u001b[0m\u001b[0;34m.\u001b[0m\u001b[0mpreprocessing\u001b[0m \u001b[0;32mimport\u001b[0m \u001b[0mStandardScaler\u001b[0m\u001b[0;34m\u001b[0m\u001b[0m\n\u001b[1;32m      3\u001b[0m \u001b[0;34m\u001b[0m\u001b[0m\n\u001b[0;32m----> 4\u001b[0;31m \u001b[0;32mfrom\u001b[0m \u001b[0mdeepy\u001b[0m\u001b[0;34m.\u001b[0m\u001b[0mdataset\u001b[0m \u001b[0;32mimport\u001b[0m \u001b[0mMnistDataset\u001b[0m\u001b[0;34m,\u001b[0m \u001b[0mMiniBatches\u001b[0m\u001b[0;34m\u001b[0m\u001b[0m\n\u001b[0m\u001b[1;32m      5\u001b[0m \u001b[0;32mfrom\u001b[0m \u001b[0mdeepy\u001b[0m\u001b[0;34m.\u001b[0m\u001b[0mnetworks\u001b[0m \u001b[0;32mimport\u001b[0m \u001b[0mNeuralClassifier\u001b[0m\u001b[0;34m\u001b[0m\u001b[0m\n\u001b[1;32m      6\u001b[0m \u001b[0;32mfrom\u001b[0m \u001b[0mdeepy\u001b[0m\u001b[0;34m.\u001b[0m\u001b[0mlayers\u001b[0m \u001b[0;32mimport\u001b[0m \u001b[0mDense\u001b[0m\u001b[0;34m,\u001b[0m \u001b[0mSoftmax\u001b[0m\u001b[0;34m,\u001b[0m \u001b[0mDropout\u001b[0m\u001b[0;34m\u001b[0m\u001b[0m\n",
      "\u001b[0;31mImportError\u001b[0m: No module named deepy.dataset"
     ]
    }
   ],
   "source": [
    "from keras.utils.np_utils import to_categorical\n",
    "from sklearn.preprocessing import StandardScaler\n",
    "\n",
    "from deepy.dataset import MnistDataset, MiniBatches\n",
    "from deepy.networks import NeuralClassifier\n",
    "from deepy.layers import Dense, Softmax, Dropout\n",
    "from deepy.trainers import MomentumTrainer, LearningRateAnnealer\n",
    "\n",
    "def scaler_function(X_train,X_test,scale=True):\n",
    "    scaler = StandardScaler(with_std=scale).fit(X_train)\n",
    "    X_train_scaled = scaler.transform(X_train)\n",
    "    Xt_scaled = scaler.transform(X_test)\n",
    "    return X_train_scaled, Xt_scaled\n",
    "\n",
    "\n",
    "X_train,X_val = scaler_function(X_train,X_val)\n",
    "\n",
    "print Y_val, Y_train\n",
    "print X_train, X_val\n",
    "\n",
    "#Y_train = to_categorical(Y_train)\n",
    "#Y_val = to_categorical(Y_val)\n",
    "\n",
    "from keras.models import Sequential\n",
    "from keras.layers import Dense, Activation\n",
    "from keras.optimizers import SGD\n",
    "\n",
    "model = Sequential()\n",
    "model.add(Dense(100, input_dim=X_train.shape[1], init='uniform', activation='relu'))\n",
    "model.add(Dropout(0.1))\n",
    "model.add(Dense(10, init='uniform', activation='softmax'))\n",
    "model.compile(optimizer=SGD(lr=0.05), loss='binary_crossentropy', metrics=['accuracy'])\n",
    "model.fit(X_train, Y_train, nb_epoch=50, batch_size=32, verbose=1, validation_data=(X_val,Y_val))\n",
    "scores = model.evaluate(X_val, Y_val)\n",
    "test_acc = scores[1]"
   ]
  },
  {
   "cell_type": "markdown",
   "metadata": {},
   "source": [
    "## D)"
   ]
  },
  {
   "cell_type": "code",
   "execution_count": null,
   "metadata": {
    "collapsed": true
   },
   "outputs": [],
   "source": [
    "from top_level_features import hog_features\n",
    "from top_level_features import color_histogram_hsv\n",
    "from top_level_features import extract_features\n",
    "Xtr, Ytr, Xte, Yte = load_CIFAR10(\"datasets/\")\n",
    "features = extract_features(Xtr,[hog_features]) #extrae hog features\n",
    "features = extract_features(Xtr,[color_histogram_hsv]) #extrae histogramas de color\n",
    "features = extract_features(Xtr,[hog_features, color_histogram_hsv]) #extrae todo\n",
    "print Xtr.shape\n",
    "print features.shape"
   ]
  },
  {
   "cell_type": "markdown",
   "metadata": {},
   "source": [
    "## E)"
   ]
  },
  {
   "cell_type": "code",
   "execution_count": null,
   "metadata": {
    "collapsed": true
   },
   "outputs": [],
   "source": []
  },
  {
   "cell_type": "markdown",
   "metadata": {},
   "source": [
    "## F)"
   ]
  },
  {
   "cell_type": "code",
   "execution_count": null,
   "metadata": {
    "collapsed": true
   },
   "outputs": [],
   "source": []
  }
 ],
 "metadata": {
  "kernelspec": {
   "display_name": "Python 2",
   "language": "python",
   "name": "python2"
  },
  "language_info": {
   "codemirror_mode": {
    "name": "ipython",
    "version": 2
   },
   "file_extension": ".py",
   "mimetype": "text/x-python",
   "name": "python",
   "nbconvert_exporter": "python",
   "pygments_lexer": "ipython2",
   "version": "2.7.10"
  }
 },
 "nbformat": 4,
 "nbformat_minor": 1
}
