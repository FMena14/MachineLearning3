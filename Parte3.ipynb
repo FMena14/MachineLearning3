{
 "cells": [
  {
   "cell_type": "markdown",
   "metadata": {},
   "source": [
    "# Reconocimiento de Imágenes en CIFAR10"
   ]
  },
  {
   "cell_type": "markdown",
   "metadata": {
    "collapsed": true
   },
   "source": [
    "Para experimentar con el reconocimiento de imágenes y la clasificación se estudia el dataset *CIFAR10*, el cual contiene 60.000 imagenes de 32 $\\times$ 32 (pixeles), donde cada imagen pertenece a una de las diez clases, clasificación excluyente (gato, perro, rana, caballo, pájaro, ciervo, avión, automóvil, camión y barco). Los datos vienen estructurado en un formato RGB, donde cada imagen (fila del dataset) corresponde a 3072 características, dividido en los 3 canales de RGB (1024 cada uno) correspondiente a cada imagen.  \n",
    "Los datos vienen separados en datos de entrenamiento y de pruebas, para un estudio eficiente con las técnicas *redes neuronales*, *arboles* y *SVM*, analizando las distintas representaciones de imágenes viendo su efecto."
   ]
  },
  {
   "cell_type": "code",
   "execution_count": 71,
   "metadata": {
    "collapsed": false,
    "scrolled": true
   },
   "outputs": [
    {
     "name": "stdout",
     "output_type": "stream",
     "text": [
      "[[ 59  43  50 ..., 140  84  72]\n",
      " [154 126 105 ..., 139 142 144]\n",
      " [255 253 253 ...,  83  83  84]\n",
      " ..., \n",
      " [ 71  60  74 ...,  68  69  68]\n",
      " [250 254 211 ..., 215 255 254]\n",
      " [ 62  61  60 ..., 130 130 131]]\n",
      "min value 0\n",
      "max value 255\n",
      "[[ 154.  126.  105. ...,   91.   87.   79.]\n",
      " [ 140.  145.  125. ...,   96.   77.   71.]\n",
      " [ 140.  139.  115. ...,   79.   68.   67.]\n",
      " ..., \n",
      " [ 175.  156.  154. ...,   42.   61.   93.]\n",
      " [ 165.  156.  159. ...,  103.  123.  131.]\n",
      " [ 163.  158.  163. ...,  143.  143.  143.]]\n",
      "[[ 177.  137.  104. ...,   95.   90.   81.]\n",
      " [ 160.  153.  125. ...,   99.   80.   73.]\n",
      " [ 155.  146.  115. ...,   82.   70.   69.]\n",
      " ..., \n",
      " [ 167.  154.  160. ...,   34.   53.   83.]\n",
      " [ 154.  152.  161. ...,   93.  114.  121.]\n",
      " [ 148.  148.  156. ...,  133.  134.  133.]]\n",
      "[[ 187.  136.   95. ...,   71.   71.   70.]\n",
      " [ 169.  154.  118. ...,   78.   62.   61.]\n",
      " [ 164.  149.  112. ...,   64.   55.   55.]\n",
      " ..., \n",
      " [ 166.  160.  170. ...,   36.   57.   91.]\n",
      " [ 128.  130.  142. ...,   96.  120.  131.]\n",
      " [ 120.  122.  133. ...,  139.  142.  144.]]\n"
     ]
    },
    {
     "data": {
      "image/png": "[encoded data removed]",
      "text/plain": [
       "<matplotlib.figure.Figure at 0x7f717cb4b990>"
      ]
     },
     "metadata": {},
     "output_type": "display_data"
    },
    {
     "name": "stdout",
     "output_type": "stream",
     "text": [
      "truck\n"
     ]
    }
   ],
   "source": [
    "def unpickle(file):\n",
    "    import cPickle\n",
    "    fo = open(file, 'rb')\n",
    "    dict = cPickle.load(fo)\n",
    "    fo.close()\n",
    "    return dict\n",
    "\n",
    "dict1 = unpickle(\"datasets/data_batch_1\")\n",
    "X = dict1[\"data\"]\n",
    "print X\n",
    "print \"min value\" ,min(X[0])\n",
    "print \"max value\" ,max(X[0])\n",
    "\n",
    "label_names = [\"airplane\", \"automobile\", \"bird\", \"cat\", \"deer\", \"dog\", \"frog\", \"horse\", \"ship\", \"truck\"]\n",
    "\n",
    "import numpy as np\n",
    "m = 1\n",
    "aux = X[m].copy()\n",
    "\n",
    "ima = np.zeros((32,32,3))\n",
    "\n",
    "canal_r = np.zeros((32,32))\n",
    "j = 0\n",
    "i= 0\n",
    "for k in range(1024):\n",
    "    if i < 32:\n",
    "        canal_r[j,i] = aux[k]\n",
    "        ima[j,i,0]= aux[k]\n",
    "        i+=1\n",
    "    else:\n",
    "        j+=1\n",
    "        i = 0\n",
    "        canal_r[j,i] = aux[k]\n",
    "        ima[j,i,0]= aux[k]\n",
    "        i+=1\n",
    "\n",
    "canal_g = np.zeros((32,32))\n",
    "j = 0\n",
    "i= 0\n",
    "for k in range(1024,2048):\n",
    "    if i < 32:\n",
    "        canal_g[j][i] = aux[k]\n",
    "        ima[j,i,1]= aux[k]\n",
    "        i+=1\n",
    "    else:\n",
    "        j+=1\n",
    "        i = 0\n",
    "        canal_g[j][i] = aux[k]\n",
    "        ima[j,i,1]= aux[k]\n",
    "        i+=1\n",
    "\n",
    "canal_b = np.zeros((32,32))\n",
    "j = 0\n",
    "i= 0\n",
    "for k in range(2048,3072):\n",
    "    if i < 32:\n",
    "        canal_b[j][i] = aux[k]\n",
    "        ima[j,i,2]= aux[k]\n",
    "        i+=1\n",
    "    else:\n",
    "        j+=1\n",
    "        i = 0\n",
    "        canal_b[j][i] = aux[k]\n",
    "        ima[j,i,2]= aux[k]\n",
    "        i+=1\n",
    "        \n",
    "print  canal_r\n",
    "print  canal_g\n",
    "print canal_b\n",
    "\n",
    "image = [canal_r,canal_g,canal_b]\n",
    "#ima = im.reshape(3,32,32).transpose(1,2,0)\n",
    "#im = np.reshape(image, (32,32,3))\n",
    "\n",
    "import matplotlib.pyplot as plt\n",
    "plt.figure(figsize=(2,2))\n",
    "plt.imshow(ima)\n",
    "\n",
    "#plt.imshow(canal_r)\n",
    "#plt.imshow(canal_g)\n",
    "#plt.imshow(canal_b)\n",
    "plt.show()\n",
    "\n",
    "print label_names[dict1['labels'][m]]"
   ]
  },
  {
   "cell_type": "markdown",
   "metadata": {},
   "source": [
    "Como se ve en lo anterior cada pixel de cada imágen tiene un rango en el que varía, entre 0 y 255, siendo 0 la intensidad mínima del pixel en ese canal y 255 la intensidad máxima"
   ]
  },
  {
   "cell_type": "markdown",
   "metadata": {},
   "source": [
    "## A)"
   ]
  },
  {
   "cell_type": "code",
   "execution_count": 1,
   "metadata": {
    "collapsed": false
   },
   "outputs": [
    {
     "name": "stdout",
     "output_type": "stream",
     "text": [
      "Training set shape:  (42567, 3072)\n",
      "Validation set shape:  (7433, 3072)\n",
      "Test set shape:  (10000, 3072)\n"
     ]
    }
   ],
   "source": [
    "from scipy.misc import imread\n",
    "import cPickle as pickle\n",
    "import numpy as np\n",
    "import os\n",
    "\n",
    "def load_CIFAR_one(filename):\n",
    "    with open(filename, \"rb\") as f:\n",
    "        datadict = pickle.load(f)\n",
    "        X = datadict[\"data\"]\n",
    "        Y = datadict[\"labels\"]\n",
    "        return X, np.array(Y)\n",
    "\n",
    "def load_CIFAR10(PATH):\n",
    "    xs = []\n",
    "    ys = []\n",
    "    for b in range(1,6):\n",
    "        f = os.path.join(PATH, \"data_batch_%d\" % (b, ))\n",
    "        X, Y = load_CIFAR_one(f)\n",
    "        xs.append(X)\n",
    "        ys.append(Y)\n",
    "    Xtr = np.concatenate(xs)\n",
    "    Ytr = np.concatenate(ys)\n",
    "    del X, Y\n",
    "    \n",
    "    Xte, Yte = load_CIFAR_one(os.path.join(PATH, \"test_batch\"))\n",
    "    \n",
    "    #adding Xval\n",
    "    index = np.arange(np.shape(Xtr)[0]) #filas \n",
    "    np.random.shuffle(index) #permutan las filas\n",
    "    X = Xtr[index, :] #matriz permutada\n",
    "    Y = Ytr[index]\n",
    "\n",
    "    #l =  np.random.randint(1000,10000) #entrego 7433\n",
    "    n = Xtr.shape[0]\n",
    "    l = 7433\n",
    "    \n",
    "    Xval,Xtr = np.split(X,[l])\n",
    "    Yval,Ytr = np.split(Y,[l])\n",
    "    \n",
    "    return Xtr, Ytr, Xte, Yte,Xval,Yval\n",
    "\n",
    "X_train,Y_train, X_test,Y_test, X_val,Y_val = load_CIFAR10('datasets/')\n",
    "\n",
    "print 'Training set shape: ',X_train.shape\n",
    "print 'Validation set shape: ',X_val.shape\n",
    "print 'Test set shape: ',X_test.shape "
   ]
  },
  {
   "cell_type": "markdown",
   "metadata": {},
   "source": [
    "En primer lugar, se construye una funcion que carga los bloques de entrenamiento, de pruebas y de validacion del dataset en las matrices $X_{train}$, $Y_{train}$, $X_{test}$, $Y_{test}$ y $X_{val}$, $Y_{val}$ respectivamente. El *validation set* es creado a partir del *training set*. Las filas de estas matrices representan cada imagen del dataset, siendo los valores de la fila valores enteros de 0 a 255, que representan los valores de los colores que vienen por los canales *R*,*G* y *B*.\n",
    "\n",
    "Se puede observar que la matriz $X_{train}$ posee 42567 filas, es decir, 42567 imagenes de entrenamiento. Por otro lado $X_{val}$ posee 7433 imagenes de validación y $X_{test}$ 10000 imágenes de prueba. Las 10 etiquetas están codificadas en números enteros del 0 al 9.  \n",
    "Es importante destacar que las matrices $X_{train}$ y $X_{val}$ son creadas de manera aleatoria seleccionando las filas permutadas, por lo que cada vez que se ejecute esta celda tendrá distintos resultados en las celdas siguientes, pudiendo no ser exacamente las mismas mediciones de las métricas."
   ]
  },
  {
   "cell_type": "code",
   "execution_count": 34,
   "metadata": {
    "collapsed": false
   },
   "outputs": [
    {
     "name": "stdout",
     "output_type": "stream",
     "text": [
      "[8 4 3 ..., 9 8 1]\n",
      "[7 8 6 ..., 4 9 5]\n"
     ]
    }
   ],
   "source": [
    "print Y_train\n",
    "print Y_val"
   ]
  },
  {
   "cell_type": "markdown",
   "metadata": {},
   "source": [
    "## B) Escalamiento"
   ]
  },
  {
   "cell_type": "code",
   "execution_count": 50,
   "metadata": {
    "collapsed": false
   },
   "outputs": [
    {
     "name": "stdout",
     "output_type": "stream",
     "text": [
      "[-0.13249248 -0.47108013 -0.23583723 ...,  1.66997933  1.49140394\n",
      "  1.6603111 ]\n"
     ]
    },
    {
     "data": {
      "image/png": "[encoded data removed]",
      "text/plain": [
       "<matplotlib.figure.Figure at 0x7f5991e1a850>"
      ]
     },
     "metadata": {},
     "output_type": "display_data"
    },
    {
     "name": "stdout",
     "output_type": "stream",
     "text": [
      "[ 0.4745098   0.37647059  0.44705882 ...,  0.87058824  0.82745098\n",
      "  0.87843137]\n"
     ]
    },
    {
     "data": {
      "image/png": "[encoded data removed]",
      "text/plain": [
       "<matplotlib.figure.Figure at 0x7f59937724d0>"
      ]
     },
     "metadata": {},
     "output_type": "display_data"
    },
    {
     "name": "stdout",
     "output_type": "stream",
     "text": [
      "[0 0 0 ..., 1 1 1]\n"
     ]
    },
    {
     "data": {
      "image/png": "[encoded data removed]",
      "text/plain": [
       "<matplotlib.figure.Figure at 0x7f598f052ed0>"
      ]
     },
     "metadata": {},
     "output_type": "display_data"
    }
   ],
   "source": [
    "# Escalar y centrar datos\n",
    "from sklearn.preprocessing import StandardScaler\n",
    "from sklearn.tree import DecisionTreeClassifier as Tree\n",
    "from keras.utils.np_utils import to_categorical\n",
    "\n",
    "def scaler_t(X,Xv,Xt,scaler_type):\n",
    "    if scaler_type == \"standar\":\n",
    "        scaler= StandardScaler(with_std=True).fit(X)\n",
    "        return scaler.transform(X), scaler.transform(Xv), scaler.transform(Xt)\n",
    "    elif scaler_type == \"int_max\":\n",
    "        aux = [ X/255.0, Xv/255.0, Xt/255.0 ]\n",
    "        newX = aux[0].copy()\n",
    "        newXv = aux[1].copy()\n",
    "        newXt = aux[2].copy()\n",
    "        #newX[ newX <0.2] = 1\n",
    "        #newX[ newX > 0.8] = 1\n",
    "        #newXv[ newXv <0.2] = 1\n",
    "        #newXv[ newXv > 0.8] = 1\n",
    "        #newXt[ newXt <0.2] = 1\n",
    "        #newXt[ newXt > 0.8] = 1\n",
    "        return newX,newXv,newXt\n",
    "    elif scaler_type == \"zeros_ones\":\n",
    "        newX = X.copy()\n",
    "        newXv = Xv.copy()\n",
    "        newXt = Xt.copy()\n",
    "        newX[ newX <128] = 0\n",
    "        newX[ newX > 127] = 1\n",
    "        newXv[ newXv <128] = 0\n",
    "        newXv[ newXv > 127] = 1\n",
    "        newXt[ newXt < 128] = 0\n",
    "        newXt[ newXt > 127] = 1\n",
    "        return newX,newXv,newXt\n",
    "    else: #otro\n",
    "        return X*0.5\n",
    "\n",
    "X,Xv,Xt = scaler_t(X_train,X_val,X_test,\"standar\")\n",
    "print X[0]\n",
    "\n",
    "\n",
    "aux = X[0].copy()\n",
    "\n",
    "ima = np.zeros((32,32,3))\n",
    "\n",
    "canal_r = np.zeros((32,32))\n",
    "j = 0\n",
    "i= 0\n",
    "for k in range(1024):\n",
    "    if i < 32:\n",
    "        canal_r[j,i] = aux[k]\n",
    "        ima[j,i,0]= aux[k]\n",
    "        i+=1\n",
    "    else:\n",
    "        j+=1\n",
    "        i = 0\n",
    "        canal_r[j,i] = aux[k]\n",
    "        ima[j,i,0]= aux[k]\n",
    "        i+=1\n",
    "\n",
    "canal_g = np.zeros((32,32))\n",
    "j = 0\n",
    "i= 0\n",
    "for k in range(1024,2048):\n",
    "    if i < 32:\n",
    "        canal_g[j][i] = aux[k]\n",
    "        ima[j,i,1]= aux[k]\n",
    "        i+=1\n",
    "    else:\n",
    "        j+=1\n",
    "        i = 0\n",
    "        canal_g[j][i] = aux[k]\n",
    "        ima[j,i,1]= aux[k]\n",
    "        i+=1\n",
    "\n",
    "canal_b = np.zeros((32,32))\n",
    "j = 0\n",
    "i= 0\n",
    "for k in range(2048,3072):\n",
    "    if i < 32:\n",
    "        canal_b[j][i] = aux[k]\n",
    "        ima[j,i,2]= aux[k]\n",
    "        i+=1\n",
    "    else:\n",
    "        j+=1\n",
    "        i = 0\n",
    "        canal_b[j][i] = aux[k]\n",
    "        ima[j,i,2]= aux[k]\n",
    "        i+=1\n",
    "\n",
    "import matplotlib.pyplot as plt\n",
    "plt.figure(figsize=(2,2))\n",
    "plt.imshow(ima)\n",
    "plt.show()\n",
    "\n",
    "X,Xv,Xt = scaler_t(X_train,X_val,X_test,\"int_max\")\n",
    "print X[0]\n",
    "\n",
    "aux = X[0].copy()\n",
    "\n",
    "ima = np.zeros((32,32,3))\n",
    "\n",
    "canal_r = np.zeros((32,32))\n",
    "j = 0\n",
    "i= 0\n",
    "for k in range(1024):\n",
    "    if i < 32:\n",
    "        canal_r[j,i] = aux[k]\n",
    "        ima[j,i,0]= aux[k]\n",
    "        i+=1\n",
    "    else:\n",
    "        j+=1\n",
    "        i = 0\n",
    "        canal_r[j,i] = aux[k]\n",
    "        ima[j,i,0]= aux[k]\n",
    "        i+=1\n",
    "\n",
    "canal_g = np.zeros((32,32))\n",
    "j = 0\n",
    "i= 0\n",
    "for k in range(1024,2048):\n",
    "    if i < 32:\n",
    "        canal_g[j][i] = aux[k]\n",
    "        ima[j,i,1]= aux[k]\n",
    "        i+=1\n",
    "    else:\n",
    "        j+=1\n",
    "        i = 0\n",
    "        canal_g[j][i] = aux[k]\n",
    "        ima[j,i,1]= aux[k]\n",
    "        i+=1\n",
    "\n",
    "canal_b = np.zeros((32,32))\n",
    "j = 0\n",
    "i= 0\n",
    "for k in range(2048,3072):\n",
    "    if i < 32:\n",
    "        canal_b[j][i] = aux[k]\n",
    "        ima[j,i,2]= aux[k]\n",
    "        i+=1\n",
    "    else:\n",
    "        j+=1\n",
    "        i = 0\n",
    "        canal_b[j][i] = aux[k]\n",
    "        ima[j,i,2]= aux[k]\n",
    "        i+=1\n",
    "\n",
    "import matplotlib.pyplot as plt\n",
    "plt.figure(figsize=(2,2))\n",
    "plt.imshow(ima)\n",
    "plt.show()\n",
    "\n",
    "X,Xv,Xt = scaler_t(X_train,X_val,X_test,\"zeros_ones\")\n",
    "print X[0]\n",
    "\n",
    "\n",
    "aux = X[0].copy()\n",
    "\n",
    "ima = np.zeros((32,32,3))\n",
    "\n",
    "canal_r = np.zeros((32,32))\n",
    "j = 0\n",
    "i= 0\n",
    "for k in range(1024):\n",
    "    if i < 32:\n",
    "        canal_r[j,i] = aux[k]\n",
    "        ima[j,i,0]= aux[k]\n",
    "        i+=1\n",
    "    else:\n",
    "        j+=1\n",
    "        i = 0\n",
    "        canal_r[j,i] = aux[k]\n",
    "        ima[j,i,0]= aux[k]\n",
    "        i+=1\n",
    "\n",
    "canal_g = np.zeros((32,32))\n",
    "j = 0\n",
    "i= 0\n",
    "for k in range(1024,2048):\n",
    "    if i < 32:\n",
    "        canal_g[j][i] = aux[k]\n",
    "        ima[j,i,1]= aux[k]\n",
    "        i+=1\n",
    "    else:\n",
    "        j+=1\n",
    "        i = 0\n",
    "        canal_g[j][i] = aux[k]\n",
    "        ima[j,i,1]= aux[k]\n",
    "        i+=1\n",
    "\n",
    "canal_b = np.zeros((32,32))\n",
    "j = 0\n",
    "i= 0\n",
    "for k in range(2048,3072):\n",
    "    if i < 32:\n",
    "        canal_b[j][i] = aux[k]\n",
    "        ima[j,i,2]= aux[k]\n",
    "        i+=1\n",
    "    else:\n",
    "        j+=1\n",
    "        i = 0\n",
    "        canal_b[j][i] = aux[k]\n",
    "        ima[j,i,2]= aux[k]\n",
    "        i+=1\n",
    "\n",
    "import matplotlib.pyplot as plt\n",
    "plt.figure(figsize=(2,2))\n",
    "plt.imshow(ima)\n",
    "plt.show()"
   ]
  },
  {
   "cell_type": "markdown",
   "metadata": {},
   "source": [
    "En esta celda se escalan las imágenes, para poder trabajarlas de forma apropiada. Este escalamiento se realiza en base a la intensidad maxima de los pixeles de las imágenes, siendo el 0 la intensidad mínima y el 1 la intensidad máxima (255), estandarizando los datos normalmente o una representación basada en ceros y unos, donde los ceros corresponden a los pixeles bajos y los unos a los pixeles mas altos. Mostrándo una fila de la matriz con este escalamiento para ver el rango de algunos valores."
   ]
  },
  {
   "cell_type": "markdown",
   "metadata": {},
   "source": [
    "## C) ANN - analisis"
   ]
  },
  {
   "cell_type": "code",
   "execution_count": 7,
   "metadata": {
    "collapsed": false
   },
   "outputs": [
    {
     "name": "stdout",
     "output_type": "stream",
     "text": [
      "Para representacion datos normalizados estandar\n",
      "7433/7433 [==============================] - 0s     \n",
      "\n",
      "VALIDATION ACCURACY (activation relu-softmax) = 0.914933\n",
      "7360/7433 [============================>.] - ETA: 0s\n",
      "VALIDATION ACCURACY (activation relu-sigmoid) = 0.917839\n",
      "7392/7433 [============================>.] - ETA: 0s\n",
      "VALIDATION ACCURACY (optimizer RMSprop and activation relu-sigmoid) = 0.908772\n",
      "------------------------------------------------\n",
      "Para representacion datos escalados por la intensidad maxima (0-255 pasa a 0-1)\n",
      "7433/7433 [==============================] - 0s     \n",
      "\n",
      "VALIDATION ACCURACY (activation relu-softmax) = 0.917476\n",
      "7232/7433 [============================>.] - ETA: 0s\n",
      "VALIDATION ACCURACY (activation relu-sigmoid)= 0.915552\n",
      "------------------------------------------------\n",
      "Para representacion datos escalados llevados a 0 o 1(0-127 pasa a 0 y 128-255 pasa a 1)\n",
      "7360/7433 [============================>.] - ETA: 0s\n",
      "VALIDATION ACCURACY (activation relu-softmax) = 0.902502\n",
      "7168/7433 [===========================>..] - ETA: 0s\n",
      "VALIDATION ACCURACY (activation relu-softmax) loss categorical = 0.361496\n",
      "7264/7433 [============================>.] - ETA: 0s\n",
      "VALIDATION ACCURACY (activation relu-softmax) l=1  = 0.115566\n",
      "7232/7433 [============================>.] - ETA: 0s\n",
      "VALIDATION ACCURACY (activation relu-sigmoid)= 0.905341\n"
     ]
    }
   ],
   "source": [
    "from keras.utils.np_utils import to_categorical\n",
    "from sklearn.preprocessing import StandardScaler\n",
    "from keras.models import Sequential\n",
    "from keras.layers import Dense, Activation,Dropout\n",
    "from keras.optimizers import SGD,RMSprop\n",
    "\n",
    "\n",
    "Xtr,Xv,Xt = scaler_t(X_train,X_val,X_test,\"standar\")\n",
    "Ytr = to_categorical(Y_train)\n",
    "Yv = to_categorical(Y_val)\n",
    "Yt = to_categorical(Y_test)\n",
    "print \"Para representacion datos normalizados estandar\"\n",
    "\n",
    "#experimentar variando valores\n",
    "model = Sequential()\n",
    "model.add(Dense(100, input_dim=Xtr.shape[1], init='uniform', activation='relu'))\n",
    "model.add(Dropout(0.1))\n",
    "model.add(Dense(10, init='uniform', activation='softmax'))\n",
    "model.compile(optimizer=SGD(lr=0.05), loss='binary_crossentropy', metrics=['accuracy'])\n",
    "model.fit(Xtr, Ytr, nb_epoch=50, batch_size=32, verbose=0, validation_data=(Xv,Yv))\n",
    "scores = model.evaluate(Xv, Yv)\n",
    "print \"\\nVALIDATION ACCURACY (activation relu-softmax) = %f\"% scores[1]\n",
    "\n",
    "model = Sequential()\n",
    "model.add(Dense(100, input_dim=Xtr.shape[1], init='uniform', activation='relu'))\n",
    "model.add(Dropout(0.1))\n",
    "model.add(Dense(10, init='uniform', activation='sigmoid'))\n",
    "model.compile(optimizer=SGD(lr=0.05), loss='binary_crossentropy', metrics=['accuracy'])\n",
    "model.fit(Xtr, Ytr, nb_epoch=50, batch_size=32, verbose=0, validation_data=(Xv,Yv))\n",
    "scores = model.evaluate(Xv, Yv)\n",
    "print \"\\nVALIDATION ACCURACY (activation relu-sigmoid) = %f\"% scores[1]\n",
    "\n",
    "model = Sequential()\n",
    "model.add(Dense(100, input_dim=Xtr.shape[1], init='uniform', activation='relu'))\n",
    "model.add(Dropout(0.1))\n",
    "model.add(Dense(10, init='uniform', activation='sigmoid'))\n",
    "model.compile(optimizer=RMSprop(), loss='binary_crossentropy', metrics=['accuracy'])\n",
    "model.fit(Xtr, Ytr, nb_epoch=50, batch_size=32, verbose=0, validation_data=(Xv,Yv))\n",
    "scores = model.evaluate(Xv, Yv)\n",
    "print \"\\nVALIDATION ACCURACY (optimizer RMSprop and activation relu-sigmoid) = %f\"% scores[1]\n",
    "\n",
    "print \"------------------------------------------------\"\n",
    "\n",
    "Xtr,Xv,Xt = scaler_t(X_train,X_val,X_test,\"int_max\")\n",
    "Ytr = to_categorical(Y_train)\n",
    "Yv = to_categorical(Y_val)\n",
    "Yt = to_categorical(Y_test)\n",
    "print \"Para representacion datos escalados por la intensidad maxima (0-255 pasa a 0-1)\"\n",
    "\n",
    "#experimentar variando valores\n",
    "model = Sequential()\n",
    "model.add(Dense(100, input_dim=Xtr.shape[1], init='uniform', activation='relu'))\n",
    "model.add(Dropout(0.1))\n",
    "model.add(Dense(10, init='uniform', activation='softmax'))\n",
    "model.compile(optimizer=SGD(lr=0.05), loss='binary_crossentropy', metrics=['accuracy'])\n",
    "model.fit(Xtr, Ytr, nb_epoch=50, batch_size=32, verbose=0, validation_data=(Xv,Yv))\n",
    "scores = model.evaluate(Xv, Yv)\n",
    "print \"\\nVALIDATION ACCURACY (activation relu-softmax) = %f\"% scores[1]\n",
    "\n",
    "#experimentar variando valores\n",
    "model = Sequential()\n",
    "model.add(Dense(100, input_dim=Xtr.shape[1], init='uniform', activation='relu'))\n",
    "model.add(Dropout(0.1))\n",
    "model.add(Dense(10, init='uniform', activation='sigmoid'))\n",
    "model.compile(optimizer=SGD(lr=0.05), loss='binary_crossentropy', metrics=['accuracy'])\n",
    "model.fit(Xtr, Ytr, nb_epoch=50, batch_size=32, verbose=0, validation_data=(Xv,Yv))\n",
    "scores = model.evaluate(Xv, Yv)\n",
    "print \"\\nVALIDATION ACCURACY (activation relu-sigmoid)= %f\"% scores[1]\n",
    "\n",
    "print \"------------------------------------------------\"\n",
    "Xtr,Xv,Xt = scaler_t(X_train,X_val,X_test,\"zeros_ones\")\n",
    "Ytr = to_categorical(Y_train)\n",
    "Yv = to_categorical(Y_val)\n",
    "Yt = to_categorical(Y_test)\n",
    "print \"Para representacion datos escalados llevados a 0 o 1(0-127 pasa a 0 y 128-255 pasa a 1)\"\n",
    "\n",
    "#experimentar variando valores\n",
    "model = Sequential()\n",
    "model.add(Dense(100, input_dim=Xtr.shape[1], init='uniform', activation='relu'))\n",
    "model.add(Dropout(0.1))\n",
    "model.add(Dense(10, init='uniform', activation='softmax'))\n",
    "model.compile(optimizer=SGD(lr=0.05), loss='binary_crossentropy', metrics=['accuracy'])\n",
    "model.fit(Xtr, Ytr, nb_epoch=50, batch_size=32, verbose=0, validation_data=(Xv,Yv))\n",
    "scores = model.evaluate(Xv, Yv)\n",
    "print \"\\nVALIDATION ACCURACY (activation relu-softmax) = %f\"% scores[1]\n",
    "\n",
    "model = Sequential()\n",
    "model.add(Dense(100, input_dim=Xtr.shape[1], init='uniform', activation='relu'))\n",
    "model.add(Dropout(0.1))\n",
    "model.add(Dense(10, init='uniform', activation='softmax'))\n",
    "model.compile(optimizer=SGD(lr=0.05), loss='categorical_crossentropy', metrics=['accuracy'])\n",
    "model.fit(Xtr, Ytr, nb_epoch=50, batch_size=32, verbose=0, validation_data=(Xv,Yv))\n",
    "scores = model.evaluate(Xv, Yv)\n",
    "print \"\\nVALIDATION ACCURACY (activation relu-softmax) loss categorical = %f\"% scores[1]\n",
    "\n",
    "model = Sequential()\n",
    "model.add(Dense(100, input_dim=Xtr.shape[1], init='uniform', activation='relu'))\n",
    "model.add(Dropout(0.1))\n",
    "model.add(Dense(10, init='uniform', activation='softmax'))\n",
    "model.compile(optimizer=SGD(lr=1), loss='categorical_crossentropy', metrics=['accuracy'])\n",
    "model.fit(Xtr, Ytr, nb_epoch=50, batch_size=32, verbose=0, validation_data=(Xv,Yv))\n",
    "scores = model.evaluate(Xv, Yv)\n",
    "print \"\\nVALIDATION ACCURACY (activation relu-softmax) l=1  = %f\"% scores[1]\n",
    "\n",
    "model = Sequential()\n",
    "model.add(Dense(100, input_dim=Xtr.shape[1], init='uniform', activation='relu'))\n",
    "model.add(Dropout(0.1))\n",
    "model.add(Dense(10, init='uniform', activation='sigmoid'))\n",
    "model.compile(optimizer=SGD(lr=0.05), loss='binary_crossentropy', metrics=['accuracy'])\n",
    "model.fit(Xtr, Ytr, nb_epoch=50, batch_size=32, verbose=0, validation_data=(Xv,Yv))\n",
    "scores = model.evaluate(Xv, Yv)\n",
    "print \"\\nVALIDATION ACCURACY (activation relu-sigmoid)= %f\"% scores[1]"
   ]
  },
  {
   "cell_type": "markdown",
   "metadata": {},
   "source": [
    "En la celda anterior se ajusta una red neuronal con distintas arquitecturas para distintos escalamiento de los datos, midiendo el score (*accuracy*) sobre el *validation set* logrando decidir que la mejor configuración es la de usar funciones de activaciones \"relu\" y \"softmax\" para las 2 capas que posee, con la representación RGB de los datos normalizados de manera estándar. A continuación se presenta el efecto de esta configuración sobre el *test set*."
   ]
  },
  {
   "cell_type": "code",
   "execution_count": 56,
   "metadata": {
    "collapsed": false
   },
   "outputs": [
    {
     "name": "stdout",
     "output_type": "stream",
     "text": [
      " 9920/10000 [============================>.] - ETA: 0s\n",
      "TEST ACCURACY (activation relu-sigmoid) = 0.915720\n"
     ]
    }
   ],
   "source": [
    "from keras.utils.np_utils import to_categorical\n",
    "from sklearn.preprocessing import StandardScaler\n",
    "from keras.models import Sequential\n",
    "from keras.layers import Dense, Activation,Dropout\n",
    "from keras.optimizers import SGD,RMSprop\n",
    "\n",
    "Xtr,Xv,Xt = scaler_t(X_train,X_val,X_test,\"standar\")\n",
    "Ytr = to_categorical(Y_train)\n",
    "Yv = to_categorical(Y_val)\n",
    "Yt = to_categorical(Y_test)\n",
    "model = Sequential()\n",
    "model.add(Dense(100, input_dim=Xtr.shape[1], init='uniform', activation='relu'))\n",
    "model.add(Dropout(0.1))\n",
    "model.add(Dense(10, init='uniform', activation='sigmoid'))\n",
    "model.compile(optimizer=SGD(lr=0.01), loss='binary_crossentropy', metrics=['accuracy'])\n",
    "model.fit(Xtr, Ytr, nb_epoch=50, batch_size=32, verbose=0, validation_data=(Xv,Yv))\n",
    "scores = model.evaluate(Xt, Yt)\n",
    "print \"\\nTEST ACCURACY (activation relu-sigmoid) = %f\"% scores[1]"
   ]
  },
  {
   "cell_type": "markdown",
   "metadata": {},
   "source": [
    "Para la configuración descrita anteriormente se logra este *accuracy* de **91,57%**, el cual presenta un error del **8.43%**. Este error es bastante más bajo y mejor de lo que se esperaba (50%), logrando un desempeño muy bueno para la red neuronal con la representación en pixeles RGB de los datos, escalados normalmente."
   ]
  },
  {
   "cell_type": "markdown",
   "metadata": {},
   "source": [
    "## D) Cambio de Representación"
   ]
  },
  {
   "cell_type": "code",
   "execution_count": 6,
   "metadata": {
    "collapsed": false
   },
   "outputs": [
    {
     "name": "stdout",
     "output_type": "stream",
     "text": [
      "(42567, 3072)\n",
      "(42567, 32, 32, 3)\n",
      "Dimensiones de representacion segun histograma de gradientes:  (42567, 144)\n",
      "(42567, 32, 32, 3)\n",
      "Dimensiones de representacion segun histogramas de color:  (42567, 10)\n",
      "(42567, 32, 32, 3)\n",
      "Dimensiones de representacion mixta:  (42567, 154)\n"
     ]
    }
   ],
   "source": [
    "from top_level_features import hog_features\n",
    "from top_level_features import color_histogram_hsv\n",
    "from top_level_features import extract_features\n",
    "X_train, Y_train, X_test, Y_test,X_val,Y_val = load_CIFAR10(\"datasets/\")\n",
    "print X_train.shape\n",
    "\n",
    "features = extract_features(X_train,[hog_features],verbose=0) #extrae hog features\n",
    "print 'Dimensiones de representacion segun histograma de gradientes: ',features.shape\n",
    "features = extract_features(X_train,[color_histogram_hsv]) #extrae histogramas de color\n",
    "print 'Dimensiones de representacion segun histogramas de color: ',features.shape\n",
    "features = extract_features(X_train,[hog_features, color_histogram_hsv]) #extrae todo\n",
    "print 'Dimensiones de representacion mixta: ' ,features.shape"
   ]
  },
  {
   "cell_type": "code",
   "execution_count": 17,
   "metadata": {
    "collapsed": false
   },
   "outputs": [
    {
     "name": "stdout",
     "output_type": "stream",
     "text": [
      "(42567, 32, 32, 3)\n",
      "[[  3.32194895e-01   1.64448115e+00   4.46219183e-01 ...,   8.18646897e+00\n",
      "    4.63544497e+00   2.29394118e+00]\n",
      " [  4.96051127e-02   2.61363985e-02   6.36396103e-03 ...,   1.90190001e-01\n",
      "    3.38697005e+00   2.04692752e+00]\n",
      " [  9.29454678e-02   2.90428455e-02   8.95900307e-02 ...,   1.37256133e+00\n",
      "    5.79300199e-01   1.73592589e+00]\n",
      " ..., \n",
      " [  2.07284821e+00   0.00000000e+00   2.97758765e-01 ...,   2.53072738e+00\n",
      "    3.34485791e+00   1.51639416e+00]\n",
      " [  3.65547688e+00   1.74531750e+00   2.88159287e-01 ...,   7.92665879e-01\n",
      "    1.63063996e-01   1.67007195e-01]\n",
      " [  9.27698766e-03   0.00000000e+00   2.93042087e-02 ...,   9.88066610e-01\n",
      "    1.60122571e+00   2.27116728e-01]]\n",
      "(42567, 144)\n"
     ]
    },
    {
     "ename": "ValueError",
     "evalue": "setting an array element with a sequence.",
     "output_type": "error",
     "traceback": [
      "\u001b[0;31m---------------------------------------------------------------------------\u001b[0m",
      "\u001b[0;31mValueError\u001b[0m                                Traceback (most recent call last)",
      "\u001b[0;32m<ipython-input-17-0017949a3f70>\u001b[0m in \u001b[0;36m<module>\u001b[0;34m()\u001b[0m\n\u001b[1;32m     10\u001b[0m \u001b[0;32mfor\u001b[0m \u001b[0mk\u001b[0m \u001b[0;32min\u001b[0m \u001b[0mrange\u001b[0m\u001b[0;34m(\u001b[0m\u001b[0;36m144\u001b[0m\u001b[0;34m)\u001b[0m\u001b[0;34m:\u001b[0m\u001b[0;34m\u001b[0m\u001b[0m\n\u001b[1;32m     11\u001b[0m     \u001b[0;32mif\u001b[0m \u001b[0mi\u001b[0m \u001b[0;34m<\u001b[0m \u001b[0;36m12\u001b[0m\u001b[0;34m:\u001b[0m\u001b[0;34m\u001b[0m\u001b[0m\n\u001b[0;32m---> 12\u001b[0;31m         \u001b[0mimage\u001b[0m\u001b[0;34m[\u001b[0m\u001b[0mj\u001b[0m\u001b[0;34m,\u001b[0m\u001b[0mi\u001b[0m\u001b[0;34m]\u001b[0m \u001b[0;34m=\u001b[0m \u001b[0mfeat\u001b[0m\u001b[0;34m[\u001b[0m\u001b[0mk\u001b[0m\u001b[0;34m]\u001b[0m\u001b[0;34m\u001b[0m\u001b[0m\n\u001b[0m\u001b[1;32m     13\u001b[0m         \u001b[0mi\u001b[0m\u001b[0;34m+=\u001b[0m\u001b[0;36m1\u001b[0m\u001b[0;34m\u001b[0m\u001b[0m\n\u001b[1;32m     14\u001b[0m     \u001b[0;32melse\u001b[0m\u001b[0;34m:\u001b[0m\u001b[0;34m\u001b[0m\u001b[0m\n",
      "\u001b[0;31mValueError\u001b[0m: setting an array element with a sequence."
     ]
    }
   ],
   "source": [
    "from skimage import data,color,exposure\n",
    "feat = extract_features(X_train,[hog_features],verbose=0) #extrae hog features\n",
    "print feat\n",
    "print feat.shape\n",
    "\n",
    "hog_image = np.zeros((sy, sx), dtype=float)\n",
    "\n",
    "from skimage import draw\n",
    "        \n",
    "for x in range(n_cellsx):\n",
    "    for y in range(n_cellsy):\n",
    "        for o in range(orientations):\n",
    "                centre = tuple([y * cy + cy // 2, x * cx + cx // 2])\n",
    "                dx = radius * cos(float(o) / orientations * np.pi)\n",
    "                dy = radius * sin(float(o) / orientations * np.pi)\n",
    "                rr, cc = draw.bresenham(centre[0] - dx, centre[1] - dy,\n",
    "                                            centre[0] + dx, centre[1] + dy)\n",
    "hog_image[rr, cc] += orientation_histogram[x, y, o]\n",
    "\n",
    "print hog_image"
   ]
  },
  {
   "cell_type": "code",
   "execution_count": 42,
   "metadata": {
    "collapsed": false
   },
   "outputs": [
    {
     "name": "stdout",
     "output_type": "stream",
     "text": [
      "[[  3.32194895e-01   1.64448115e+00   4.46219183e-01 ...,   8.18646897e+00\n",
      "    4.63544497e+00   2.29394118e+00]\n",
      " [  4.96051127e-02   2.61363985e-02   6.36396103e-03 ...,   1.90190001e-01\n",
      "    3.38697005e+00   2.04692752e+00]\n",
      " [  9.29454678e-02   2.90428455e-02   8.95900307e-02 ...,   1.37256133e+00\n",
      "    5.79300199e-01   1.73592589e+00]\n",
      " ..., \n",
      " [  2.07284821e+00   0.00000000e+00   2.97758765e-01 ...,   2.53072738e+00\n",
      "    3.34485791e+00   1.51639416e+00]\n",
      " [  3.65547688e+00   1.74531750e+00   2.88159287e-01 ...,   7.92665879e-01\n",
      "    1.63063996e-01   1.67007195e-01]\n",
      " [  9.27698766e-03   0.00000000e+00   2.93042087e-02 ...,   9.88066610e-01\n",
      "    1.60122571e+00   2.27116728e-01]]\n",
      "[[ 1.          1.          1.         ...,  1.          1.          1.        ]\n",
      " [ 1.          1.          0.31819805 ...,  1.          1.          1.        ]\n",
      " [ 1.          1.          1.         ...,  1.          1.          1.        ]\n",
      " ..., \n",
      " [ 1.          0.          1.         ...,  1.          1.          1.        ]\n",
      " [ 1.          1.          1.         ...,  1.          1.          1.        ]\n",
      " [ 0.46384938  0.          1.         ...,  1.          1.          1.        ]]\n"
     ]
    }
   ],
   "source": [
    "print feat\n",
    "feat_rescaled = exposure.rescale_intensity(feat, in_range=(0, 0.02))\n",
    "print feat_rescaled"
   ]
  },
  {
   "cell_type": "code",
   "execution_count": 48,
   "metadata": {
    "collapsed": false
   },
   "outputs": [
    {
     "data": {
      "image/png": "[encoded data removed]",
      "text/plain": [
       "<matplotlib.figure.Figure at 0x7f5987f36390>"
      ]
     },
     "metadata": {},
     "output_type": "display_data"
    },
    {
     "data": {
      "image/png": "[encoded data removed]",
      "text/plain": [
       "<matplotlib.figure.Figure at 0x7f593146afd0>"
      ]
     },
     "metadata": {},
     "output_type": "display_data"
    }
   ],
   "source": [
    "aux = feat_rescaled[10].copy()\n",
    "\n",
    "image = np.zeros((12,12))\n",
    "i = 0\n",
    "j=0\n",
    "for k in range(144):\n",
    "    if i < 12:\n",
    "        image[j][i] = aux[k]\n",
    "        i+=1\n",
    "    else:\n",
    "        i = 0\n",
    "        j+=1\n",
    "        image[j][i] = aux[k]\n",
    "        i+=1\n",
    "        \n",
    "\n",
    "plt.figure(figsize=(4,4))\n",
    "plt.imshow(image, cmap= plt.cm.gray)\n",
    "plt.show()\n",
    "plt.figure(figsize=(4,4))\n",
    "plt.imshow(ima, interpolation='nearest')\n",
    "plt.show()"
   ]
  },
  {
   "cell_type": "markdown",
   "metadata": {},
   "source": [
    "En la celda anterior y en la siguiente se cambia la representación de los datos en base a características mas de alto nivel como lo son los histogramas de gradientes, donde se ven las direcciones de la forma de la figura en la imagen, los histogramas de color, basado en los distintos tonos de colores presentes en la imagen y finalmente, una representación mixta de ambas representaciones."
   ]
  },
  {
   "cell_type": "code",
   "execution_count": 45,
   "metadata": {
    "collapsed": true
   },
   "outputs": [],
   "source": [
    "def representacion(x,xv,xt,tipo):\n",
    "    if tipo==\"hog\":\n",
    "        features_train = extract_features(x,[hog_features]) #extrae hog features\n",
    "        features_val = extract_features(xv,[hog_features]) #extrae hog features\n",
    "        features_test = extract_features(xt,[hog_features]) #extrae hog features\n",
    "    elif tipo==\"histogram\":\n",
    "        features_train = extract_features(x,[color_histogram_hsv]) #extrae histogramas de color\n",
    "        features_val = extract_features(xv,[color_histogram_hsv]) #extrae histogramas de color\n",
    "        features_test = extract_features(xt,[color_histogram_hsv]) #extraehistogramas de color\n",
    "    else:\n",
    "        features_train = extract_features(x,[hog_features, color_histogram_hsv]) #extrae todo\n",
    "        features_val = extract_features(xv,[hog_features, color_histogram_hsv]) #extrae todo\n",
    "        features_test = extract_features(xt,[hog_features, color_histogram_hsv]) #extrae todo\n",
    "\n",
    "    return features_train,features_val,features_test"
   ]
  },
  {
   "cell_type": "code",
   "execution_count": 53,
   "metadata": {
    "collapsed": false
   },
   "outputs": [
    {
     "name": "stdout",
     "output_type": "stream",
     "text": [
      "(42567, 32, 32, 3)\n",
      "(7433, 32, 32, 3)\n",
      "(10000, 32, 32, 3)\n",
      "6912/7433 [==========================>...] - ETA: 0s\n",
      "VALIDATION ACCURACY (activation relu-softmax) in HOG = 0.919709\n",
      "(42567, 32, 32, 3)\n",
      "(7433, 32, 32, 3)\n",
      "(10000, 32, 32, 3)\n",
      "6624/7433 [=========================>....] - ETA: 0s\n",
      "VALIDATION ACCURACY (activation relu-softmax) in COLOR HISTOGRAM = 0.900000\n",
      "(42567, 32, 32, 3)\n",
      "(7433, 32, 32, 3)\n",
      "(10000, 32, 32, 3)\n",
      "7392/7433 [============================>.] - ETA: 0s\n",
      "VALIDATION ACCURACY (activation relu-softmax) in COMBINED = 0.921243\n"
     ]
    }
   ],
   "source": [
    "from keras.utils.np_utils import to_categorical\n",
    "from sklearn.preprocessing import StandardScaler\n",
    "from keras.models import Sequential\n",
    "from keras.layers import Dense, Activation,Dropout\n",
    "from keras.optimizers import SGD,RMSprop\n",
    "\n",
    "Ytr = to_categorical(Y_train)\n",
    "Yv = to_categorical(Y_val)\n",
    "Yt = to_categorical(Y_test)\n",
    "\n",
    "Xtr,Xv,Xt = representacion(X_train,X_val,X_test,\"hog\")\n",
    "\n",
    "model = Sequential()\n",
    "model.add(Dense(100, input_dim=Xtr.shape[1], init='uniform', activation='relu'))\n",
    "model.add(Dropout(0.1))\n",
    "model.add(Dense(10, init='uniform', activation='softmax'))\n",
    "model.compile(optimizer=SGD(lr=0.01), loss='binary_crossentropy', metrics=['accuracy'])\n",
    "model.fit(Xtr, Ytr, nb_epoch=50, batch_size=32, verbose=0, validation_data=(Xv,Yv))\n",
    "scores = model.evaluate(Xv, Yv)\n",
    "print \"\\nVALIDATION ACCURACY (activation relu-softmax) in HOG = %f\"% scores[1]\n",
    "\n",
    "Xtr,Xv,Xt = representacion(X_train,X_val,X_test,\"histogram\")\n",
    "\n",
    "model = Sequential()\n",
    "model.add(Dense(100, input_dim=Xtr.shape[1], init='uniform', activation='relu'))\n",
    "model.add(Dropout(0.1))\n",
    "model.add(Dense(10, init='uniform', activation='softmax'))\n",
    "model.compile(optimizer=SGD(lr=0.01), loss='binary_crossentropy', metrics=['accuracy'])\n",
    "model.fit(Xtr, Ytr, nb_epoch=50, batch_size=32, verbose=0, validation_data=(Xv,Yv))\n",
    "scores = model.evaluate(Xv, Yv)\n",
    "print \"\\nVALIDATION ACCURACY (activation relu-softmax) in COLOR HISTOGRAM = %f\"% scores[1]\n",
    "\n",
    "Xtr,Xv,Xt = representacion(X_train,X_val,X_test,\"combinados\")\n",
    "\n",
    "model = Sequential()\n",
    "model.add(Dense(100, input_dim=Xtr.shape[1], init='uniform', activation='relu'))\n",
    "model.add(Dropout(0.1))\n",
    "model.add(Dense(10, init='uniform', activation='softmax'))\n",
    "model.compile(optimizer=SGD(lr=0.01), loss='binary_crossentropy', metrics=['accuracy'])\n",
    "model.fit(Xtr, Ytr, nb_epoch=50, batch_size=32, verbose=0, validation_data=(Xv,Yv))\n",
    "scores = model.evaluate(Xv, Yv)\n",
    "print \"\\nVALIDATION ACCURACY (activation relu-softmax) in COMBINED = %f\"% scores[1]"
   ]
  },
  {
   "cell_type": "markdown",
   "metadata": {},
   "source": [
    "En la celda anterior se ve el efecto de las representaciones de alto nivel implementadas las cuales entregan una mejora en el score *accuracy*. Siendo la mejor representación según el score en el *validation set* la combinada, es decir incluyendo las características de los histogramas de color (tono) y gradiente. Presentando su evaluación sobre el *test set* a continuación."
   ]
  },
  {
   "cell_type": "code",
   "execution_count": 52,
   "metadata": {
    "collapsed": false
   },
   "outputs": [
    {
     "name": "stdout",
     "output_type": "stream",
     "text": [
      "(42567, 32, 32, 3)\n",
      "(7433, 32, 32, 3)\n",
      "(10000, 32, 32, 3)\n",
      " 9376/10000 [===========================>..] - ETA: 0s\n",
      "Test ACCURACY (activation relu-softmax) in COMBINED = 0.920780\n"
     ]
    }
   ],
   "source": [
    "Xtr,Xv,Xt = representacion(X_train,X_val,X_test,\"combinados\")\n",
    "Ytr = to_categorical(Y_train)\n",
    "Yt = to_categorical(Y_test)\n",
    "model = Sequential()\n",
    "model.add(Dense(100, input_dim=Xtr.shape[1], init='uniform', activation='relu'))\n",
    "model.add(Dropout(0.1))\n",
    "model.add(Dense(10, init='uniform', activation='softmax'))\n",
    "model.compile(optimizer=SGD(lr=0.01), loss='binary_crossentropy', metrics=['accuracy'])\n",
    "model.fit(Xtr, Ytr, nb_epoch=50, batch_size=32, verbose=0, validation_data=(Xv,Yv))\n",
    "scores = model.evaluate(Xt, Yt)\n",
    "print \"\\nTest ACCURACY (activation relu-softmax) in COMBINED = %f\"% scores[1]"
   ]
  },
  {
   "cell_type": "markdown",
   "metadata": {},
   "source": [
    "Se presenta un score del **92,08%** sobre el *test set* para esta representación, es decir, un error del **7.92**, mejorando este score respecto a la representación basada en RGB, levemente en un 0.5%. Esto es lo esperado para estas representaciones de alto nivel las cuales para este caso entregan más información significativa a la red neuronal para hacer la predicción sobre la etiqueta del dato en cada caso."
   ]
  },
  {
   "cell_type": "markdown",
   "metadata": {},
   "source": [
    "## E) SVM no lineal"
   ]
  },
  {
   "cell_type": "code",
   "execution_count": null,
   "metadata": {
    "collapsed": false
   },
   "outputs": [
    {
     "name": "stdout",
     "output_type": "stream",
     "text": [
      "(42567, 3072)\n",
      "(42567, 10)\n",
      "[LibSVM]"
     ]
    }
   ],
   "source": [
    "from sklearn.svm import SVC\n",
    "\n",
    "Xtr,Xv,Xt = scaler_t(X_train,X_val,X_test,\"standar\")\n",
    "\n",
    "clf = SVC(C=1, kernel=\"rbf\")        \n",
    "clf = clf.fit(Xtr,Y_train)  \n",
    "acc = clf.score(Xt,Y_test)\n",
    "print \"VALIDATION ACCURACY WITH STANDAR NORMALIZE = %f\"% acc"
   ]
  },
  {
   "cell_type": "code",
   "execution_count": null,
   "metadata": {
    "collapsed": true
   },
   "outputs": [],
   "source": [
    "Xtr,Xv,Xt = scaler_t(X_train,X_val,X_test,\"int_max\")\n",
    "\n",
    "clf = SVC(C=1, kernel=\"rbf\")        \n",
    "clf = clf.fit(Xtr,Y_train)  \n",
    "acc = clf.score(Xt,Y_test)\n",
    "print \"VALIDATION ACCURACY BETWEEN 0-1 = %f\"% acc"
   ]
  },
  {
   "cell_type": "code",
   "execution_count": null,
   "metadata": {
    "collapsed": true
   },
   "outputs": [],
   "source": [
    "Xtr,Xv,Xt = scaler_t(X_train,X_val,X_test,\"zeros_ones\")\n",
    "\n",
    "clf = SVC(C=1, kernel=\"rbf\")        \n",
    "clf = clf.fit(Xtr,Y_train)  \n",
    "acc = clf.score(Xt,Y_test)\n",
    "print \"VALIDATION ACCURACY WITH 0's AND 1's = %f\"% acc"
   ]
  },
  {
   "cell_type": "code",
   "execution_count": null,
   "metadata": {
    "collapsed": true
   },
   "outputs": [],
   "source": [
    "Xtr,Xv,Xt = representacion(X_train,X_val,X_test,\"hog\")\n",
    "\n",
    "clf = SVC(C=1, kernel=\"rbf\",verbose=1)        \n",
    "clf = clf.fit(Xtr,Y_train)  \n",
    "\n",
    "acc = clf.score(Xt,Y_test)\n",
    "print \"TEST ACCURACY WITH STANDAR NORMALIZE = %f\"% acc"
   ]
  },
  {
   "cell_type": "markdown",
   "metadata": {},
   "source": [
    "## F) Árbol de Clasificación"
   ]
  },
  {
   "cell_type": "code",
   "execution_count": 6,
   "metadata": {
    "collapsed": false
   },
   "outputs": [],
   "source": [
    "from sklearn.tree import DecisionTreeClassifier as Tree\n",
    "from keras.utils.np_utils import to_categorical\n",
    "\n",
    "N_ts = [2,5,10,13,17,20,25,30,50,80,90,100,150]\n",
    "def do_Tree(x,y,xv,yv):\n",
    "    mejor = 0\n",
    "    nivel = 0\n",
    "    info = []\n",
    "    for n_t in N_ts:\n",
    "        print \"arbol: %d\"%n_t\n",
    "        clf=Tree(criterion=\"gini\",splitter=\"best\",random_state=0,max_depth=n_t)\n",
    "        clf.fit(x,y)\n",
    "        acc = clf.score(x,y)\n",
    "        acc_v = clf.score(xv,yv)\n",
    "        if acc_v > mejor:\n",
    "            mejor = acc_v\n",
    "            nivel = n_t\n",
    "        info.append([acc,acc_v])\n",
    "    print \"Best Validation Accuracy = %f\"%mejor\n",
    "    print \"Tree's Level = %f\"%nivel\n",
    "    return info"
   ]
  },
  {
   "cell_type": "code",
   "execution_count": 7,
   "metadata": {
    "collapsed": false
   },
   "outputs": [
    {
     "name": "stdout",
     "output_type": "stream",
     "text": [
      "arbol: 2\n",
      "arbol: 5\n",
      "arbol: 10\n",
      "arbol: 13\n",
      "arbol: 17\n",
      "arbol: 20\n",
      "arbol: 25\n",
      "arbol: 30\n",
      "arbol: 50\n",
      "arbol: 80\n",
      "arbol: 90\n",
      "arbol: 100\n",
      "arbol: 150\n",
      "Best Validation Accuracy = 0.294228\n",
      "Tree's Level = 10.000000\n"
     ]
    }
   ],
   "source": [
    "Xtr,Xv,Xt = scaler_t(X_train,X_val,X_test,\"standar\")\n",
    "\n",
    "#cuidado---se demora harto\n",
    "info1 = do_Tree(Xtr,Y_train,Xv,Y_val)"
   ]
  },
  {
   "cell_type": "code",
   "execution_count": 8,
   "metadata": {
    "collapsed": false
   },
   "outputs": [
    {
     "data": {
      "image/png": "[encoded data removed]",
      "text/plain": [
       "<matplotlib.figure.Figure at 0x7f9b91bc93d0>"
      ]
     },
     "metadata": {},
     "output_type": "display_data"
    }
   ],
   "source": [
    "#utilizar el info\n",
    "error1 = [1-i[0] for i in info1]\n",
    "error2 = [1-i[1] for i in info1]\n",
    "import matplotlib.pyplot as plt\n",
    "plt.figure(figsize=(15,5))\n",
    "plt.plot(N_ts,error1, label = \"Training set\")\n",
    "plt.plot(N_ts,error2, label = \"Validation set\")\n",
    "plt.xticks(N_ts)\n",
    "plt.xlabel('Numero de niveles')\n",
    "plt.ylabel('Error')\n",
    "plt.title('Error sobre arbol de clasificacion con representacion estandarizada de pixeles')\n",
    "plt.legend(loc=\"upper right\")\n",
    "plt.show()"
   ]
  },
  {
   "cell_type": "markdown",
   "metadata": {},
   "source": [
    "Explicar grafico anterior.\n",
    "\n",
    "A continuación se prueba sobre el *validation set* los distintos tipos de escalamientos para el árbol de clasificación con 10 niveles."
   ]
  },
  {
   "cell_type": "code",
   "execution_count": 9,
   "metadata": {
    "collapsed": false
   },
   "outputs": [
    {
     "name": "stdout",
     "output_type": "stream",
     "text": [
      "VALIDATION ACCURACY WITH NORMALIZE BETWEEN 0-1 = 0.294228\n"
     ]
    }
   ],
   "source": [
    "Xtr,Xv,Xt = scaler_t(X_train,X_val,X_test,\"int_max\")\n",
    "\n",
    "clf=Tree(criterion=\"gini\",splitter=\"best\",random_state=0,max_depth=10)\n",
    "clf.fit(Xtr,Y_train)\n",
    "acc = clf.score(Xv,Y_val)\n",
    "print \"VALIDATION ACCURACY WITH NORMALIZE BETWEEN 0-1 = %f\"% acc\n",
    "        \n",
    "#info2 = do_Tree(Xtr,Ytr,Xv,Yv)"
   ]
  },
  {
   "cell_type": "code",
   "execution_count": 10,
   "metadata": {
    "collapsed": false
   },
   "outputs": [
    {
     "name": "stdout",
     "output_type": "stream",
     "text": [
      "VALIDATION ACCURACY WITH 0's and 1's REPRESENTATION = 0.286291\n"
     ]
    }
   ],
   "source": [
    "Xtr,Xv,Xt = scaler_t(X_train,X_val,X_test,\"zeros_ones\")\n",
    "\n",
    "clf=Tree(criterion=\"gini\",splitter=\"best\",random_state=0,max_depth=10)\n",
    "clf.fit(Xtr,Y_train)\n",
    "acc = clf.score(Xv,Y_val)\n",
    "print \"VALIDATION ACCURACY WITH 0's and 1's REPRESENTATION = %f\"% acc\n",
    "\n",
    "#info3 = do_Tree(Xtr,Ytr,Xv,Yv)"
   ]
  },
  {
   "cell_type": "markdown",
   "metadata": {},
   "source": [
    "A continuación se prueban las distintas representaciones de extracción de características"
   ]
  },
  {
   "cell_type": "code",
   "execution_count": 11,
   "metadata": {
    "collapsed": false
   },
   "outputs": [
    {
     "name": "stdout",
     "output_type": "stream",
     "text": [
      "(42567, 32, 32, 3)\n",
      "(7433, 32, 32, 3)\n",
      "(10000, 32, 32, 3)\n",
      "VALIDATION ACCURACY WITH HOG REPRESENTATION = 0.288982\n"
     ]
    }
   ],
   "source": [
    "Xtr,Xv,Xt = representacion(X_train,X_val,X_test,\"hog\")\n",
    "\n",
    "clf=Tree(criterion=\"gini\",splitter=\"best\",random_state=0,max_depth = 10)\n",
    "clf.fit(Xtr,Y_train)\n",
    "acc = clf.score(Xv,Y_val)\n",
    "print \"VALIDATION ACCURACY WITH HOG REPRESENTATION = %f\"% acc\n",
    "\n",
    "#info4 = do_Tree(Xtr,Ytr,Xv,Yv)"
   ]
  },
  {
   "cell_type": "code",
   "execution_count": 12,
   "metadata": {
    "collapsed": false
   },
   "outputs": [
    {
     "name": "stdout",
     "output_type": "stream",
     "text": [
      "(42567, 32, 32, 3)\n",
      "(7433, 32, 32, 3)\n",
      "(10000, 32, 32, 3)\n",
      "VALIDATION ACCURACY WITH COLOR HISTOGRAM REPRESENTATION = 0.256155\n"
     ]
    }
   ],
   "source": [
    "Xtr,Xv,Xt = representacion(X_train,X_val,X_test,\"histogram\")\n",
    "\n",
    "clf=Tree(criterion=\"gini\",splitter=\"best\",random_state=0,max_depth=10)\n",
    "clf.fit(Xtr,Y_train)\n",
    "acc = clf.score(Xv,Y_val)\n",
    "print \"VALIDATION ACCURACY WITH COLOR HISTOGRAM REPRESENTATION = %f\"% acc\n",
    "\n",
    "#info5 = do_Tree(Xtr,Ytr,Xv,Yv)"
   ]
  },
  {
   "cell_type": "code",
   "execution_count": null,
   "metadata": {
    "collapsed": false
   },
   "outputs": [
    {
     "name": "stdout",
     "output_type": "stream",
     "text": [
      "(42567, 32, 32, 3)\n",
      "(7433, 32, 32, 3)\n",
      "(10000, 32, 32, 3)\n",
      "VALIDATION ACCURACY WITH COLOR HISTOGRAM AND HOG REPRESENTATION = 0.307682\n"
     ]
    }
   ],
   "source": [
    "Xtr,Xv,Xt = representacion(X_train,X_val,X_test,\"combinacion\")\n",
    "\n",
    "clf=Tree(criterion=\"gini\",splitter=\"best\",random_state=0,max_depth=10)\n",
    "clf.fit(Xtr,Y_train)\n",
    "acc = clf.score(Xv,Y_val)\n",
    "print \"VALIDATION ACCURACY WITH COLOR HISTOGRAM AND HOG REPRESENTATION = %f\"% acc"
   ]
  },
  {
   "cell_type": "markdown",
   "metadata": {},
   "source": [
    "En base a lo anteriormente experimentado se escogen los mejores hiperparámetros y representación para un árbol de clasificación para este problema de clasificación de imágenes, la cual es la combinación de las características de alto nivel de histogramas de color y gradiantes. Mostrándo a continuación el error sobre el test set."
   ]
  },
  {
   "cell_type": "code",
   "execution_count": null,
   "metadata": {
    "collapsed": false
   },
   "outputs": [],
   "source": [
    "from sklearn.tree import DecisionTreeClassifier as Tree\n",
    "#la mejor representacion = combinacion\n",
    "#el mejor nivel = 10\n",
    "Xtr,Xv,Xt = representacion(X_train,X_val,X_test,\"combinacion\")\n",
    "\n",
    "clf=Tree(criterion=\"gini\",splitter=\"best\",random_state=0,max_depth=10)\n",
    "clf.fit(Xtr,Y_train)\n",
    "acc = clf.score(Xt,Y_test)\n",
    "print \"TEST ACCURACY WITH COLOR HISTOGRAM AND HOG REPRESENTATION = %f\"% acc"
   ]
  },
  {
   "cell_type": "markdown",
   "metadata": {},
   "source": [
    "... Se puede ver que el error es mucho mayor que para una red neuronal con 2 capas, esto muestra el gran poder que tiene una neurona para clasificar imágenes y lo difícil que se torna para un árbol de clasificación con distintas representaciones que se espera que alguna logre un mejor desempeño. "
   ]
  },
  {
   "cell_type": "code",
   "execution_count": null,
   "metadata": {
    "collapsed": true
   },
   "outputs": [],
   "source": []
  }
 ],
 "metadata": {
  "kernelspec": {
   "display_name": "Python 2",
   "language": "python",
   "name": "python2"
  },
  "language_info": {
   "codemirror_mode": {
    "name": "ipython",
    "version": 2
   },
   "file_extension": ".py",
   "mimetype": "text/x-python",
   "name": "python",
   "nbconvert_exporter": "python",
   "pygments_lexer": "ipython2",
   "version": "2.7.9"
  }
 },
 "nbformat": 4,
 "nbformat_minor": 1
}
