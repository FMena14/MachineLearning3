{
 "cells": [
  {
   "cell_type": "markdown",
   "metadata": {},
   "source": [
    "# Bike Sharing: Predicción de Demanda Horaria"
   ]
  },
  {
   "cell_type": "markdown",
   "metadata": {
    "collapsed": true
   },
   "source": [
    "Para esta sección se simulará el participar en una competencia *Bike Sharing Demanda* de *Kaggle*, donde el objetivo será predecir la demanda de bicicletas en la ciudad de Washington, la cual tiene un comportamiento ni lineal y no determinista como función de la hora del día.  \n",
    "En base a esto se ajustarán distintos modelos para ir mejorando en el puntaje obtenido (*score*) y así avanzar en el top-100 del *leaderboard*. Las filas del dataset corresponden a registros de cada hora de la demanda de bicicletas con datos relevantes para predecir esta demanda, los atributos entregados en el dataset se presentan a continuación."
   ]
  },
  {
   "cell_type": "markdown",
   "metadata": {},
   "source": [
    "Atributo|Descripción|Tipo Variable \n",
    "--------|-------------|--------------- \n",
    "_datetime_|hourly date + timestamp|numérica \n",
    "_season_|1 = spring, 2 = summer, 3 = fall, 4 = winter|categórica \n",
    "_holiday_|whether the day is considered a holiday|categórica \n",
    "_workingday_|whether the day is neither a weekend or holiday|categórica \n",
    "_weather_|1: Clear, 2: Cloudy, 3: Light Snow, 4: Heavy Rain|categórica \n",
    "_temp_|temperature in Celsius|numérica \n",
    "_atemp_|\"feels like\" temperature in Celsius|numérica \n",
    "_humidity_|relative humidity|numérica \n",
    "_windspeed_|windspeed|numérica \n",
    "_casual_|number of non-registered user rentals initiated|numérica \n",
    "_registered_|number of registered user rentals initiated|numérica\n",
    "_count_|number of total rentals|numérica "
   ]
  },
  {
   "cell_type": "markdown",
   "metadata": {},
   "source": [
    "La función para evualar los distintos clasificadores (modelos) será la siguiente:  \n",
    "\n",
    "$$\n",
    "E_{bikes}(\\hat{y},y) = \\sqrt{ \\frac{1}{n} \\sum_i^n (\\ln{(y_i+1)} - \\ln{(\\hat{y} +1)})^2 }\n",
    "$$"
   ]
  },
  {
   "cell_type": "markdown",
   "metadata": {},
   "source": [
    "Correspondiente a una medición del error para las predicciones de algun modelo de regresión."
   ]
  },
  {
   "cell_type": "markdown",
   "metadata": {},
   "source": [
    "## A) Carga Dataset y Análisis"
   ]
  },
  {
   "cell_type": "code",
   "execution_count": 1,
   "metadata": {
    "collapsed": false,
    "scrolled": true
   },
   "outputs": [
    {
     "name": "stdout",
     "output_type": "stream",
     "text": [
      "\n",
      "Summary - dataframe completo:\n",
      "\n",
      "             season       holiday    workingday       weather         temp  \\\n",
      "count  10886.000000  10886.000000  10886.000000  10886.000000  10886.00000   \n",
      "mean       2.506614      0.028569      0.680875      1.418427     20.23086   \n",
      "std        1.116174      0.166599      0.466159      0.633839      7.79159   \n",
      "min        1.000000      0.000000      0.000000      1.000000      0.82000   \n",
      "25%        2.000000      0.000000      0.000000      1.000000     13.94000   \n",
      "50%        3.000000      0.000000      1.000000      1.000000     20.50000   \n",
      "75%        4.000000      0.000000      1.000000      2.000000     26.24000   \n",
      "max        4.000000      1.000000      1.000000      4.000000     41.00000   \n",
      "\n",
      "              atemp      humidity     windspeed        casual    registered  \\\n",
      "count  10886.000000  10886.000000  10886.000000  10886.000000  10886.000000   \n",
      "mean      23.655084     61.886460     12.799395     36.021955    155.552177   \n",
      "std        8.474601     19.245033      8.164537     49.960477    151.039033   \n",
      "min        0.760000      0.000000      0.000000      0.000000      0.000000   \n",
      "25%       16.665000     47.000000      7.001500      4.000000     36.000000   \n",
      "50%       24.240000     62.000000     12.998000     17.000000    118.000000   \n",
      "75%       31.060000     77.000000     16.997900     49.000000    222.000000   \n",
      "max       45.455000    100.000000     56.996900    367.000000    886.000000   \n",
      "\n",
      "              count  \n",
      "count  10886.000000  \n",
      "mean     191.574132  \n",
      "std      181.144454  \n",
      "min        1.000000  \n",
      "25%       42.000000  \n",
      "50%      145.000000  \n",
      "75%      284.000000  \n",
      "max      977.000000  \n",
      "Dimensiones de training set:  (6562, 13)\n",
      "Dimensiones de validation set:  (2177, 13)\n",
      "Dimensiones de test set:  (2147, 13)\n",
      "10886\n"
     ]
    }
   ],
   "source": [
    "import pandas as pd\n",
    "import numpy as np\n",
    "dftrain = pd.read_csv('datasets/bike_sharing_train.csv')\n",
    "dfval = pd.read_csv('datasets/bike_sharing_val.csv')\n",
    "dftest = pd.read_csv('datasets/bike_sharing_test.csv')\n",
    "ntrain = len(dftrain)\n",
    "nval = len(dftrain) + len(dfval)\n",
    "df = pd.concat([dftrain,dfval,dftest])\n",
    "df = df.drop('Unnamed: 0',axis=1)\n",
    "\n",
    "print('\\nSummary - dataframe completo:\\n')\n",
    "print(df.describe())\n",
    "#print df\n",
    "print \"Dimensiones de training set: \",dftrain.shape\n",
    "print \"Dimensiones de validation set: \", dfval.shape\n",
    "print \"Dimensiones de test set: \", dftest.shape\n",
    "\n",
    "print len(df)\n",
    "#procesamiento\n",
    "df['hour'] = pd.to_datetime(df['datetime']).apply(lambda x: x.strftime('%H'))\n",
    "df['hour'] = pd.to_numeric(df['hour'])"
   ]
  },
  {
   "cell_type": "markdown",
   "metadata": {},
   "source": [
    "En la celda anterior se cargan los datos de entrenamiento y de prueba, mostrándo un resumen del dataset con ciertas métricas estádisticas entregadas por la función $describe()$, para describir el dataset. Esta posee 11 atributos (características) para predecir el target (count), de las cuales para los atributos categóricos estas métricas estadísticas no tienen un gran significado debido a que estas están codificadas en intervalos discretos, como por ejemplo *season* y *weather* presentan sus valores enteros discretos entre 1 y 4. Se puede ver que las características numéricas varían en un rango muy distinto entre sí y entre las características categóricas, evidenciado en el promedio y desviación estándar de cada uno. Para la variable a predecir, la demanda de bicicletas varía entre 1 y 977, con media 191 y desviación estándar de 181 por lo que en base a esto se puede verificar que la demanda es bastante variable.  \n",
    "\n",
    "El primer preprocesamiento es extraer la hora del día desde la característica fecha (*datetime*).  \n",
    "Para este dataset cada fila simboliza la cuantificación de la demanda en un rango de hora específico, tomando estas mediciones cada 1 hora, por ejemplo si una fila tiene demanda 10 significa que en esa hora se vendieron 10 bicicletas. La cantidad de datos que posee el *training set* es de 6562, el *validation set* de 2177 y el *test set* de 2147. El *training set* corresponde a los registros de la demanda de los primeros 19 días de cada mes por 2 años, siendo el *test set* el registro de la demanda del resto de los 11 días de cada mes por los 2 años."
   ]
  },
  {
   "cell_type": "code",
   "execution_count": 2,
   "metadata": {
    "collapsed": false
   },
   "outputs": [
    {
     "name": "stdout",
     "output_type": "stream",
     "text": [
      "[13773, 60141, 43002, 53708, 53708, 53708] [27250, 98354, 81833, 96599, 96599, 96599] [33947, 104681, 89197, 100973, 100973, 100973] [27305, 99762, 78460, 93241, 93241, 93241]\n"
     ]
    },
    {
     "name": "stderr",
     "output_type": "stream",
     "text": [
      "/usr/lib/python2.7/dist-packages/matplotlib/tight_layout.py:225: UserWarning: tight_layout : falling back to Agg renderer\n",
      "  warnings.warn(\"tight_layout : falling back to Agg renderer\")\n",
      "/usr/lib/python2.7/dist-packages/matplotlib/backends/backend_gtk.py:253: Warning: Source ID 2 was not found when attempting to remove it\n",
      "  gobject.source_remove(self._idle_event_id)\n"
     ]
    }
   ],
   "source": [
    "import matplotlib.pyplot as plt\n",
    "\n",
    "spring_rows1 = df[ (df['season'] == 1) & (df['hour'] <= 6)]\n",
    "spring_rows2 = df[ (df['season'] == 1) & (df['hour'] > 6) & (df['hour'] <= 9)]\n",
    "spring_rows3 = df[ (df['season'] == 1) & (df['hour'] > 9) & (df['hour'] <= 12)]\n",
    "spring_rows4 = df[ (df['season'] == 1) & (df['hour'] > 12) & (df['hour'] <= 15)]\n",
    "spring_rows5 = df[ (df['season'] == 1) & (df['hour'] > 15) & (df['hour'] <= 18)]\n",
    "spring_rows6 = df[ (df['season'] == 1) & (df['hour'] > 18) & (df['hour'] <= 24)]\n",
    "\n",
    "spring_vals = [sum(spring_rows1['count']),sum(spring_rows2['count']),sum(spring_rows3['count']),sum(spring_rows4['count'])\n",
    "              ,sum(spring_rows4['count']),sum(spring_rows4['count'])]\n",
    "\n",
    "summer_rows1 = df[ (df['season'] == 2) & (df['hour'] <= 6)]\n",
    "summer_rows2 = df[ (df['season'] == 2) & (df['hour'] > 6) & (df['hour'] <= 9)]\n",
    "summer_rows3 = df[ (df['season'] == 2) & (df['hour'] > 9) & (df['hour'] <= 12)]\n",
    "summer_rows4 = df[ (df['season'] == 2) & (df['hour'] > 12) & (df['hour'] <= 15)]\n",
    "summer_rows5 = df[ (df['season'] == 2) & (df['hour'] > 15) & (df['hour'] <= 18)]\n",
    "summer_rows6 = df[ (df['season'] == 2) & (df['hour'] > 18) & (df['hour'] <= 24)]\n",
    "\n",
    "summer_vals = [sum(summer_rows1['count']),sum(summer_rows2['count']),sum(summer_rows3['count']),sum(summer_rows4['count'])\n",
    "              ,sum(summer_rows4['count']),sum(summer_rows4['count'])]\n",
    "\n",
    "fall_rows1 = df[ (df['season'] == 3) & (df['hour'] <= 6)]\n",
    "fall_rows2 = df[ (df['season'] == 3) & (df['hour'] > 6) & (df['hour'] <= 9)]\n",
    "fall_rows3 = df[ (df['season'] == 3) & (df['hour'] > 9) & (df['hour'] <= 12)]\n",
    "fall_rows4 = df[ (df['season'] == 3) & (df['hour'] > 12) & (df['hour'] <= 15)]\n",
    "fall_rows5 = df[ (df['season'] == 3) & (df['hour'] > 15) & (df['hour'] <= 18)]\n",
    "fall_rows6 = df[ (df['season'] == 3) & (df['hour'] > 18) & (df['hour'] <= 24)]\n",
    "\n",
    "fall_vals = [sum(fall_rows1['count']),sum(fall_rows2['count']),sum(fall_rows3['count']),sum(fall_rows4['count'])\n",
    "              ,sum(fall_rows4['count']),sum(fall_rows4['count'])]\n",
    "\n",
    "winter_rows1 = df[ (df['season'] == 4) & (df['hour'] <= 6)]\n",
    "winter_rows2 = df[ (df['season'] == 4) & (df['hour'] > 6) & (df['hour'] <= 9)]\n",
    "winter_rows3 = df[ (df['season'] == 4) & (df['hour'] > 9) & (df['hour'] <= 12)]\n",
    "winter_rows4 = df[ (df['season'] == 4) & (df['hour'] > 12) & (df['hour'] <= 15)]\n",
    "winter_rows5 = df[ (df['season'] == 4) & (df['hour'] > 15) & (df['hour'] <= 18)]\n",
    "winter_rows6 = df[ (df['season'] == 4) & (df['hour'] > 18) & (df['hour'] <= 24)]\n",
    "\n",
    "winter_vals = [sum(winter_rows1['count']),sum(winter_rows2['count']),sum(winter_rows3['count']),sum(winter_rows4['count'])\n",
    "              ,sum(winter_rows4['count']),sum(winter_rows4['count'])]\n",
    "\n",
    "\n",
    "print spring_vals, summer_vals,fall_vals,winter_vals\n",
    "\n",
    "# Construir histograma -------------------------------------------\n",
    "\n",
    "#PARA COMPARAR LAS EPOCAS DEL AÑO\n",
    "f, axarr = plt.subplots(2, 2, figsize=(12,8) )\n",
    "axarr[0, 0].bar(np.arange(0,6,1), spring_vals, width  = 0.5, align = \"center\", color = 'b')\n",
    "axarr[0, 0].set_title('Spring')\n",
    "axarr[0, 0].set_xticks([-0.25,0.5,1.5,2.5,3.5,4.5,5.25])\n",
    "axarr[0, 0].set_xticklabels(('12am','6am','9am','12pm','15pm','6pm','12am'))\n",
    "axarr[0, 0].set_ylabel('Ventas')\n",
    "axarr[0, 0].axis('tight')\n",
    "\n",
    "axarr[0, 1].bar(np.arange(0,6,1), summer_vals, width  = 0.5, align = \"center\", color = 'r')\n",
    "axarr[0, 1].set_title('Summer')\n",
    "axarr[0, 1].set_xticks([-0.25,0.5,1.5,2.5,3.5,4.5,5.25])\n",
    "axarr[0, 1].set_xticklabels(('12am','6am','9am','12pm','15pm','6pm','12am'))\n",
    "axarr[0, 1].set_ylabel('Ventas')\n",
    "axarr[0, 1].axis('tight')\n",
    "\n",
    "\n",
    "axarr[1, 0].bar(np.arange(0,6,1), fall_vals, width  = 0.5, align = \"center\", color = 'g')\n",
    "axarr[1, 0].set_title('Fall')\n",
    "axarr[1, 0].set_xticks([-0.25,0.5,1.5,2.5,3.5,4.5,5.25])\n",
    "axarr[1, 0].set_xticklabels(('12am','6am','9am','12pm','15pm','6pm','12am'))\n",
    "axarr[1, 0].set_ylabel('Ventas')\n",
    "axarr[1, 0].axis('tight')\n",
    "\n",
    "\n",
    "axarr[1, 1].bar(np.arange(0,6,1), winter_vals, width  = 0.5, align = \"center\", color = 'y')\n",
    "axarr[1, 1].set_title('Winter')\n",
    "axarr[1, 1].set_xticks([-0.25,0.5,1.5,2.5,3.5,4.5,5.25])\n",
    "axarr[1, 1].set_xticklabels(('12am','6am','9am','12pm','15pm','6pm','12am'))\n",
    "axarr[1, 1].set_ylabel('Ventas')\n",
    "axarr[1, 1].axis('tight')\n",
    "\n",
    "f.tight_layout() #separar los subplot\n",
    "plt.show()"
   ]
  },
  {
   "cell_type": "markdown",
   "metadata": {},
   "source": [
    "Los gráficos anteriores son presentados para resumir el comportamiento de la demanda (Ventas) en función de distintos rangos de horas (12am a 6am, 6am a 9 am y así), para distintas épocas del año, mostrándo que esta es distinta, ya que a pesar que los gráficos sean parecidos, estos varían en un distinto rango. En Otoño se posee la mayor demanda y en Primavera es la menor demanda.  \n",
    "[algo mas ]"
   ]
  },
  {
   "cell_type": "markdown",
   "metadata": {},
   "source": [
    "## B) Árbol de regresión"
   ]
  },
  {
   "cell_type": "code",
   "execution_count": 3,
   "metadata": {
    "collapsed": false
   },
   "outputs": [
    {
     "name": "stdout",
     "output_type": "stream",
     "text": [
      "SCORE TEST=0.703388\n",
      "KAGG EVAL TRAIN =0.028516\n",
      "KAGG EVAL VAL =0.554511\n",
      "KAGG EVAL TEST =0.574239\n"
     ]
    }
   ],
   "source": [
    "from sklearn.tree import DecisionTreeRegressor as Tree\n",
    "import matplotlib.pyplot as plt\n",
    "\n",
    "def eval_bikemodel(y_predict,y_true):\n",
    "    diff = np.log(y_predict+1.0) - np.log(y_true+1.0)\n",
    "    return np.sqrt(np.sum(np.square(diff))/len(y_predict))\n",
    "\n",
    "\n",
    "Xdf=df.ix[:,['season','holiday','workingday','weather','temp','atemp',\n",
    "'humidity','windspeed','hour']]\n",
    "Ydf=df.ix[:,'count']\n",
    "\n",
    "X_train = Xdf[0:ntrain].values\n",
    "X_val = Xdf[ntrain:nval].values\n",
    "X_test = Xdf[nval:].values\n",
    "\n",
    "Y_train = Ydf[0:ntrain].values\n",
    "Y_val = Ydf[ntrain:nval].values\n",
    "Y_test = Ydf[nval:].values\n",
    "\n",
    "#Modelo\n",
    "model = Tree(random_state=0)\n",
    "model.fit(X_train,Y_train)\n",
    "score_test = model.score(X_test,Y_test)\n",
    "print \"SCORE TEST=%f\"%score_test\n",
    "\n",
    "Y_pred_train = model.predict(X_train)\n",
    "Y_pred_val = model.predict(X_val)\n",
    "Y_pred_test = model.predict(X_test)\n",
    "\n",
    "kagg_train = eval_bikemodel(Y_pred_train,Y_train)\n",
    "kagg_val = eval_bikemodel(Y_pred_val,Y_val)\n",
    "kagg_test = eval_bikemodel(Y_pred_test,Y_test)\n",
    "\n",
    "print \"KAGG EVAL TRAIN =%f\"%kagg_train\n",
    "print \"KAGG EVAL VAL =%f\"%kagg_val\n",
    "print \"KAGG EVAL TEST =%f\"%kagg_test"
   ]
  },
  {
   "cell_type": "markdown",
   "metadata": {},
   "source": [
    "En la celda anterior se crea la función para evaluar los distintos clasificadores (modelos) denominada $eval\\_bikemodel()$, además de crear el input set y el output set (X y Y respectivamente) para los distintos *set*, utilizando las características procesadas en la pregunta anterior, es decir, las entregadas y reemplazando el *datetime* por la hora.  \n",
    "Se ajusta un árbol de regresión como clasificador para el problema sobre el *training set*, mostrándo distintas métricas, como el *accuracy* sobre el *test set* del 70%, la función para evaluar el error para este problema (**KAGG EVAL**) sobre el *validation set* del 55,4% y sobre el *test set* 57,4%. Se puede ver que las métricas difieren (siendo el error según el *accuracy* sobre el *test set* del 30%), debido a la forma distinta de medir el error para **KAGG EVAL**, aplicando logaritmo sobre la demanda (*target*) produciendo esta medición del error mayor y más significativa.  Al tener una medición del *score KAGG* sobre el *test set* del **57,4%** nos deja en un una posición mayor al 2140 en la competencia.  "
   ]
  },
  {
   "cell_type": "code",
   "execution_count": 5,
   "metadata": {
    "collapsed": false
   },
   "outputs": [
    {
     "name": "stderr",
     "output_type": "stream",
     "text": [
      "/usr/lib/python2.7/dist-packages/matplotlib/backends/backend_gtk.py:253: Warning: Source ID 374 was not found when attempting to remove it\n",
      "  gobject.source_remove(self._idle_event_id)\n"
     ]
    }
   ],
   "source": [
    "plt.figure(figsize=(12,8))\n",
    "plt.plot(Y_test,Y_pred_test,'.')\n",
    "plt.plot(range(1000),range(1000), color =\"r\")\n",
    "plt.xlabel('Valor Real')\n",
    "plt.ylabel('Prediccion')\n",
    "plt.show()"
   ]
  },
  {
   "cell_type": "markdown",
   "metadata": {},
   "source": [
    "En base a este gráfico donde se puede comparar las predicciones del árbol de regresión versus los valores reales del *test set* (puntos azules), y la línea roja que representa la predicción exacta. Se puede ver que la predicción es bastante buena para algunos casos, presentándose *outliers* en la predicción. Además de ver que los valores (puntos azules) están cercanos en rango a la línea roja, mostrándose el error en su lejanía a esta, teniendo una gran cantidad de error (alrededor del 30% como lo calculado anteriormente). "
   ]
  },
  {
   "cell_type": "markdown",
   "metadata": {},
   "source": [
    "## C) Árbol de regresión - variando hiperparámetros"
   ]
  },
  {
   "cell_type": "code",
   "execution_count": 6,
   "metadata": {
    "collapsed": false
   },
   "outputs": [
    {
     "name": "stderr",
     "output_type": "stream",
     "text": [
      "/usr/lib/python2.7/dist-packages/matplotlib/backends/backend_gtk.py:253: Warning: Source ID 449 was not found when attempting to remove it\n",
      "  gobject.source_remove(self._idle_event_id)\n"
     ]
    }
   ],
   "source": [
    "kaggs_val = []\n",
    "kaggs_train = []\n",
    "N_ts = np.arange(2,26)\n",
    "for n_t in N_ts:\n",
    "    model = Tree(random_state=0,max_depth=n_t)\n",
    "    model.fit(X_train,Y_train)\n",
    "\n",
    "    Y_pred_val = model.predict(X_val)\n",
    "    kagg_val = eval_bikemodel(Y_pred_val,Y_val)\n",
    "    kaggs_val.append(kagg_val)\n",
    "    \n",
    "    Y_pred_train = model.predict(X_train)\n",
    "    kagg_train = eval_bikemodel(Y_pred_train,Y_train)\n",
    "    kaggs_train.append(kagg_train)\n",
    "\n",
    "plt.figure(figsize=(15,5))    \n",
    "plt.plot(N_ts,kaggs_val , label  = \"Validation set\", color = \"y\")\n",
    "plt.plot(N_ts,kaggs_train, label = \"Training set\", color = \"b\")\n",
    "plt.xticks(N_ts)\n",
    "plt.xlabel('Numero de niveles')\n",
    "plt.ylabel('KAGG EVAL')\n",
    "plt.title('Valor de funcion KAGG para distintos niveles en un arbol de regresion (validation set)')\n",
    "plt.legend()\n",
    "plt.axis(\"tight\")\n",
    "plt.show()"
   ]
  },
  {
   "cell_type": "markdown",
   "metadata": {},
   "source": [
    "En la celda anterior se presenta un gráfico mostrándo como evoluciona la función de evaluación **KAGG** en función del número máximo de niveles del árbol de regresión. Se puede ver que a medida que aumenta el número de niveles (2-8) disminuye el error sobre el *validation set* y luego desde el nivel 8 en adelante el error sobre el *validation set* se mantiene y sobre el *training set* disminuye, produciéndo un claro *overfitting*. Para este caso se escoge una profundidad máxima de 10 niveles para el árbol de regresión ajustado en la siguiente celda."
   ]
  },
  {
   "cell_type": "code",
   "execution_count": 7,
   "metadata": {
    "collapsed": false
   },
   "outputs": [
    {
     "name": "stdout",
     "output_type": "stream",
     "text": [
      "KAGG EVAL TEST =0.516396\n"
     ]
    }
   ],
   "source": [
    "model = Tree(random_state=0,max_depth=10)\n",
    "model.fit(X_train,Y_train)\n",
    "\n",
    "Y_pred_test = model.predict(X_test)\n",
    "kagg_test = eval_bikemodel(Y_pred_test,Y_test)\n",
    "print \"KAGG EVAL TEST =%f\"%kagg_test"
   ]
  },
  {
   "cell_type": "markdown",
   "metadata": {},
   "source": [
    "Con el árbol de regresión ajustado anteriormente con una máxima profundidad de 10 niveles se tiene un modelo con **KAGG EVAL** sobre el *test set* del **51,6%**, lo cual mejora un 5% al árbol de regresión sin máxima profundidad definido anteriormente. Con esta medición se avanza alrededor de unas 300 posiciones en el *leaderboard*, lo cual es lo esperado debido a que un árbol con máxima profundidad no se sobre ajusta a los datos con los que se entrena produciendo un clasificador más genérico."
   ]
  },
  {
   "cell_type": "code",
   "execution_count": 8,
   "metadata": {
    "collapsed": false
   },
   "outputs": [
    {
     "name": "stderr",
     "output_type": "stream",
     "text": [
      "/usr/lib/python2.7/dist-packages/matplotlib/backends/backend_gtk.py:253: Warning: Source ID 560 was not found when attempting to remove it\n",
      "  gobject.source_remove(self._idle_event_id)\n"
     ]
    }
   ],
   "source": [
    "plt.figure(figsize=(12,8))\n",
    "plt.plot(Y_test,Y_pred_test,'.')\n",
    "plt.plot(range(1000),range(1000), color =\"r\")\n",
    "plt.xlabel('Valor Real')\n",
    "plt.ylabel('Prediccion')\n",
    "plt.show()"
   ]
  },
  {
   "cell_type": "markdown",
   "metadata": {},
   "source": [
    "## D) Árbol de regresión - variando representación"
   ]
  },
  {
   "cell_type": "code",
   "execution_count": 9,
   "metadata": {
    "collapsed": false
   },
   "outputs": [
    {
     "name": "stdout",
     "output_type": "stream",
     "text": [
      "year 2011 total demand:  781979\n",
      "year 2012 total demand:  1303497\n"
     ]
    }
   ],
   "source": [
    "#procesamiento de fecha(datetime-timestamp) a numeros\n",
    "df['cday'] = pd.to_datetime(df['datetime']).dt.dayofweek#0:lunes,6:domingo\n",
    "df['cday'] = pd.to_numeric(df['cday'])\n",
    "\n",
    "df['year'] = pd.to_datetime(df['datetime']).dt.year\n",
    "df['year'] = pd.to_numeric(df['year'])\n",
    "\n",
    "df['month'] = pd.to_datetime(df['datetime']).dt.month#1:enero, 12: diciembre\n",
    "df['month'] = pd.to_numeric(df['month'])\n",
    "\n",
    "once = df[ (df['year'] == 2011)]\n",
    "print \"year 2011 total demand: \", sum(once['count'])\n",
    "donce = df[ (df['year'] == 2012)]\n",
    "print \"year 2012 total demand: \",sum(donce['count'])"
   ]
  },
  {
   "cell_type": "markdown",
   "metadata": {},
   "source": [
    "En la celda anterior se extrae desde el *datetime* datos para tener una mejor representación de los datos y así mejorar el score obtenido hasta el momento. Se extrae el \"cday\" correspondiente al día de la semana codificado de 0 a 6, desde lunes a domingo respectivamente. Otro atributo que se extrae de la fecha es el año en que fueron realizado los distintos registros de datos y finalmente el mes del mismo, codificado desde 1 a 12 (enero a diciembre)."
   ]
  },
  {
   "cell_type": "code",
   "execution_count": 10,
   "metadata": {
    "collapsed": false
   },
   "outputs": [
    {
     "name": "stdout",
     "output_type": "stream",
     "text": [
      "selected = hour ...\n",
      "selected = cday ...\n",
      "selected = season ...\n",
      "selected = year ...\n",
      "selected = month ...\n",
      "selected = holiday ...\n",
      "selected = workingday ...\n",
      "selected = weather ...\n",
      "selected = temp ...\n",
      "selected = humidity ...\n",
      "selected = windspeed ...\n",
      "selected = atemp ...\n",
      "se eliminaron\n",
      "set(['windspeed', 'atemp', 'temp', 'humidity'])\n"
     ]
    }
   ],
   "source": [
    "def fss(x, y, xval,yval, names_x, k = 10000):\n",
    "    p = x.shape[1]-1\n",
    "    k = min(p, k)+1\n",
    "    names_x = np.array(names_x)\n",
    "    remaining = range(0, p+1)\n",
    "    selected = []\n",
    "    current_score = 0.0\n",
    "    best_new_score = 0.0\n",
    "    while remaining and len(selected)<=k :\n",
    "        score_candidates = []\n",
    "        for candidate in remaining:\n",
    "            model = Tree(max_depth = 10)\n",
    "            indexes = selected + [candidate]\n",
    "            x_train = x[:,indexes]\n",
    "            x_val = xval[:,indexes]\n",
    "            \n",
    "            predictions_val = model.fit(x_train, y).predict(x_val)\n",
    "            kagg_val = eval_bikemodel(predictions_val,yval) #en base al evaluador kagg\n",
    "            \n",
    "            score_candidates.append((kagg_val, candidate))\n",
    "        score_candidates.sort()\n",
    "        score_candidates[:] = score_candidates[::-1]\n",
    "        best_new_score, best_candidate = score_candidates.pop() #el de menor error es el mejor candidato\n",
    "        remaining.remove(best_candidate)\n",
    "        selected.append(best_candidate)\n",
    "        print \"selected = %s ...\"%names_x[best_candidate]\n",
    "    return selected\n",
    "\n",
    "names_features = ['season','holiday','workingday','weather','temp','atemp',\n",
    "    'humidity','windspeed','hour','cday','month','year']\n",
    "Xdf=df.ix[:,names_features]\n",
    "Ydf=df.ix[:,'count'] \n",
    "\n",
    "X_train = Xdf[0:ntrain].values\n",
    "X_val = Xdf[ntrain:nval].values\n",
    "Y_train = Ydf[0:ntrain].values\n",
    "Y_val = Ydf[ntrain:nval].values\n",
    "        \n",
    "new_names_features = fss(X_train,Y_train,X_val,Y_val,names_features)[:8]\n",
    "new_names_features = np.array(names_features)[new_names_features]\n",
    "print \"se eliminaron\"\n",
    "x = set(names_features)\n",
    "y = x - set(new_names_features)\n",
    "print y"
   ]
  },
  {
   "cell_type": "markdown",
   "metadata": {},
   "source": [
    "Debido a que se añaden más características, es necesario filtrar algunas de estas para ver el efecto, es por esto que en la celda anterior se ocupa **FSS** para determinar cuales son las características más influyentes para el problema según un modelo de árbol de regresión con 10 niveles como máximo. Se filtran, a partir de este algoritmo, 4 características (\"windspeed\", \"atemp\", \"temp\", \"humidity\") eliminando estas del modelo, es decir, se eliminan las nuḿericas dejando únicamente las características categóricas.  \n",
    "Finalmente, se obtienen 3 tipos de representaciones en base a las características en el modelo de regresión, sumado a la posible normalización del *input set* y una transformación al *output* (demanda), propuesto a continuación, se presentan finalmente 12 tipos posibles de representaciones."
   ]
  },
  {
   "cell_type": "markdown",
   "metadata": {},
   "source": [
    "Nombre|Características|Normalizado|Transformacion(y)\n",
    "------|---------------|-----------|--------------\n",
    "old|season, holiday, workingday, weather, temp, atemp, humidity,windspeed, hour|  X | X\n",
    "all|old + **cday**, **month**, **year** | X | X \n",
    "extract|season, holiday, workingday, weather, hour, cday,month, year|X|X|\n",
    "-|-|-|-"
   ]
  },
  {
   "cell_type": "code",
   "execution_count": 11,
   "metadata": {
    "collapsed": false,
    "scrolled": true
   },
   "outputs": [
    {
     "name": "stdout",
     "output_type": "stream",
     "text": [
      "---------------------------------------------\n",
      "representacion no normalizada de las viejas caracteristicas\n",
      "KAGG EVAL VAL =0.476274\n",
      "representacion normalizada de las viejas caracteristicas\n",
      "KAGG EVAL VAL =0.477858\n",
      "---------------------------------------------\n",
      "representacion no normalizada de todas las caracteristicas\n",
      "KAGG EVAL VAL =0.406954\n",
      "representacion normalizada de todas las caracteristicas\n",
      "KAGG EVAL VAL =0.407576\n",
      "---------------------------------------------\n",
      "representacion no normalizada con extraccion de caracteristicas\n",
      "KAGG EVAL VAL =0.393547\n",
      "representacion normalizada con extraccion de caracteristicas\n",
      "KAGG EVAL VAL =0.396293\n",
      "---------------------------------------------\n",
      "representacion normalizada con extracion de caracteristicas y transformar la respuesta\n",
      "KAGG EVAL VAL =0.402794\n"
     ]
    },
    {
     "name": "stderr",
     "output_type": "stream",
     "text": [
      "/usr/local/lib/python2.7/dist-packages/sklearn/utils/validation.py:420: DataConversionWarning: Data with input dtype int64 was converted to float64 by StandardScaler.\n",
      "  warnings.warn(msg, DataConversionWarning)\n",
      "/usr/local/lib/python2.7/dist-packages/sklearn/utils/validation.py:420: DataConversionWarning: Data with input dtype int64 was converted to float64 by StandardScaler.\n",
      "  warnings.warn(msg, DataConversionWarning)\n",
      "/usr/local/lib/python2.7/dist-packages/sklearn/utils/validation.py:420: DataConversionWarning: Data with input dtype int64 was converted to float64 by StandardScaler.\n",
      "  warnings.warn(msg, DataConversionWarning)\n",
      "/usr/local/lib/python2.7/dist-packages/sklearn/utils/validation.py:420: DataConversionWarning: Data with input dtype int64 was converted to float64 by StandardScaler.\n",
      "  warnings.warn(msg, DataConversionWarning)\n",
      "/usr/local/lib/python2.7/dist-packages/sklearn/utils/validation.py:420: DataConversionWarning: Data with input dtype int64 was converted to float64 by StandardScaler.\n",
      "  warnings.warn(msg, DataConversionWarning)\n",
      "/usr/local/lib/python2.7/dist-packages/sklearn/utils/validation.py:420: DataConversionWarning: Data with input dtype int64 was converted to float64 by StandardScaler.\n",
      "  warnings.warn(msg, DataConversionWarning)\n",
      "/usr/local/lib/python2.7/dist-packages/sklearn/utils/validation.py:420: DataConversionWarning: Data with input dtype int64 was converted to float64 by StandardScaler.\n",
      "  warnings.warn(msg, DataConversionWarning)\n",
      "/usr/local/lib/python2.7/dist-packages/sklearn/utils/validation.py:420: DataConversionWarning: Data with input dtype int64 was converted to float64 by StandardScaler.\n",
      "  warnings.warn(msg, DataConversionWarning)\n",
      "/usr/local/lib/python2.7/dist-packages/sklearn/utils/validation.py:420: DataConversionWarning: Data with input dtype int64 was converted to float64 by StandardScaler.\n",
      "  warnings.warn(msg, DataConversionWarning)\n",
      "/usr/local/lib/python2.7/dist-packages/sklearn/utils/validation.py:420: DataConversionWarning: Data with input dtype int64 was converted to float64 by StandardScaler.\n",
      "  warnings.warn(msg, DataConversionWarning)\n"
     ]
    }
   ],
   "source": [
    "#print df2\n",
    "print \"---------------------------------------------\"\n",
    "names_features = ['season','holiday','workingday','weather','temp','atemp',\n",
    "'humidity','windspeed','hour','cday','month','year']\n",
    "\n",
    "df2 = df.ix[:,names_features+['count']]\n",
    "\n",
    "from sklearn.preprocessing import StandardScaler\n",
    "from sklearn.preprocessing import normalize\n",
    "def representacion(df, features,scaler,vector=False):\n",
    "    if features == \"all\":\n",
    "        names_features = ['season','holiday','workingday','weather','temp','atemp',\n",
    "                            'humidity','windspeed','hour','cday','month','year']\n",
    "    elif features == \"old\":\n",
    "        names_features = ['season','holiday','workingday','weather','temp','atemp',\n",
    "                            'humidity','windspeed','hour']\n",
    "    elif features == \"extract\":\n",
    "        names_features = ['season','holiday','workingday','weather','hour','cday','month','year']\n",
    "\n",
    "    #se procesan las caract\n",
    "    Xdf=df.ix[:,names_features]\n",
    "    \n",
    "    if vector: #para representacion vectorial de variables categoricas que no son 0 y 1\n",
    "        all_categorical_features = ['season','weather','temp','hour','cday','month']\n",
    "        x = set(all_categorical_features)\n",
    "        categorical_features = x.intersection(names_features)\n",
    "\n",
    "        Xdf = pd.get_dummies(Xdf,columns=categorical_features) #categorizar las caract\n",
    "    \n",
    "    #se crean las matrices\n",
    "    Ydf=df.ix[:,'count'] #no se normaliza\n",
    "    X_train = Xdf[0:ntrain].values\n",
    "    X_val = Xdf[ntrain:nval].values\n",
    "    X_test = Xdf[nval:].values\n",
    "    Y_train = Ydf[0:ntrain].values\n",
    "    Y_val = Ydf[ntrain:nval].values\n",
    "    Y_test = Ydf[nval:].values\n",
    "        \n",
    "    #se escala\n",
    "    if scaler == \"standar\":\n",
    "        scaler = StandardScaler()\n",
    "        X_train = scaler.fit_transform(X_train)\n",
    "        X_test = scaler.transform(X_test)\n",
    "        X_val = scaler.fit_transform(X_val)\n",
    "        \n",
    "        return X_train,Y_train,X_val,Y_val,X_test,Y_test\n",
    "            \n",
    "    elif scaler == \"normal\":\n",
    "        return X_train, Y_train, X_val, Y_val,X_test,Y_test\n",
    "    return 0\n",
    "   \n",
    "print \"representacion no normalizada de las viejas caracteristicas\"\n",
    "X_train,Y_train,X_val,Y_val,X_test,Y_test = representacion(df2,\"old\",\"normal\")\n",
    "model = Tree(random_state=0,max_depth=10)\n",
    "model.fit(X_train,Y_train)\n",
    "Y_pred_val = model.predict(X_val)\n",
    "kagg_val = eval_bikemodel(Y_pred_val,Y_val)\n",
    "print \"KAGG EVAL VAL =%f\"%kagg_val\n",
    "\n",
    "print \"representacion normalizada de las viejas caracteristicas\"\n",
    "X_train,Y_train,X_val,Y_val,X_test,Y_test = representacion(df2,\"old\",\"standar\")\n",
    "model = Tree(random_state=0,max_depth=10)\n",
    "model.fit(X_train,Y_train)\n",
    "Y_pred_val = model.predict(X_val)\n",
    "kagg_val = eval_bikemodel(Y_pred_val,Y_val)\n",
    "print \"KAGG EVAL VAL =%f\"%kagg_val\n",
    "print \"---------------------------------------------\"\n",
    "\n",
    "print \"representacion no normalizada de todas las caracteristicas\"\n",
    "X_train,Y_train,X_val,Y_val, X_test,Y_test = representacion(df2,\"all\",\"normal\")\n",
    "model = Tree(random_state=0,max_depth=10)\n",
    "model.fit(X_train,Y_train)\n",
    "Y_pred_val = model.predict(X_val)\n",
    "kagg_val = eval_bikemodel(Y_pred_val,Y_val)\n",
    "print \"KAGG EVAL VAL =%f\"%kagg_val\n",
    "\n",
    "print \"representacion normalizada de todas las caracteristicas\"\n",
    "X_train,Y_train,X_val,Y_val, X_test,Y_test = representacion(df2,\"all\",\"standar\")\n",
    "model = Tree(random_state=0,max_depth=10)\n",
    "model.fit(X_train,Y_train)\n",
    "Y_pred_val = model.predict(X_val)\n",
    "kagg_val = eval_bikemodel(Y_pred_val,Y_val)\n",
    "print \"KAGG EVAL VAL =%f\"%kagg_val\n",
    "\n",
    "print \"---------------------------------------------\"\n",
    "print \"representacion no normalizada con extraccion de caracteristicas\"\n",
    "X_train,Y_train,X_val,Y_val,X_test,Y_test = representacion(df2,\"extract\",\"normal\")\n",
    "model = Tree(random_state=0,max_depth=10) \n",
    "model.fit(X_train,Y_train)\n",
    "Y_pred_val = model.predict(X_val)\n",
    "\n",
    "kagg_val = eval_bikemodel(Y_pred_val,Y_val)\n",
    "print \"KAGG EVAL VAL =%f\"%kagg_val\n",
    "\n",
    "print \"representacion normalizada con extraccion de caracteristicas\"\n",
    "X_train,Y_train,X_val,Y_val,X_test,Y_test = representacion(df2,\"extract\",\"standar\")\n",
    "model = Tree(random_state=0,max_depth=10) \n",
    "model.fit(X_train,Y_train)\n",
    "Y_pred_val = model.predict(X_val)\n",
    "kagg_val = eval_bikemodel(Y_pred_val,Y_val)\n",
    "print \"KAGG EVAL VAL =%f\"%kagg_val\n",
    "\n",
    "print \"---------------------------------------------\"\n",
    "print \"representacion normalizada con extracion de caracteristicas y transformar la respuesta\"\n",
    "X_train,Y_train,X_val,Y_val, X_test,Y_test = representacion(df2,\"extract\",\"standar\")\n",
    "\n",
    "#transforma la respuesta (Target)\n",
    "Y_train = np.log(Y_train+1)\n",
    "Y_val = np.log(Y_val+1)\n",
    "        \n",
    "model = Tree(random_state=0,max_depth=10)\n",
    "model.fit(X_train,Y_train) #ajusta el modelo con target normalizado\n",
    "Y_pred_val = model.predict(X_val)\n",
    "\n",
    "#volver a la variable original\n",
    "Y_val = np.exp(Y_val)-1\n",
    "Y_pred_val = np.exp(Y_pred_val)-1\n",
    "\n",
    "kagg_val = eval_bikemodel(Y_pred_val,Y_val)\n",
    "print \"KAGG EVAL VAL =%f\"%kagg_val"
   ]
  },
  {
   "cell_type": "markdown",
   "metadata": {},
   "source": [
    "En la celda anterior se ajusta un árbol de regresión para las distintas representaciones creadas para el problema, eligiendo la representación que se ajusta mejor al score **KAGG EVAL** para el *validation set*, un error del 39,3% para la representación con el *input set* no normalizado y extrayendo características del modelo de regresión en base a la importancia según el algoritmo **FSS** para el árbol de regresión."
   ]
  },
  {
   "cell_type": "code",
   "execution_count": 12,
   "metadata": {
    "collapsed": false
   },
   "outputs": [
    {
     "name": "stdout",
     "output_type": "stream",
     "text": [
      "representacion no normalizada con extraccion de caracteristicas\n",
      "KAGG EVAL TEST =0.413617 \n"
     ]
    }
   ],
   "source": [
    "print \"representacion no normalizada con extraccion de caracteristicas\"\n",
    "X_train,Y_train,X_val,Y_val,X_test,Y_test = representacion(df2,\"extract\",\"normal\")\n",
    "model = Tree(random_state=0,max_depth=10)\n",
    "model.fit(X_train,Y_train)\n",
    "Y_pred_test = model.predict(X_test)\n",
    "kagg_test = eval_bikemodel(Y_pred_test,Y_test)\n",
    "print \"KAGG EVAL TEST =%f \"%kagg_test"
   ]
  },
  {
   "cell_type": "markdown",
   "metadata": {},
   "source": [
    "En base a la representación elegida según el mejor score sobre el *validation set*, correspondiente a la representación no normalizada de los datos con extracción de características, entrega un score **KAGG EVAL** sobre el *test set* del **41,4%**, mejorando el score de la pregunta anterior donde se varió unicamente la cantidad de niveles del árbol de regresión, es decir, el cambio de representación benefició al modelo. Con esto se entra en el top 1000 de la competencia.  \n",
    "Se espera que la representación sobre las características dejadas en el modelo según la extracción sean no normalizadas debido a que la mayoría son categóricas, por lo que tienen un mayor significado para el árbol de decisión codificadas con números discretos."
   ]
  },
  {
   "cell_type": "code",
   "execution_count": 13,
   "metadata": {
    "collapsed": false
   },
   "outputs": [
    {
     "name": "stderr",
     "output_type": "stream",
     "text": [
      "/usr/lib/python2.7/dist-packages/matplotlib/backends/backend_gtk.py:253: Warning: Source ID 659 was not found when attempting to remove it\n",
      "  gobject.source_remove(self._idle_event_id)\n"
     ]
    }
   ],
   "source": [
    "plt.figure(figsize=(12,8))\n",
    "plt.plot(Y_test,Y_pred_test,'.')\n",
    "plt.plot(range(1000),range(1000), color =\"r\")\n",
    "plt.xlabel('Valor Real')\n",
    "plt.ylabel('Prediccion')\n",
    "plt.show()"
   ]
  },
  {
   "cell_type": "markdown",
   "metadata": {},
   "source": [
    "## E) SVM no lineal - distintas representaciones"
   ]
  },
  {
   "cell_type": "code",
   "execution_count": 14,
   "metadata": {
    "collapsed": false
   },
   "outputs": [
    {
     "name": "stderr",
     "output_type": "stream",
     "text": [
      "/usr/lib/python2.7/dist-packages/matplotlib/backends/backend_gtk.py:253: Warning: Source ID 724 was not found when attempting to remove it\n",
      "  gobject.source_remove(self._idle_event_id)\n",
      "/usr/lib/python2.7/dist-packages/matplotlib/backends/backend_gtk.py:253: Warning: Source ID 869 was not found when attempting to remove it\n",
      "  gobject.source_remove(self._idle_event_id)\n"
     ]
    }
   ],
   "source": [
    "Y = df.ix[:,'count']\n",
    "plt.boxplot(Y)\n",
    "plt.show()\n",
    "Y = np.log(Y+1)\n",
    "plt.boxplot(Y)\n",
    "plt.show()"
   ]
  },
  {
   "cell_type": "markdown",
   "metadata": {},
   "source": [
    "hola!"
   ]
  },
  {
   "cell_type": "code",
   "execution_count": 15,
   "metadata": {
    "collapsed": false,
    "scrolled": true
   },
   "outputs": [
    {
     "name": "stdout",
     "output_type": "stream",
     "text": [
      "representacion normalizada de todas las caracteristicas y transformar el Y(target)\n",
      "KAGG EVAL VAL =0.386837\n",
      "-------------------------------------------------------\n",
      "representacion normalizada con todas las caracteristicas\n",
      "KAGG EVAL VAL =1.255825\n",
      "-------------------------------------------------------\n",
      "representacion normalizada con extraccion de caracteristicas y transformar el Y(target)\n",
      "KAGG EVAL VAL =0.320551\n"
     ]
    }
   ],
   "source": [
    "X_train,Y_train,X_val,Y_val,X_test,Y_test = representacion(df2,\"all\",\"standar\",vector=True)\n",
    "print \"representacion normalizada de todas las caracteristicas y transformar el Y(target)\"\n",
    "#transformar el Y\n",
    "Y_train = np.log(Y_train+1)\n",
    "Y_val = np.log(Y_val+1)\n",
    "        \n",
    "# Se ajusta a modelo SVR\n",
    "from sklearn.svm import SVR\n",
    "model = SVR()\n",
    "model.fit(X_train,Y_train)\n",
    "#Y_pred_train = model.predict(X_train)\n",
    "Y_pred_val = model.predict(X_val)\n",
    "Y_pred_test = model.predict(X_test)\n",
    "\n",
    "#volver a la variable original\n",
    "Y_train = np.exp(Y_train)-1\n",
    "Y_val = np.exp(Y_val) -1\n",
    "Y_pred_val = np.exp(Y_pred_val) -1\n",
    "Y_pred_test = np.exp(Y_pred_test)-1\n",
    "\n",
    "kagg_val = eval_bikemodel(Y_pred_val,Y_val)\n",
    "print \"KAGG EVAL VAL =%f\"%kagg_val\n",
    "print \"-------------------------------------------------------\"\n",
    "\n",
    "X_train,Y_train,X_val,Y_val,X_test,Y_test = representacion(df2,\"all\",\"standar\",vector=True)\n",
    "print \"representacion normalizada con todas las caracteristicas\"\n",
    "\n",
    "# Se ajusta a modelo SVR\n",
    "from sklearn.svm import SVR\n",
    "model = SVR()\n",
    "model.fit(X_train,Y_train)\n",
    "Y_pred_val = model.predict(X_val)\n",
    "Y_pred_test = model.predict(X_test)\n",
    "\n",
    "kagg_val = eval_bikemodel(Y_pred_val,Y_val)\n",
    "print \"KAGG EVAL VAL =%f\"%kagg_val\n",
    "print \"-------------------------------------------------------\"\n",
    "\n",
    "X_train,Y_train,X_val,Y_val,X_test,Y_test = representacion(df2,\"extract\",\"standar\",vector=True)\n",
    "print \"representacion normalizada con extraccion de caracteristicas y transformar el Y(target)\"\n",
    "#transformar el Y\n",
    "Y_train = np.log(Y_train+1)\n",
    "Y_val = np.log(Y_val+1)\n",
    "        \n",
    "# Se ajusta a modelo SVR\n",
    "from sklearn.svm import SVR\n",
    "model = SVR()\n",
    "model.fit(X_train,Y_train)\n",
    "#Y_pred_train = model.predict(X_train)\n",
    "Y_pred_val = model.predict(X_val)\n",
    "Y_pred_test = model.predict(X_test)\n",
    "\n",
    "#volver a la variable original\n",
    "Y_train = np.exp(Y_train)-1\n",
    "Y_val = np.exp(Y_val) -1\n",
    "Y_pred_val = np.exp(Y_pred_val) -1\n",
    "Y_pred_test = np.exp(Y_pred_test)-1\n",
    "\n",
    "kagg_val = eval_bikemodel(Y_pred_val,Y_val)\n",
    "print \"KAGG EVAL VAL =%f\"%kagg_val"
   ]
  },
  {
   "cell_type": "markdown",
   "metadata": {},
   "source": [
    "Para este caso se ajusta un clasificador *SVM* no lineal intentando mejorar el score del árbol de regresión definido anteriormente. En primer lugar se realiza una representación especial para este caso donde las variables categóricas, que no varían entre 1 y 0 (si y no), son transformadas en un vector binario donde va un 1 si es en ese caso, por ejemplo para la variable \"season\", esta será dividida en 4 vectores binarios simbolizando las 4 estaciones del año, en este caso si la \"season\" es *fall*  tendrá un 1 en el vector binario que corresponda a la \"season\" *fall*.  \n",
    "Otro factor importante es que es necesario un escalamiento de los datos (*input* y *output*) para tener rangos comparables y tener una mejor predicción. Como se ve en los resultados de la celda anterior si es que el *output* (target) no es transformado, el clasificador *SVM* logra predecir el modelo de una manera muy escasa, obteniendo un error **KAGG EVAL** del 125%. Para esto se realiza una transformación al *output* de la misma manera que la función **KAGG EVAL**, es decir aplicando logaritmo natural mas uno al valor a transforma, luego invirtiendo esta operación cuando se evalúa sobre la función **KAGG EVAL**. Esta transformación es requerida ya que los valores de la demanda son bastante altos (hasta 977 como se vio en la letra *a*) ), reduciendo el rango en el que varía estando continuamente entre 0 y 7 aproximadamente, elimimando los *outliers*\n",
    "\n",
    "Se elige la representación con menor error de **KAGG EVAL** sobre el *validation set*, la cual es la que normaliza el *input set* con la representación extrayendo características y transformando el target, un score del 32%. "
   ]
  },
  {
   "cell_type": "code",
   "execution_count": 16,
   "metadata": {
    "collapsed": false
   },
   "outputs": [
    {
     "name": "stdout",
     "output_type": "stream",
     "text": [
      "representacion normalizada con extraccion de caracteristicas y transformar el Y\n",
      "KAGG EVAL TEST =0.343653 \n"
     ]
    }
   ],
   "source": [
    "print \"representacion normalizada con extraccion de caracteristicas y transformar el Y\"\n",
    "X_train,Y_train,X_val,Y_val,X_test,Y_test = representacion(df2,\"extract\",\"standar\",vector=True)\n",
    "#transformar el Y\n",
    "Y_train = np.log(Y_train+1)\n",
    "        \n",
    "# Se ajusta a modelo SVR\n",
    "from sklearn.svm import SVR\n",
    "model = SVR()\n",
    "model.fit(X_train,Y_train)\n",
    "Y_pred_test = model.predict(X_test)\n",
    "\n",
    "#volver a la variable original\n",
    "Y_pred_test = np.exp(Y_pred_test)-1\n",
    "\n",
    "kagg_test = eval_bikemodel(Y_pred_test,Y_test)\n",
    "print \"KAGG EVAL TEST =%f \"%kagg_test"
   ]
  },
  {
   "cell_type": "markdown",
   "metadata": {},
   "source": [
    "Con esta representación elegida según el *validation set* se logra un score *KAGG EVAL* sobre el *test set* del **34,4%**, utilizando los hiperparámetros por defectos de la *SVM*. Entrando ya en el top 10 del *leaderboard*."
   ]
  },
  {
   "cell_type": "code",
   "execution_count": 17,
   "metadata": {
    "collapsed": false
   },
   "outputs": [
    {
     "name": "stderr",
     "output_type": "stream",
     "text": [
      "/usr/lib/python2.7/dist-packages/matplotlib/backends/backend_gtk.py:253: Warning: Source ID 979 was not found when attempting to remove it\n",
      "  gobject.source_remove(self._idle_event_id)\n"
     ]
    }
   ],
   "source": [
    "plt.figure(figsize=(12,8))\n",
    "plt.plot(Y_test,Y_pred_test,'.')\n",
    "plt.plot(range(1000),range(1000), color =\"r\")\n",
    "plt.xlabel('Valor Real')\n",
    "plt.ylabel('Prediccion')\n",
    "plt.show()"
   ]
  },
  {
   "cell_type": "markdown",
   "metadata": {},
   "source": [
    "## F) SVR (regresion) no lineal - variación de hiperparámetros"
   ]
  },
  {
   "cell_type": "code",
   "execution_count": 18,
   "metadata": {
    "collapsed": false
   },
   "outputs": [
    {
     "name": "stdout",
     "output_type": "stream",
     "text": [
      "representacion con extraccion de caracteristicas normalizadas y transformar el Y(target)\n",
      "[[1.4082932660716465, 1.4084854078286415, 1.408290320311923, 1.3880066416156127, 1.6644681370370946], [1.0976059992374543, 1.0981263092264608, 1.0992643686290147, 1.1654884610229708, 1.6644681370370946], [0.45048495053006765, 0.45043817619250492, 0.45176715859134409, 0.77451963138845348, 1.6644681370370946], [0.3214669929108584, 0.32094457559331713, 0.32055055323835274, 0.6757385160570123, 1.6644681370370946], [0.36565862478440092, 0.3644692642586706, 0.35770076731199224, 0.66641216203463538, 1.6644681370370946], [0.39752891182952899, 0.3949076073807552, 0.37599482786505783, 0.66641216203463416, 1.6644681370370946]]\n"
     ]
    }
   ],
   "source": [
    "X_train,Y_train,X_val,Y_val,X_test,Y_test = representacion(df2,\"extract\",\"standar\",vector=True)\n",
    "print \"representacion con extraccion de caracteristicas normalizadas y transformar el Y(target)\"\n",
    "\n",
    "# Se ajusta a modelo SVR\n",
    "from sklearn.svm import SVR\n",
    "Cs = [0.001,0.01,0.1,1,10,100]\n",
    "es = [0.001,0.01,0.1,1,10]\n",
    "info = []\n",
    "for c in Cs:\n",
    "    subinfo=[]\n",
    "    for e in es:\n",
    "        #transformar el Y\n",
    "        Y_train = np.log(Y_train+1)\n",
    "        Y_val = np.log(Y_val+1)\n",
    "\n",
    "        model = SVR(C=c, epsilon=e)\n",
    "        model.fit(X_train,Y_train)\n",
    "        Y_pred_val = model.predict(X_val)\n",
    "\n",
    "        #volver a la variable original\n",
    "        Y_train = np.exp(Y_train) -1\n",
    "        Y_val = np.exp(Y_val) -1\n",
    "        Y_pred_val = np.exp(Y_pred_val) -1\n",
    "\n",
    "        #kagg_train = eval_bikemodel(Y_pred_train,Y_train)\n",
    "        kagg_val = eval_bikemodel(Y_pred_val,Y_val)\n",
    "        subinfo.append(kagg_val)\n",
    "    info.append(subinfo)\n",
    "print info"
   ]
  },
  {
   "cell_type": "code",
   "execution_count": 19,
   "metadata": {
    "collapsed": false
   },
   "outputs": [
    {
     "name": "stdout",
     "output_type": "stream",
     "text": [
      "=========  ========  ========  ========  ========  ========\n",
      "C/Epsilon  0.001     0.01      0.1       1         10\n",
      "0.001      1.40829   1.40849   1.40829   1.38801    1.66447\n",
      "0.01       1.09761   1.09813   1.09926   1.16549    1.66447\n",
      "0.1        0.450485  0.450438  0.451767  0.77452    1.66447\n",
      "1          0.321467  0.320945  0.320551  0.675739   1.66447\n",
      "10         0.365659  0.364469  0.357701  0.666412   1.66447\n",
      "100        0.397529  0.394908  0.375995  0.666412   1.66447\n",
      "=========  ========  ========  ========  ========  ========\n"
     ]
    }
   ],
   "source": [
    "fila1 = ['C/Epsilon']+es\n",
    "filas = [[Cs[i]]+info[i] for i in range(len(info))]\n",
    "table = [fila1]+filas\n",
    "from tabulate import tabulate\n",
    "print tabulate(table,   tablefmt=\"rst\")"
   ]
  },
  {
   "cell_type": "markdown",
   "metadata": {},
   "source": [
    "Para estas celdas se ajusta un clasificador *SVM* no lineal con kernel \"RBF\" variando los hiperparámetros de esta y con la representación adecuada (*input* normalizado, atributos categóricos en vector binario y transformación al target). En la tabla anterior se presentan los distintos scores de la función **KAGG EVAL** en el *validation set*. En la columna de la izquierda se ve como varía el hiperparámetro *C*, en la primera fila se ve como varía el hiperparámetro $\\epsilon$.  \n",
    "Se puede ver que para valores altos de $\\epsilon$ el error aumenta, y para valores pequeños de *C* también, visualizado en la parte superior derecha (diagonal superior) de la tabla. Para valores pequeños de *C* el clasificador *SVM* se relaja, penalizando menos y permitiendo un mayor error sobre el *training set*.  \n",
    "\n",
    "El menor error sobre el *validation set* se produce en el centro de la tabla, con los hiperparámetros configurados en 1 y 0.1 para *C* y $\\epsilon$ respectivamente, siendo un valor de 32,1% de error, utilizando esta configuración de parámetros para predecir el *test set* a continuación."
   ]
  },
  {
   "cell_type": "code",
   "execution_count": null,
   "metadata": {
    "collapsed": false
   },
   "outputs": [
    {
     "name": "stdout",
     "output_type": "stream",
     "text": [
      "KAGG EVAL TEST =0.343653 \n"
     ]
    }
   ],
   "source": [
    "X_train,Y_train,X_val,Y_val,X_test,Y_test = representacion(df2,\"extract\",\"standar\",vector=True)\n",
    "\n",
    "#transformar el Y\n",
    "Y_train = np.log(Y_train+1)\n",
    "\n",
    "model = SVR(C=1, epsilon=0.1)\n",
    "model.fit(X_train,Y_train)\n",
    "Y_pred_test = model.predict(X_test)\n",
    "#volver a la variable original\n",
    "Y_pred_test = np.exp(Y_pred_test) -1\n",
    "\n",
    "kagg_test = eval_bikemodel(Y_pred_test,Y_test)\n",
    "print \"KAGG EVAL TEST =%f \"%kagg_test"
   ]
  },
  {
   "cell_type": "markdown",
   "metadata": {},
   "source": [
    "Se puede ver que este error es el mismo que para los parámetros por defecto, esto es ya que los parámetros seteados son los por defecto, siendo esa la mejor configuración para ajustar a este problema una *SVM* no lineal con la representación dada."
   ]
  },
  {
   "cell_type": "markdown",
   "metadata": {},
   "source": [
    "## G) Cross-validation"
   ]
  },
  {
   "cell_type": "code",
   "execution_count": null,
   "metadata": {
    "collapsed": false
   },
   "outputs": [
    {
     "name": "stdout",
     "output_type": "stream",
     "text": [
      "*Decision Tree\n",
      "representacion no normalizada con extraccion de caracteristicas\n",
      "BEST DEPTH =  30\n",
      "*SVM\n",
      "representacion normalizada con extraccion de caracteristicas y Transformar Y\n"
     ]
    }
   ],
   "source": [
    "from sklearn import cross_validation\n",
    "\n",
    "def cross_validation_fun(X_train,Y_train,model):\n",
    "    k_fold = cross_validation.KFold(len(X_train)-2,10)\n",
    "    score_cv = 0\n",
    "    for k, (train, val) in enumerate(k_fold):\n",
    "        #model = ) #SVR(C=1,epsilon=0.1)\n",
    "        aux_model = model\n",
    "        aux_model.fit(X_train[train], Y_train[train])\n",
    "        Ypred_val = aux_model.predict(X_train[val])\n",
    "        Ytrue_val = Y_train[val]\n",
    "        score_fold = eval_bikemodel(Ypred_val,Ytrue_val)\n",
    "        score_cv += score_fold\n",
    "    score_cv = score_cv / 10\n",
    "    return score_cv\n",
    "\n",
    "def cross_validation_svm(X_train,Y_train,model):\n",
    "    k_fold = cross_validation.KFold(len(X_train)-2,10)\n",
    "    score_cv = 0\n",
    "    for k, (train, val) in enumerate(k_fold):\n",
    "        aux_model = model\n",
    "        aux_model.fit(X_train[train], Y_train[train])\n",
    "        Ypred_val = aux_model.predict(X_train[val])\n",
    "        Ytrue_val = Y_train[val]\n",
    "        \n",
    "         #volver a la variable original\n",
    "        Ypred_val = np.exp(Ypred_val) -1\n",
    "        Ytrue_val = np.exp(Ytrue_val) -1\n",
    "        \n",
    "        score_fold = eval_bikemodel(Ypred_val,Ytrue_val)\n",
    "        score_cv += score_fold\n",
    "    score_cv = score_cv / 10\n",
    "    return score_cv\n",
    "\n",
    "\n",
    "#añadir X_val a X_train\n",
    "newX_train = np.concatenate((X_train,X_val))\n",
    "newY_train = np.concatenate((Y_train,Y_val))\n",
    "\n",
    "\n",
    "print \"*Decision Tree\" #mejor representacion para el arbol\n",
    "print \"representacion no normalizada con extraccion de caracteristicas\"\n",
    "X_train,Y_train,X_val,Y_val,X_test,Y_test = representacion(df2,\"extract\",\"normal\")\n",
    "\n",
    "N = np.arange(1,31)\n",
    "mejor = 1\n",
    "mejor_numero = 0\n",
    "for n in N:\n",
    "    model = Tree(random_state=0,max_depth=n)\n",
    "    model.fit(X_train,Y_train)    \n",
    "    val = cross_validation_fun(newX_train,newY_train, model)\n",
    "    if val < mejor:\n",
    "        mejor = val\n",
    "        mejor_numero = n\n",
    "print \"BEST DEPTH = \",mejor_numero\n",
    "\n",
    "\n",
    "print \"*SVM\" #mejor representacion para el arbol\n",
    "print \"representacion normalizada con extraccion de caracteristicas y Transformar Y\"\n",
    "X_train,Y_train,X_val,Y_val,X_test,Y_test = representacion(df2,\"extract\",\"standar\",vector=True)\n",
    "\n",
    "Cs = [0.001,0.01,0.1,1,10,100]\n",
    "es = [0.001,0.01,0.1,1,10]\n",
    "mejor = 1\n",
    "mejor_numero = []\n",
    "for c in Cs:\n",
    "    for e in es:\n",
    "        #transformar el Y\n",
    "        newY_train = np.log(newY_train+1)\n",
    "        model = SVR(C=c, epsilon=e)\n",
    "        model.fit(newX_train,newY_train)\n",
    "        val = cross_validation_svm(newX_train,newY_train, model)\n",
    "        if val < mejor:\n",
    "            mejor = val\n",
    "            mejor_numero = [c,e]\n",
    "        #volver a la variable original\n",
    "        newY_train = np.exp(newY_train) -1\n",
    "print \"BEST CONFIG C =%f , e =%f \"%(mejor_numero[0],mejor_numero[1])"
   ]
  },
  {
   "cell_type": "code",
   "execution_count": null,
   "metadata": {
    "collapsed": false
   },
   "outputs": [],
   "source": [
    "print \"*Decision Tree\"\n",
    "X_train,Y_train,X_val,Y_val,X_test,Y_test = representacion(df2,\"extract\",\"normal\")\n",
    "model = Tree(random_state=0,max_depth=12)\n",
    "model.fit(X_train,Y_train)\n",
    "Y_pred_test = model.predict(X_test)\n",
    "kagg_test = eval_bikemodel(Y_pred_test,Y_test)\n",
    "print \"KAGG EVAL TEST =%f \"%kagg_test   "
   ]
  },
  {
   "cell_type": "markdown",
   "metadata": {},
   "source": [
    "En la celda anterior se presenta el error sobre el *test set* del árbol de regresión prediciendo su parámetro (máxima profundidad) con el método *cross validation*, este error es **40%**, lo cual es mejor que el error sobre el árbol de regresión prediciendo su parámetro con el *validation set* siendo de 41,4%."
   ]
  },
  {
   "cell_type": "markdown",
   "metadata": {},
   "source": [
    "## H) Ensamblador (Registered-Casual)"
   ]
  },
  {
   "cell_type": "code",
   "execution_count": 12,
   "metadata": {
    "collapsed": false
   },
   "outputs": [
    {
     "name": "stderr",
     "output_type": "stream",
     "text": [
      "/usr/lib/python2.7/dist-packages/matplotlib/backends/backend_gtk.py:253: Warning: Source ID 3036 was not found when attempting to remove it\n",
      "  gobject.source_remove(self._idle_event_id)\n"
     ]
    }
   ],
   "source": [
    "import matplotlib.pyplot as plt\n",
    "\n",
    "spring_rows1 = df[ (df['season'] == 1) & (df['hour'] <= 6)]\n",
    "spring_rows2 = df[ (df['season'] == 1) & (df['hour'] > 6) & (df['hour'] <= 9)]\n",
    "spring_rows3 = df[ (df['season'] == 1) & (df['hour'] > 9) & (df['hour'] <= 12)]\n",
    "spring_rows4 = df[ (df['season'] == 1) & (df['hour'] > 12) & (df['hour'] <= 15)]\n",
    "spring_rows5 = df[ (df['season'] == 1) & (df['hour'] > 15) & (df['hour'] <= 18)]\n",
    "spring_rows6 = df[ (df['season'] == 1) & (df['hour'] > 18) & (df['hour'] <= 24)]\n",
    "\n",
    "spring_vals_reg = [sum(spring_rows1['registered']),sum(spring_rows2['registered']),\n",
    "                   sum(spring_rows3['registered']),sum(spring_rows4['registered'])\n",
    "                  ,sum(spring_rows4['registered']),sum(spring_rows4['registered'])]\n",
    "spring_vals_cas = [sum(spring_rows1['casual']),sum(spring_rows2['casual']),\n",
    "                   sum(spring_rows3['casual']),sum(spring_rows4['casual'])\n",
    "                  ,sum(spring_rows4['casual']),sum(spring_rows4['casual'])]\n",
    "\n",
    "summer_rows1 = df[ (df['season'] == 2) & (df['hour'] <= 6)]\n",
    "summer_rows2 = df[ (df['season'] == 2) & (df['hour'] > 6) & (df['hour'] <= 9)]\n",
    "summer_rows3 = df[ (df['season'] == 2) & (df['hour'] > 9) & (df['hour'] <= 12)]\n",
    "summer_rows4 = df[ (df['season'] == 2) & (df['hour'] > 12) & (df['hour'] <= 15)]\n",
    "summer_rows5 = df[ (df['season'] == 2) & (df['hour'] > 15) & (df['hour'] <= 18)]\n",
    "summer_rows6 = df[ (df['season'] == 2) & (df['hour'] > 18) & (df['hour'] <= 24)]\n",
    "\n",
    "summer_vals_reg = [sum(summer_rows1['registered']),sum(summer_rows2['registered']),\n",
    "               sum(summer_rows3['registered']),sum(summer_rows4['registered'])\n",
    "              ,sum(summer_rows4['registered']),sum(summer_rows4['registered'])]\n",
    "summer_vals_cas = [sum(summer_rows1['casual']),sum(summer_rows2['casual']),\n",
    "               sum(summer_rows3['casual']),sum(summer_rows4['casual'])\n",
    "              ,sum(summer_rows4['casual']),sum(summer_rows4['casual'])]\n",
    "\n",
    "fall_rows1 = df[ (df['season'] == 3) & (df['hour'] <= 6)]\n",
    "fall_rows2 = df[ (df['season'] == 3) & (df['hour'] > 6) & (df['hour'] <= 9)]\n",
    "fall_rows3 = df[ (df['season'] == 3) & (df['hour'] > 9) & (df['hour'] <= 12)]\n",
    "fall_rows4 = df[ (df['season'] == 3) & (df['hour'] > 12) & (df['hour'] <= 15)]\n",
    "fall_rows5 = df[ (df['season'] == 3) & (df['hour'] > 15) & (df['hour'] <= 18)]\n",
    "fall_rows6 = df[ (df['season'] == 3) & (df['hour'] > 18) & (df['hour'] <= 24)]\n",
    "\n",
    "fall_vals_reg = [sum(fall_rows1['registered']),sum(fall_rows2['registered']),\n",
    "             sum(fall_rows3['registered']),sum(fall_rows4['registered'])\n",
    "              ,sum(fall_rows4['registered']),sum(fall_rows4['registered'])]\n",
    "fall_vals_cas = [sum(fall_rows1['casual']),sum(fall_rows2['casual']),\n",
    "             sum(fall_rows3['casual']),sum(fall_rows4['casual'])\n",
    "              ,sum(fall_rows4['casual']),sum(fall_rows4['casual'])]\n",
    "\n",
    "winter_rows1 = df[ (df['season'] == 4) & (df['hour'] <= 6)]\n",
    "winter_rows2 = df[ (df['season'] == 4) & (df['hour'] > 6) & (df['hour'] <= 9)]\n",
    "winter_rows3 = df[ (df['season'] == 4) & (df['hour'] > 9) & (df['hour'] <= 12)]\n",
    "winter_rows4 = df[ (df['season'] == 4) & (df['hour'] > 12) & (df['hour'] <= 15)]\n",
    "winter_rows5 = df[ (df['season'] == 4) & (df['hour'] > 15) & (df['hour'] <= 18)]\n",
    "winter_rows6 = df[ (df['season'] == 4) & (df['hour'] > 18) & (df['hour'] <= 24)]\n",
    "\n",
    "winter_vals_reg = [sum(winter_rows1['registered']),sum(winter_rows2['registered']),\n",
    "               sum(winter_rows3['registered']),sum(winter_rows4['registered'])\n",
    "              ,sum(winter_rows4['registered']),sum(winter_rows4['registered'])]\n",
    "winter_vals_cas = [sum(winter_rows1['casual']),sum(winter_rows2['casual']),\n",
    "               sum(winter_rows3['casual']),sum(winter_rows4['casual'])\n",
    "              ,sum(winter_rows4['casual']),sum(winter_rows4['casual'])]\n",
    "\n",
    "# Construir histograma -------------------------------------------\n",
    "\n",
    "#PARA COMPARAR LAS EPOCAS DEL AÑO\n",
    "f, axarr = plt.subplots(1,2, figsize=(14,5) )\n",
    "axarr[0].plot(np.arange(0,6,1), spring_vals_reg, color = 'b', label = \"spring\")\n",
    "axarr[0].plot(np.arange(0,6,1), summer_vals_reg, color = 'r', label = \"summer\")\n",
    "axarr[0].plot(np.arange(0,6,1), fall_vals_reg, color = 'c', label = \"fall\")\n",
    "axarr[0].plot(np.arange(0,6,1), winter_vals_reg, color = 'y', label = \"winter\")\n",
    "axarr[0].set_xticks(np.arange(0,6))\n",
    "axarr[0].set_xticklabels(('6am','9am','12pm','15pm','6pm','12am'))\n",
    "axarr[0].set_title('Registered')\n",
    "axarr[0].set_ylabel('Ventas')\n",
    "axarr[0].axis('tight')\n",
    "\n",
    "axarr[0].legend(loc=4)\n",
    "\n",
    "axarr[1].plot(np.arange(0,6,1), spring_vals_cas, color = 'b', label = \"spring\")\n",
    "axarr[1].plot(np.arange(0,6,1), summer_vals_cas, color = 'r', label = \"summer\")\n",
    "axarr[1].plot(np.arange(0,6,1), fall_vals_cas, color = 'c', label = \"fall\")\n",
    "axarr[1].plot(np.arange(0,6,1), winter_vals_cas, color = 'y', label = \"winter\")\n",
    "axarr[1].set_xticks(np.arange(0,6))\n",
    "axarr[1].set_xticklabels(('6am','9am','12pm','15pm','6pm','12am'))\n",
    "axarr[1].set_title('Casual')\n",
    "axarr[1].set_ylabel('Ventas')\n",
    "axarr[1].axis('tight')\n",
    "\n",
    "axarr[1].legend(loc=2)\n",
    "\n",
    "f.tight_layout() #separar los subplot\n",
    "plt.show()"
   ]
  },
  {
   "cell_type": "markdown",
   "metadata": {},
   "source": [
    "Para evaluar el efecto de los ensamblados de 2 maquinas de aprendizaje en su intento para predecir la demanda total de bicicletas, se confeccionan dos graficos que muestran el valor de ventas acumuladas entre 5 rangos horarios, que cubren todas las horas del dia. Uno de los graficos representa la prediccion de demanda por parte de los usuarios registrados (*Registered*) y el otro la prediccion de la demanda por parte de los usuarios casuales (*Casual*).\n",
    "Se piensa que las representaciones son distintas.\n",
    "\n",
    "Como se puede observar en el grafico *Registered*, la acumulacion de ventas de este tipo de usuario se produce principalmente entre las 6am y las 9am, y luego las ventas son oscilantes, lo que hace pensar que este tipo de usuario tiene una rutina mas madrugadora.\n",
    "Tambien se puede observar que la cantidad de ventas es diferente por cada epoca del año, produciendose mas ventas en **otoño** e **invierno**.\n",
    "\n",
    "Por el lado del grafico *Casual*, se puede visualizar que el horario del dia en que se realizan las ventas tiene una tendencia ascendente, es decir, a medida que se hace mas tarde las ventas tienden a aumentar gradualmente.\n",
    "Este grafico presenta una diferencia con el grafico anterior, puesto que las epocas del año en que se producen mas ventas en este caso son **otoño** y **verano**.\n",
    "\n",
    "Es importante notar que la escala de ventas de ambos graficos es diferente, teniendo una mayor dimension la del grafico *Registered*, registrando una acumulacion de ventas por sobre los 90.000, a diferencia de *Casual* que llega a valores del orden de los 30.000.\n",
    "Esto concuerda con lo esperado, ya que los usuarios registrados tienden a efecturar compras de manera periodica, versus los usuarios casuales que realizan compras de vez en cuando."
   ]
  },
  {
   "cell_type": "code",
   "execution_count": 32,
   "metadata": {
    "collapsed": false
   },
   "outputs": [
    {
     "name": "stdout",
     "output_type": "stream",
     "text": [
      "**la demanda es definida registered-casual**\n",
      "Para la combinacion SVM-SVM\n",
      "KAGG EVAL VAL =0.319178\n",
      "Para la combinacion SVM-TREE\n",
      "KAGG EVAL VAL =0.320107\n",
      "Para la combinacion TREE-SVM\n",
      "KAGG EVAL VAL =0.358993\n",
      "Para la combinacion TREE-TREE\n",
      "KAGG EVAL VAL =0.370031\n"
     ]
    }
   ],
   "source": [
    "Y=df.ix[:,['count','registered','casual']] #demanda total\n",
    "#print Y\n",
    "\n",
    "def do_ensambler(df,Y,model1,model2):\n",
    "    # ------------------ Demanda Registrada ---------------------------\n",
    "    Yreg=Y.ix[:,'registered']     \n",
    "    Yreg_train = Yreg[0:ntrain].values\n",
    "    Yreg_val = Yreg[ntrain:nval].values\n",
    "    Yreg_test = Yreg[nval:].values\n",
    "\n",
    "    if model1 == \"arbol\":\n",
    "        X_train,Y_train,X_val,Y_val,X_test,Y_test = representacion(df,\"extract\",\"normal\")\n",
    "        model = Tree(random_state=0,max_depth=10)\n",
    "        \n",
    "    elif model1 == \"svm\":\n",
    "        X_train,Y_train,X_val,Y_val,X_test,Y_test = representacion(df,\"extract\",\"standar\",vector=True)\n",
    "        #transformar el Y de entrenamiento\n",
    "        Yreg_train = np.log(Yreg_train+1)\n",
    "        \n",
    "        model = SVR(C=1, epsilon=0.1)\n",
    "        \n",
    "    model.fit(X_train,Yreg_train)\n",
    "    Yreg_pred_val = model.predict(X_val)\n",
    "    Yreg_pred_test = model.predict(X_test)\n",
    "    \n",
    "    if model1==\"svm\": #volver a variable original\n",
    "        Yreg_pred_val = np.exp(Yreg_pred_val)-1\n",
    "        Yreg_pred_test = np.exp(Yreg_pred_test)-1\n",
    " \n",
    "    # ------------------ Demanda Casual ---------------------------\n",
    "    Ycas=Y.ix[:,'casual'] #demanda casual\n",
    "    Ycas_train = Ycas[0:ntrain].values\n",
    "    Ycas_val = Ycas[ntrain:nval].values\n",
    "    Ycas_test = Ycas[nval:].values\n",
    "    \n",
    "    if model2 == \"arbol\":\n",
    "        X_train,Y_train,X_val,Y_val,X_test,Y_test = representacion(df,\"extract\",\"normal\")\n",
    "        model = Tree(random_state=0,max_depth=10)\n",
    "        \n",
    "    elif model2 == \"svm\":\n",
    "        X_train,Y_train,X_val,Y_val,X_test,Y_test = representacion(df,\"extract\",\"standar\",vector=True)\n",
    "        #transformar Y entrenamiento\n",
    "        Ycas_train = np.log(Ycas_train+1)\n",
    "        \n",
    "        model = SVR(C=1,epsilon=0.1)\n",
    "    \n",
    "    model.fit(X_train,Ycas_train)\n",
    "    Ycas_pred_val = model.predict(X_val)\n",
    "    Ycas_pred_test = model.predict(X_test)\n",
    "    \n",
    "    if model2 == \"svm\": #volver a variable original\n",
    "        Ycas_pred_val = np.exp(Ycas_pred_val)-1\n",
    "        Ycas_pred_test = np.exp(Ycas_pred_test) -1\n",
    "\n",
    "    return Yreg_pred_val+Ycas_pred_val, Yreg_pred_test+Ycas_pred_test\n",
    "\n",
    "\n",
    "\n",
    "print \"**la demanda es definida registered-casual**\"\n",
    "X_train,Y_train,X_val,Y_val,X_test,Y_test = representacion(df2,\"extract\",\"standar\",vector=True)\n",
    "\n",
    "print \"Para la combinacion SVM-SVM\"\n",
    "Y_pred_val,Y_pred_test = do_ensambler(df2,Y,\"svm\",\"svm\")\n",
    "kagg_val = eval_bikemodel(Y_pred_val,Y_val)\n",
    "print \"KAGG EVAL VAL =%f\"%kagg_val\n",
    "\n",
    "print \"Para la combinacion SVM-TREE\"\n",
    "Y_pred_val,Y_pred_test = do_ensambler(df2,Y,\"svm\",\"arbol\")\n",
    "kagg_val = eval_bikemodel(Y_pred_val,Y_val)\n",
    "print \"KAGG EVAL VAL =%f\"%kagg_val\n",
    "\n",
    "print \"Para la combinacion TREE-SVM\"\n",
    "Y_pred_val,Y_pred_test = do_ensambler(df2,Y,\"arbol\",\"svm\")\n",
    "kagg_val = eval_bikemodel(Y_pred_val,Y_val)\n",
    "print \"KAGG EVAL VAL =%f\"%kagg_val\n",
    "\n",
    "print \"Para la combinacion TREE-TREE\"\n",
    "Y_pred_val,Y_pred_test = do_ensambler(df2,Y,\"arbol\",\"arbol\")\n",
    "kagg_val = eval_bikemodel(Y_pred_val,Y_val)\n",
    "print \"KAGG EVAL VAL =%f\"%kagg_val"
   ]
  },
  {
   "cell_type": "markdown",
   "metadata": {},
   "source": [
    "En la celda anterior se crea un ensamblado ajustando 2 modelos regresores, cada uno ajustado y especializado sobre una parte de la data, esto se produce ya que la data se divide en demanda de usuarios registrados y demanda de usuarios casuales, por lo que se evalúa el efecto de utilizar este ensamblado donde cada máquina se ajusta a los usuarios registrados o los usuarios casuales. Por ejemplo si se escoge la combinacuón árbol-svm, el árbol de decisión se ajusta y especializa sobre la demanda de usuarios registrados, por otro lado el svm se ajusta y especializa sobre la demanda de usuarios casuales.  \n",
    "Distintas combinaciones son presentadas en la celda anterior mostrándo su score del error **KAGG EVAL** sobre el *validation set*, eligiendo la mejor de estas (*SVM-SVM*) para evaluar su score sobre el *test set*."
   ]
  },
  {
   "cell_type": "code",
   "execution_count": 30,
   "metadata": {
    "collapsed": false
   },
   "outputs": [
    {
     "name": "stdout",
     "output_type": "stream",
     "text": [
      "Para la combinacion SVM-SVM\n",
      "BEST KAGG EVAL in TEST SET =0.342514\n"
     ]
    }
   ],
   "source": [
    "print \"Para la combinacion SVM-SVM\"\n",
    "Y_pred_val,Y_pred_test = do_ensambler(df2,Y,\"svm\",\"svm\")\n",
    "kagg_test = eval_bikemodel(Y_pred_test,Y_test)\n",
    "print \"BEST KAGG EVAL in TEST SET =%f\"%kagg_test"
   ]
  },
  {
   "cell_type": "markdown",
   "metadata": {},
   "source": [
    "Se presenta el error sobre el *test set* de un **34,3%**, valor menor que una única svm ajustada sobre todo el dataset (34,4%). Esto es gracias a que un ensamblado presenta un mayor desempeño que una máquina singular debido a que una máquina puede presentar errores que la otra máquina corrige, es por esto que dos máquinas ensamblados una especializándose en una parte de la data entrega un mejor score. Además de que cada parte de la data se comporta de una manera distinta (usuarios registrados vs usuarios casuales) mostrádo en el gráfico anterior, por lo que resulta conveniente ajustar 2 máquinas."
   ]
  },
  {
   "cell_type": "markdown",
   "metadata": {},
   "source": [
    "## I) Random Forest Regressor"
   ]
  },
  {
   "cell_type": "code",
   "execution_count": 46,
   "metadata": {
    "collapsed": false
   },
   "outputs": [
    {
     "name": "stdout",
     "output_type": "stream",
     "text": [
      "BEST NUMBER OF TREES = 20\n",
      "--------------------------------------------\n",
      "BEST DEEPTH= 13\n"
     ]
    }
   ],
   "source": [
    "from sklearn.ensemble import RandomForestRegressor\n",
    "\n",
    "X_train,Y_train,X_val,Y_val,X_test,Y_test = representacion(df2,\"extract\",\"normal\")\n",
    "\n",
    "N = np.arange(1,31)\n",
    "info1 = []\n",
    "mejor = 1\n",
    "mejor_numero = 0\n",
    "for n_trees in N:\n",
    "    model = RandomForestRegressor(n_estimators=n_trees,max_depth=10,random_state=0)\n",
    "    model.fit(X_train,Y_train)    \n",
    "    Y_pred_train = model.predict(X_train)\n",
    "    Y_pred_val = model.predict(X_val)\n",
    "    Y_pred_test = model.predict(X_test)\n",
    "    \n",
    "    #para grafico de mas abajo\n",
    "    kagg_train = eval_bikemodel(Y_pred_train,Y_train)\n",
    "    kagg_test = eval_bikemodel(Y_pred_test,Y_test)\n",
    "    info1.append([kagg_train,kagg_test])\n",
    "    \n",
    "    val = eval_bikemodel(Y_pred_val,Y_val)\n",
    "    if val <mejor:\n",
    "        mejor = val\n",
    "        mejor_numero = n_trees\n",
    "print \"BEST NUMBER OF TREES = %d\"%mejor_numero\n",
    "print \"--------------------------------------------\"\n",
    "\n",
    "N = np.arange(1,31)\n",
    "info2 = []\n",
    "mejor = 1\n",
    "mejor_niveles = 0\n",
    "for level in N:\n",
    "    model = RandomForestRegressor(n_estimators=20,max_depth=level,random_state=0)\n",
    "    model.fit(X_train,Y_train)\n",
    "    Y_pred_train = model.predict(X_train)\n",
    "    Y_pred_val = model.predict(X_val)\n",
    "    Y_pred_test = model.predict(X_test)\n",
    "\n",
    "    kagg_train = eval_bikemodel(Y_pred_train,Y_train)\n",
    "    kagg_test = eval_bikemodel(Y_pred_test,Y_test)\n",
    "    info2.append([kagg_train,kagg_test])\n",
    "    \n",
    "    val = eval_bikemodel(Y_pred_val,Y_val)\n",
    "    if val <mejor:\n",
    "        mejor = val\n",
    "        mejor_niveles = level\n",
    "print \"BEST DEEPTH= %d\"%mejor_niveles"
   ]
  },
  {
   "cell_type": "markdown",
   "metadata": {},
   "source": [
    "En la celda anterior se ajusta un clasificador *Random Forest Regresor* el cual es un ensamblador de *n* árboles de regresión para este caso. Se varía la cantidad de árboles utilizados en el ensamblado como la cantidad de niveles para el mejor clasificador, ajustando sobre el clasificador y tomando la decisión en base al error de la función **KAGG EVAL** sobre el *validation set*. Presentando la mejor configuración de cantidad de árboles en el ensamblado (20) y la máxima profunidad de cada árbol de regresión en el ensamblado (13), se ve el efecto sobre el *test set* a continuación."
   ]
  },
  {
   "cell_type": "code",
   "execution_count": 50,
   "metadata": {
    "collapsed": false
   },
   "outputs": [
    {
     "name": "stdout",
     "output_type": "stream",
     "text": [
      "--------------------------------------------\n",
      "BEST KAGG EVAL in TEST SET =0.370870\n"
     ]
    }
   ],
   "source": [
    "print \"--------------------------------------------\"\n",
    "model = RandomForestRegressor(n_estimators=20,max_depth=13,random_state=0)\n",
    "model.fit(X_train,Y_train)\n",
    "Y_pred_test = model.predict(X_test)\n",
    "kagg_test = eval_bikemodel(Y_pred_test,Y_test)\n",
    "print \"BEST KAGG EVAL in TEST SET =%f\"%kagg_test"
   ]
  },
  {
   "cell_type": "markdown",
   "metadata": {},
   "source": [
    "El score sobre el *test set* (en base **KAGG EVAL**) es del 37,1%, este error es mayor que el de la *SVM*, pero menor que el de los árboles de decisión ajustados anteriormente (alrededor del 40%). Con esto se puede ver el poder de un ensamblado de $n$ árboles donde tiene un mayor poder para entregar una buena predicción."
   ]
  },
  {
   "cell_type": "code",
   "execution_count": 52,
   "metadata": {
    "collapsed": false
   },
   "outputs": [
    {
     "data": {
      "image/png": "[encoded data removed]",
      "text/plain": [
       "<matplotlib.figure.Figure at 0x7f6659b77510>"
      ]
     },
     "metadata": {},
     "output_type": "display_data"
    },
    {
     "data": {
      "image/png": "[encoded data removed]",
      "text/plain": [
       "<matplotlib.figure.Figure at 0x7f6668c35e50>"
      ]
     },
     "metadata": {},
     "output_type": "display_data"
    }
   ],
   "source": [
    "error_train1 = [ i[0] for i in info1]\n",
    "error_test1 = [ i[1] for i in info1]\n",
    "error_train2 = [ i[0] for i in info2]\n",
    "error_test2 = [ i[1] for i in info2]\n",
    "\n",
    "import matplotlib.pyplot as plt\n",
    "f, axarr = plt.subplots(1, 2, figsize=(15,5))\n",
    "axarr[0].plot(N,error_train1, label = \"Training set\")\n",
    "axarr[0].plot(N,error_test1, label = \"Test set\")\n",
    "#axarr[0].set_xticks(N)\n",
    "axarr[0].set_xlabel('Numero de maquinas de aprendizaje')\n",
    "axarr[0].set_ylabel('Error')\n",
    "axarr[0].set_title('Error sobre RandomForest de profundidad 10')\n",
    "#axarr[0].set_ylim(0,0.5)\n",
    "axarr[0].legend(loc=\"upper right\")\n",
    "\n",
    "axarr[1].plot(N,error_train2, label = \"Training set\")\n",
    "axarr[1].plot(N,error_test2, label = \"Test set\")\n",
    "#axarr[1].set_xticks(N)\n",
    "axarr[1].set_xlabel('Numero de niveles')\n",
    "axarr[1].set_ylabel('Error')\n",
    "axarr[1].set_title('Error sobre RandomForest con 20 maquinas de aprendizaje')\n",
    "axarr[1].legend(loc=\"upper right\")\n",
    "plt.show()\n",
    "\n",
    "plt.plot(N[:10],error_train1[:10], label = \"Training set\")\n",
    "plt.plot(N[:10],error_test1[:10], label = \"Test set\")\n",
    "#axarr[1].set_xticks(N)\n",
    "plt.xlabel('Numero de niveles')\n",
    "plt.ylabel('Error')\n",
    "plt.title('Error sobre RandomForest de maxima 10 niveles')\n",
    "plt.legend(loc=\"upper right\")\n",
    "plt.show()"
   ]
  },
  {
   "cell_type": "markdown",
   "metadata": {
    "collapsed": true
   },
   "source": [
    "En la celda anterior se ejecuta un algoritmo generico basado en *Random Forest* para ensamblar maquinas de aprendizaje que prediscan la demanda total de bicicletas y asi poder generar los graficos presentados.\n",
    "\n",
    "En el primer grafico se grafica el error versus el numero de arboles de profundidad 10 utilizados en el ensamblado. Se puede observar que el error registrado por el training set y el test set presentan valores inferiores a 0.44 lo cual es relativamente bajo.\n",
    "Se puede apreciar claramente que tanto el training set como el test set poseen un comportamiento muy similar y uniforme al aumentar el numero de maquinas de aprendizaje, por lo que se infiere que no se produce *overffiting*.\n",
    "\n",
    "En el segundo grafico se grafica el error versus el numero de niveles de profundidad en un modelo *Random Forest* con 20 maquinas de aprendizaje\n",
    "\n",
    "\n",
    "\n",
    "Evalúe el efecto de utilizar un algoritmo genérico para ensamblar máquinas de aprendizaje para predecir\n",
    "la demanda total de bicicletas. Puede experimentar con una sola técnica (e.g. Random Forest), pero\n",
    "por favor estudie y discuta la evolución del rendimiento (de entrenamiento y pruebas) a medida que\n",
    "aumenta el número de máquinas."
   ]
  }
 ],
 "metadata": {
  "kernelspec": {
   "display_name": "Python 2",
   "language": "python",
   "name": "python2"
  },
  "language_info": {
   "codemirror_mode": {
    "name": "ipython",
    "version": 2
   },
   "file_extension": ".py",
   "mimetype": "text/x-python",
   "name": "python",
   "nbconvert_exporter": "python",
   "pygments_lexer": "ipython2",
   "version": "2.7.10"
  }
 },
 "nbformat": 4,
 "nbformat_minor": 1
}
