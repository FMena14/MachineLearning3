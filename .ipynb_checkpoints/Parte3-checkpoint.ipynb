{
 "cells": [
  {
   "cell_type": "markdown",
   "metadata": {},
   "source": [
    "# Reconocimiento de Imágenes en CIFAR10"
   ]
  },
  {
   "cell_type": "code",
   "execution_count": null,
   "metadata": {
    "collapsed": true
   },
   "outputs": [],
   "source": [
    "explicacion"
   ]
  },
  {
   "cell_type": "code",
   "execution_count": 2,
   "metadata": {
    "collapsed": false
   },
   "outputs": [],
   "source": [
    "def unpickle(file):\n",
    "    import cPickle\n",
    "    fo = open(file, 'rb')\n",
    "    dict = cPickle.load(fo)\n",
    "    fo.close()\n",
    "    return dict\n",
    "\n",
    "dict1 = unpickle(\"data_batch_1\")\n",
    "dict2 = unpickle(\"data_batch_2\")\n",
    "dict3 = unpickle(\"data_batch_3\")\n",
    "dict4 = unpickle(\"data_batch_4\")\n",
    "dict5 = unpickle(\"data_batch_5\")\n",
    "\n",
    "\n",
    "label_names = [\"airplane\", \"automobile\", \"bird\", \"cat\", \"deer\", \"dog\", \"frog\", \"horse\", \"ship\", \"truck\"]\n"
   ]
  },
  {
   "cell_type": "markdown",
   "metadata": {},
   "source": [
    "## A)"
   ]
  },
  {
   "cell_type": "code",
   "execution_count": 3,
   "metadata": {
    "collapsed": false
   },
   "outputs": [
    {
     "name": "stdout",
     "output_type": "stream",
     "text": [
      "(50000, 3072)\n",
      "[[ 59  43  50 ..., 140  84  72]\n",
      " [154 126 105 ..., 139 142 144]\n",
      " [255 253 253 ...,  83  83  84]\n",
      " ..., \n",
      " [ 35  40  42 ...,  77  66  50]\n",
      " [189 186 185 ..., 169 171 171]\n",
      " [229 236 234 ..., 173 162 161]]\n",
      "(42567, 3072)\n",
      "(7433, 3072)\n"
     ]
    }
   ],
   "source": [
    "from scipy.misc import imread\n",
    "import cPickle as pickle\n",
    "import numpy as np\n",
    "import os\n",
    "\n",
    "def load_CIFAR_one(filename):\n",
    "    with open(filename, \"rb\") as f:\n",
    "        datadict = pickle.load(f)\n",
    "        X = datadict[\"data\"]\n",
    "        Y = datadict[\"labels\"]\n",
    "        return X, np.array(Y)\n",
    "\n",
    "def load_CIFAR10(PATH):\n",
    "    xs = []\n",
    "    ys = []\n",
    "    for b in range(1,6):\n",
    "        f = os.path.join(PATH, \"data_batch_%d\" % (b, ))\n",
    "        X, Y = load_CIFAR_one(f)\n",
    "        xs.append(X)\n",
    "        ys.append(Y)\n",
    "    Xtr = np.concatenate(xs)\n",
    "    Ytr = np.concatenate(ys)\n",
    "    del X, Y\n",
    "    Xte, Yte = load_CIFAR_one(os.path.join(PATH, \"test_batch\"))\n",
    "    return Xtr, Ytr, Xte, Yte\n",
    "#you need to add Xval\n",
    "X_train,Y_train, X_test,Y_test = load_CIFAR10('.')\n",
    "\n",
    "print X_train.shape\n",
    "print X_train\n",
    "\n",
    "index = np.arange(np.shape(X_train)[0]) #filas \n",
    "np.random.shuffle(index) #permutan las filas\n",
    "X = X_train[index, :] #matriz permutada\n",
    "Y = Y_train[index]\n",
    "\n",
    "#l =  np.random.randint(1000,10000) #entrego 7433\n",
    "n = X_train.shape[0]\n",
    "l = 7433\n",
    "\n",
    "X_train = X[l:,] #Datos de entrenamiento ( n-l)\n",
    "Y_train = Y[l:]\n",
    "\n",
    "X_val = X[:l,] #Datos de prueba (l)\n",
    "Y_val = Y[:l]\n",
    "\n",
    "print X_train.shape\n",
    "print X_val.shape"
   ]
  },
  {
   "cell_type": "markdown",
   "metadata": {},
   "source": [
    "## B)"
   ]
  },
  {
   "cell_type": "code",
   "execution_count": 4,
   "metadata": {
    "collapsed": false
   },
   "outputs": [],
   "source": [
    "# Escalar y centrar datos\n",
    "from sklearn.preprocessing import StandardScaler\n",
    "\n",
    "def scaler_t(X,Xv,Xt,scaler_type):\n",
    "    if scaler_type == \"standar\":\n",
    "        scaler= StandardScaler(with_std=True).fit(X)\n",
    "        return scaler.transform(X), scaler.transform(Xv), scaler.transform(Xt)\n",
    "    elif scaler_type == \"int_max\":\n",
    "        return X/255.0, Xv/255.0, Xt/255.0\n",
    "    else: #otro\n",
    "        return X*0.5\n",
    "\n",
    "X,Xv,Xt = scaler_t(X_train,X_val,X_test,\"int_max\")"
   ]
  },
  {
   "cell_type": "markdown",
   "metadata": {},
   "source": [
    "## C)"
   ]
  },
  {
   "cell_type": "code",
   "execution_count": 16,
   "metadata": {
    "collapsed": false
   },
   "outputs": [
    {
     "name": "stdout",
     "output_type": "stream",
     "text": [
      "<type 'numpy.ndarray'>\n"
     ]
    },
    {
     "data": {
      "text/plain": [
       "'\\nfrom keras.models import Sequential\\nfrom keras.layers import Dense, Activation,Dropout\\nfrom keras.optimizers import SGD\\n\\n#experimentar variando valores\\nmodel = Sequential()\\nmodel.add(Dense(100, input_dim=Xtr.shape[1], init=\\'uniform\\', activation=\\'relu\\'))\\nmodel.add(Dropout(0.1))\\nmodel.add(Dense(10, init=\\'uniform\\', activation=\\'softmax\\'))\\nmodel.compile(optimizer=SGD(lr=0.05), loss=\\'binary_crossentropy\\', metrics=[\\'accuracy\\'])\\nmodel.fit(Xtr, Ytr, nb_epoch=50, batch_size=32, verbose=1, validation_data=(Xv,Yv))\\nscores = model.evaluate(Xv, Yv)\\nval_acc = scores[1]\\nprint \"VALIDATION ACCURACY = %f\"%val_acc\\n'"
      ]
     },
     "execution_count": 16,
     "metadata": {},
     "output_type": "execute_result"
    }
   ],
   "source": [
    "from keras.utils.np_utils import to_categorical\n",
    "from sklearn.preprocessing import StandardScaler\n",
    "\n",
    "def scaler_function(X_train,X_test,scale=True):\n",
    "    scaler = StandardScaler(with_std=scale).fit(X_train)\n",
    "    X_train_scaled = scaler.transform(X_train)\n",
    "    Xt_scaled = scaler.transform(X_test)\n",
    "    return X_train_scaled, Xt_scaled\n",
    "\n",
    "\n",
    "X,Xv,Xt = scaler_t(X_train,X_val,X_test,\"standar\")\n",
    "Ytr = to_categorical(Y_train)\n",
    "Yv = to_categorical(Y_val)\n",
    "Yt = to_categorical(Y_test)\n",
    "\n",
    "\n",
    "from keras.models import Sequential\n",
    "from keras.layers import Dense, Activation,Dropout\n",
    "from keras.optimizers import SGD\n",
    "\n",
    "#experimentar variando valores\n",
    "model = Sequential()\n",
    "model.add(Dense(100, input_dim=Xtr.shape[1], init='uniform', activation='relu'))\n",
    "model.add(Dropout(0.1))\n",
    "model.add(Dense(10, init='uniform', activation='softmax'))\n",
    "model.compile(optimizer=SGD(lr=0.05), loss='binary_crossentropy', metrics=['accuracy'])\n",
    "model.fit(Xtr, Ytr, nb_epoch=50, batch_size=32, verbose=1, validation_data=(Xv,Yv))\n",
    "\n",
    "scores = model.evaluate(Xv, Yv)\n",
    "print \"VALIDATION ACCURACY = %f\"% scores[1]\n",
    "\n",
    "scores = model.evaluate(Xt, Yt)\n",
    "print \"TEST ACCURACY = %f\"% scores[1]"
   ]
  },
  {
   "cell_type": "markdown",
   "metadata": {},
   "source": [
    "## D)"
   ]
  },
  {
   "cell_type": "code",
   "execution_count": 17,
   "metadata": {
    "collapsed": false
   },
   "outputs": [
    {
     "ename": "ImportError",
     "evalue": "No module named top_level_features",
     "output_type": "error",
     "traceback": [
      "\u001b[0;31m---------------------------------------------------------------------------\u001b[0m",
      "\u001b[0;31mImportError\u001b[0m                               Traceback (most recent call last)",
      "\u001b[0;32m<ipython-input-17-5a1de13bc5cf>\u001b[0m in \u001b[0;36m<module>\u001b[0;34m()\u001b[0m\n\u001b[0;32m----> 1\u001b[0;31m \u001b[0;32mfrom\u001b[0m \u001b[0mtop_level_features\u001b[0m \u001b[0;32mimport\u001b[0m \u001b[0mhog_features\u001b[0m\u001b[0;34m\u001b[0m\u001b[0m\n\u001b[0m\u001b[1;32m      2\u001b[0m \u001b[0;32mfrom\u001b[0m \u001b[0mtop_level_features\u001b[0m \u001b[0;32mimport\u001b[0m \u001b[0mcolor_histogram_hsv\u001b[0m\u001b[0;34m\u001b[0m\u001b[0m\n\u001b[1;32m      3\u001b[0m \u001b[0;32mfrom\u001b[0m \u001b[0mtop_level_features\u001b[0m \u001b[0;32mimport\u001b[0m \u001b[0mextract_features\u001b[0m\u001b[0;34m\u001b[0m\u001b[0m\n\u001b[1;32m      4\u001b[0m \u001b[0mXtr\u001b[0m\u001b[0;34m,\u001b[0m \u001b[0mYtr\u001b[0m\u001b[0;34m,\u001b[0m \u001b[0mXte\u001b[0m\u001b[0;34m,\u001b[0m \u001b[0mYte\u001b[0m \u001b[0;34m=\u001b[0m \u001b[0mload_CIFAR10\u001b[0m\u001b[0;34m(\u001b[0m\u001b[0;34m\"datasets/\"\u001b[0m\u001b[0;34m)\u001b[0m\u001b[0;34m\u001b[0m\u001b[0m\n\u001b[1;32m      5\u001b[0m \u001b[0mfeatures\u001b[0m \u001b[0;34m=\u001b[0m \u001b[0mextract_features\u001b[0m\u001b[0;34m(\u001b[0m\u001b[0mXtr\u001b[0m\u001b[0;34m,\u001b[0m\u001b[0;34m[\u001b[0m\u001b[0mhog_features\u001b[0m\u001b[0;34m]\u001b[0m\u001b[0;34m)\u001b[0m \u001b[0;31m#extrae hog features\u001b[0m\u001b[0;34m\u001b[0m\u001b[0m\n",
      "\u001b[0;31mImportError\u001b[0m: No module named top_level_features"
     ]
    }
   ],
   "source": [
    "from top_level_features import hog_features\n",
    "from top_level_features import color_histogram_hsv\n",
    "from top_level_features import extract_features\n",
    "Xtr, Ytr, Xte, Yte = load_CIFAR10(\"datasets/\")\n",
    "features = extract_features(Xtr,[hog_features]) #extrae hog features\n",
    "features = extract_features(Xtr,[color_histogram_hsv]) #extrae histogramas de color\n",
    "features = extract_features(Xtr,[hog_features, color_histogram_hsv]) #extrae todo\n",
    "print Xtr.shape\n",
    "print features.shape"
   ]
  },
  {
   "cell_type": "markdown",
   "metadata": {},
   "source": [
    "## E)"
   ]
  },
  {
   "cell_type": "code",
   "execution_count": null,
   "metadata": {
    "collapsed": false
   },
   "outputs": [
    {
     "name": "stderr",
     "output_type": "stream",
     "text": [
      "/usr/local/lib/python2.7/dist-packages/sklearn/utils/validation.py:429: DataConversionWarning: Data with input dtype uint8 was converted to float64 by StandardScaler.\n",
      "  warnings.warn(msg, _DataConversionWarning)\n"
     ]
    },
    {
     "name": "stdout",
     "output_type": "stream",
     "text": [
      "[LibSVM]"
     ]
    }
   ],
   "source": [
    "#ajustar SVM no lineal sobre las distintas representaciones y variar hiperparametros\n",
    "from sklearn.svm import SVC\n",
    "from keras.utils.np_utils import to_categorical\n",
    "\n",
    "\n",
    "Cs = [pow(2,k) for k in np.arange(-2,5,1)]\n",
    "def do_SVC(x,y,xv,yv):\n",
    "    mejor = 0\n",
    "    info1 = []\n",
    "    info2 = []\n",
    "    for C in Cs:\n",
    "        clf1 = SVC(C=C, kernel=\"rbf\")\n",
    "        clf2 = SVC(C=C, kernel=\"poly\",degree=2, coef0=1)\n",
    "        \n",
    "        clf1 = clf1.fit(x,y)\n",
    "        clf2 = clf2.fit(x,y)\n",
    "        \n",
    "        acc_1 = clf1.score(x,y)\n",
    "        accv_1 = clf1.score(xv,yv)\n",
    "        \n",
    "        acc_2 = clf2.score(x,y)\n",
    "        accv_2 = clf2.score(xv,yv)\n",
    "        \n",
    "        if accv_1 > mejor:\n",
    "            mejor = accv_1\n",
    "        if accv_2 > mejor:\n",
    "            mejor = accv_2\n",
    "        info1.append([acc_1,accv_1])\n",
    "        info2.append([acc_2,accv_2])\n",
    "    print \"Best Validation Accuracy = %f\"%mejor\n",
    "    return info1,info2\n",
    "\n",
    "X,Xv,Xt = scaler_t(X_train,X_val,X_test,\"standar\")\n",
    "Ytr = to_categorical(Y_train)\n",
    "Yv = to_categorical(Y_val)\n",
    "Yt = to_categorical(Y_test)\n",
    "\n",
    "clf = SVC(C=1, kernel=\"rbf\",verbose=1,max_iter=10)        \n",
    "clf = clf.fit(X,Y_train)        \n",
    "acc = clf.score(Xv,Y_val)\n",
    "print acc\n",
    "\n",
    "#do_SVC(X,Y_train,Xv,Y_val)"
   ]
  },
  {
   "cell_type": "markdown",
   "metadata": {},
   "source": [
    "## F)"
   ]
  },
  {
   "cell_type": "code",
   "execution_count": null,
   "metadata": {
    "collapsed": true
   },
   "outputs": [],
   "source": [
    "#ajustar ARbol clasificacion sobre las distintas representaciones y variar hipermatrscos\n",
    "from sklearn.tree import DecisionTreeClassifier as Tree\n",
    "\n",
    "N_ts = np.arange(2,21,1) #cambiar\n",
    "def do_Tree(x,y,xv,yv):\n",
    "    mejor = 0\n",
    "    info = []\n",
    "    for n_t in N_ts:\n",
    "        clf=Tree(criterion=\"gini\",splitter=\"best\",random_state=0,max_depth=n_t)\n",
    "        clf.fit(x,y)\n",
    "        acc = clf.score(x,y)\n",
    "        acc_v = clf.score(xv,yv)\n",
    "        if acc_v > mejor:\n",
    "            mejor = acc_v\n",
    "        info.append([acc,acc_v])\n",
    "    print \"Best Test Accuracy = %f\"%mejor\n",
    "    return info"
   ]
  }
 ],
 "metadata": {
  "kernelspec": {
   "display_name": "Python 2",
   "language": "python",
   "name": "python2"
  },
  "language_info": {
   "codemirror_mode": {
    "name": "ipython",
    "version": 2
   },
   "file_extension": ".py",
   "mimetype": "text/x-python",
   "name": "python",
   "nbconvert_exporter": "python",
   "pygments_lexer": "ipython2",
   "version": "2.7.9"
  }
 },
 "nbformat": 4,
 "nbformat_minor": 1
}
