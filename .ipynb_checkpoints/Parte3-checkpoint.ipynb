{
 "cells": [
  {
   "cell_type": "markdown",
   "metadata": {},
   "source": [
    "# Reconocimiento de Imágenes en CIFAR10"
   ]
  },
  {
   "cell_type": "markdown",
   "metadata": {
    "collapsed": true
   },
   "source": [
    "Para experimentar con el reconocimiento de imágenes y la clasificación se estudia el dataset *CIFAR10*, el cual contiene 60.000 imagenes de 32 $\\times$ 32 (pixeles), donde cada imagen pertenece a una de las diez clases, clasificación excluyente (gato, perro, rana, caballo, pájaro, ciervo, avión, automóvil, camión y barco). Los datos vienen estructurado en un formato RGB, donde cada imagen (fila del dataset) corresponde a 3072 características, dividido en los 3 canales de RGB (1024 cada uno) correspondiente a cada imagen.  \n",
    "Los datos vienen separados en datos de entrenamiento y de pruebas, para un estudio eficiente con las técnicas *redes neuronales*, *arboles* y *SVM*, analizando las distintas representaciones de imágenes viendo su efecto."
   ]
  },
  {
   "cell_type": "code",
   "execution_count": 30,
   "metadata": {
    "collapsed": false,
    "scrolled": true
   },
   "outputs": [
    {
     "name": "stdout",
     "output_type": "stream",
     "text": [
      "[[ 59  43  50 ..., 140  84  72]\n",
      " [154 126 105 ..., 139 142 144]\n",
      " [255 253 253 ...,  83  83  84]\n",
      " ..., \n",
      " [ 71  60  74 ...,  68  69  68]\n",
      " [250 254 211 ..., 215 255 254]\n",
      " [ 62  61  60 ..., 130 130 131]]\n",
      "min value 0\n",
      "max value 255\n",
      "[[  59.   43.   50. ...,  158.  152.  148.]\n",
      " [   0.   18.   51. ...,  119.  122.   25.]\n",
      " [  49.   83.  110. ...,  109.   33.   38.]\n",
      " ..., \n",
      " [ 160.   56.   53. ...,   58.   34.  131.]\n",
      " [  97.   83.  177. ...,  103.  170.  216.]\n",
      " [ 123.    0.    0. ...,    0.    0.    0.]]\n",
      "[[  59.   43.   50. ...,  158.  152.  148.]\n",
      " [   0.   18.   51. ...,  119.  122.   25.]\n",
      " [  49.   83.  110. ...,  109.   33.   38.]\n",
      " ..., \n",
      " [ 160.   56.   53. ...,   58.   34.  131.]\n",
      " [  97.   83.  177. ...,  103.  170.  216.]\n",
      " [ 123.    0.    0. ...,    0.    0.    0.]]\n"
     ]
    },
    {
     "ename": "TypeError",
     "evalue": "data type not understood",
     "output_type": "error",
     "traceback": [
      "\u001b[0;31m---------------------------------------------------------------------------\u001b[0m",
      "\u001b[0;31mTypeError\u001b[0m                                 Traceback (most recent call last)",
      "\u001b[0;32m<ipython-input-30-3e4539068318>\u001b[0m in \u001b[0;36m<module>\u001b[0;34m()\u001b[0m\n\u001b[1;32m     52\u001b[0m         \u001b[0mi\u001b[0m \u001b[0;34m=\u001b[0m \u001b[0;36m0\u001b[0m\u001b[0;34m\u001b[0m\u001b[0m\n\u001b[1;32m     53\u001b[0m \u001b[0;32mprint\u001b[0m \u001b[0mnp\u001b[0m\u001b[0;34m.\u001b[0m\u001b[0masarray\u001b[0m\u001b[0;34m(\u001b[0m\u001b[0mcanal_r\u001b[0m\u001b[0;34m)\u001b[0m\u001b[0;34m\u001b[0m\u001b[0m\n\u001b[0;32m---> 54\u001b[0;31m \u001b[0mmatriz\u001b[0m \u001b[0;34m=\u001b[0m \u001b[0mnp\u001b[0m\u001b[0;34m.\u001b[0m\u001b[0mmatrix\u001b[0m\u001b[0;34m(\u001b[0m\u001b[0mnp\u001b[0m\u001b[0;34m.\u001b[0m\u001b[0masarray\u001b[0m\u001b[0;34m(\u001b[0m\u001b[0mcanal_r\u001b[0m\u001b[0;34m)\u001b[0m\u001b[0;34m,\u001b[0m\u001b[0mnp\u001b[0m\u001b[0;34m.\u001b[0m\u001b[0masarray\u001b[0m\u001b[0;34m(\u001b[0m\u001b[0mcanal_g\u001b[0m\u001b[0;34m)\u001b[0m\u001b[0;34m,\u001b[0m\u001b[0mnp\u001b[0m\u001b[0;34m.\u001b[0m\u001b[0masarray\u001b[0m\u001b[0;34m(\u001b[0m\u001b[0mcanal_b\u001b[0m\u001b[0;34m)\u001b[0m\u001b[0;34m)\u001b[0m\u001b[0;34m\u001b[0m\u001b[0m\n\u001b[0m\u001b[1;32m     55\u001b[0m \u001b[0;32mprint\u001b[0m \u001b[0mmatriz\u001b[0m\u001b[0;34m\u001b[0m\u001b[0m\n\u001b[1;32m     56\u001b[0m \u001b[0;34m\u001b[0m\u001b[0m\n",
      "\u001b[0;32m/usr/local/lib/python2.7/dist-packages/numpy/matrixlib/defmatrix.pyc\u001b[0m in \u001b[0;36m__new__\u001b[0;34m(subtype, data, dtype, copy)\u001b[0m\n\u001b[1;32m    257\u001b[0m                 \u001b[0mintype\u001b[0m \u001b[0;34m=\u001b[0m \u001b[0mdata\u001b[0m\u001b[0;34m.\u001b[0m\u001b[0mdtype\u001b[0m\u001b[0;34m\u001b[0m\u001b[0m\n\u001b[1;32m    258\u001b[0m             \u001b[0;32melse\u001b[0m\u001b[0;34m:\u001b[0m\u001b[0;34m\u001b[0m\u001b[0m\n\u001b[0;32m--> 259\u001b[0;31m                 \u001b[0mintype\u001b[0m \u001b[0;34m=\u001b[0m \u001b[0mN\u001b[0m\u001b[0;34m.\u001b[0m\u001b[0mdtype\u001b[0m\u001b[0;34m(\u001b[0m\u001b[0mdtype\u001b[0m\u001b[0;34m)\u001b[0m\u001b[0;34m\u001b[0m\u001b[0m\n\u001b[0m\u001b[1;32m    260\u001b[0m             \u001b[0mnew\u001b[0m \u001b[0;34m=\u001b[0m \u001b[0mdata\u001b[0m\u001b[0;34m.\u001b[0m\u001b[0mview\u001b[0m\u001b[0;34m(\u001b[0m\u001b[0msubtype\u001b[0m\u001b[0;34m)\u001b[0m\u001b[0;34m\u001b[0m\u001b[0m\n\u001b[1;32m    261\u001b[0m             \u001b[0;32mif\u001b[0m \u001b[0mintype\u001b[0m \u001b[0;34m!=\u001b[0m \u001b[0mdata\u001b[0m\u001b[0;34m.\u001b[0m\u001b[0mdtype\u001b[0m\u001b[0;34m:\u001b[0m\u001b[0;34m\u001b[0m\u001b[0m\n",
      "\u001b[0;31mTypeError\u001b[0m: data type not understood"
     ]
    }
   ],
   "source": [
    "def unpickle(file):\n",
    "    import cPickle\n",
    "    fo = open(file, 'rb')\n",
    "    dict = cPickle.load(fo)\n",
    "    fo.close()\n",
    "    return dict\n",
    "\n",
    "dict1 = unpickle(\"datasets/data_batch_1\")\n",
    "X = dict1[\"data\"]\n",
    "print X\n",
    "print \"min value\" ,min(X[0])\n",
    "print \"max value\" ,max(X[0])\n",
    "\n",
    "label_names = [\"airplane\", \"automobile\", \"bird\", \"cat\", \"deer\", \"dog\", \"frog\", \"horse\", \"ship\", \"truck\"]\n",
    "\n",
    "\n",
    "\n",
    "import numpy as np\n",
    "aux = X[0].copy()\n",
    "canal_r = np.zeros((32,32))\n",
    "j = 0\n",
    "i= 0\n",
    "for k in range(1024):\n",
    "    if i < 32:\n",
    "        canal_r[j][i] = aux[k]\n",
    "        i+=1\n",
    "    else:\n",
    "        j+=1\n",
    "        i = 0\n",
    "print canal_r\n",
    "\n",
    "canal_g = np.zeros((32,32))\n",
    "j = 0\n",
    "i= 0\n",
    "for k in range(1024,2048):\n",
    "    if i < 32:\n",
    "        canal_g[j][i] = aux[k]\n",
    "        i+=1\n",
    "    else:\n",
    "        j+=1\n",
    "        i = 0\n",
    "\n",
    "canal_b = np.zeros((32,32))\n",
    "j = 0\n",
    "i= 0\n",
    "for k in range(2048,3072):\n",
    "    if i < 32:\n",
    "        canal_b[j][i] = aux[k]\n",
    "        i+=1\n",
    "    else:\n",
    "        j+=1\n",
    "        i = 0\n",
    "print np.asarray(canal_r)\n",
    "matriz = np.matrix(np.asarray(canal_r),np.asarray(canal_g),np.asarray(canal_b))\n",
    "print matriz\n",
    "\n",
    "import matplotlib.pyplot as plt\n",
    "plt.figure(figsize=(15,5))\n",
    "plt.imshow(canal_r)\n",
    "plt.show()"
   ]
  },
  {
   "cell_type": "markdown",
   "metadata": {},
   "source": [
    "Como se ve en lo anterior cada pixel de cada imágen tiene un rango en el qu varía entre 0 y 255, siendo 0 la intensidad mínima del pixel en ese canal y 255 la intensidad máxima"
   ]
  },
  {
   "cell_type": "markdown",
   "metadata": {},
   "source": [
    "## A)"
   ]
  },
  {
   "cell_type": "code",
   "execution_count": 2,
   "metadata": {
    "collapsed": false
   },
   "outputs": [
    {
     "name": "stdout",
     "output_type": "stream",
     "text": [
      "[[152 152 148 ..., 136 130 128]\n",
      " [ 42  40  25 ..., 137 153 127]\n",
      " [155 151 155 ...,  91  76  74]\n",
      " ..., \n",
      " [151 161 171 ..., 144 138 132]\n",
      " [ 22  24  41 ..., 142 147 139]\n",
      " [255 255 255 ..., 156 167 170]]\n",
      "Training set shape:  (42567, 3072)\n",
      "Validation set shape:  (7433, 3072)\n",
      "Test set shape:  (10000, 3072)\n"
     ]
    }
   ],
   "source": [
    "from scipy.misc import imread\n",
    "import cPickle as pickle\n",
    "import numpy as np\n",
    "import os\n",
    "\n",
    "def load_CIFAR_one(filename):\n",
    "    with open(filename, \"rb\") as f:\n",
    "        datadict = pickle.load(f)\n",
    "        X = datadict[\"data\"]\n",
    "        Y = datadict[\"labels\"]\n",
    "        return X, np.array(Y)\n",
    "\n",
    "def load_CIFAR10(PATH):\n",
    "    xs = []\n",
    "    ys = []\n",
    "    for b in range(1,6):\n",
    "        f = os.path.join(PATH, \"data_batch_%d\" % (b, ))\n",
    "        X, Y = load_CIFAR_one(f)\n",
    "        xs.append(X)\n",
    "        ys.append(Y)\n",
    "    Xtr = np.concatenate(xs)\n",
    "    Ytr = np.concatenate(ys)\n",
    "    del X, Y\n",
    "    \n",
    "    Xte, Yte = load_CIFAR_one(os.path.join(PATH, \"test_batch\"))\n",
    "    \n",
    "    #adding Xval\n",
    "    index = np.arange(np.shape(Xtr)[0]) #filas \n",
    "    np.random.shuffle(index) #permutan las filas\n",
    "    X = Xtr[index, :] #matriz permutada\n",
    "    Y = Ytr[index]\n",
    "\n",
    "    #l =  np.random.randint(1000,10000) #entrego 7433\n",
    "    n = Xtr.shape[0]\n",
    "    l = 7433\n",
    "    \n",
    "    Xval,Xtr = np.split(X,[l])\n",
    "    Yval,Ytr = np.split(Y,[l])\n",
    "    \n",
    "    return Xtr, Ytr, Xte, Yte,Xval,Yval\n",
    "\n",
    "X_train,Y_train, X_test,Y_test, X_val,Y_val = load_CIFAR10('datasets/')\n",
    "\n",
    "print X_train\n",
    "print 'Training set shape: ',X_train.shape\n",
    "print 'Validation set shape: ',X_val.shape\n",
    "print 'Test set shape: ',X_test.shape "
   ]
  },
  {
   "cell_type": "markdown",
   "metadata": {},
   "source": [
    "En primer lugar, se construye una funcion que carga los bloques de entrenamiento, de pruebas y de validacion del dataset en las matrices $X_{train}$, $Y_{train}$, $X_{test}$, $Y_{test}$ y $X_{val}$, $Y_{val}$ respectivamente. Las filas de estas matrices representan cada imagen del dataset, siendo los valores de la fila valores enteros de 0 a 255, que representan los valores de los colores que vienen por los canales *R*,*G* y *B*.\n",
    "\n",
    "Se puede observar que la matriz $X_{train}$ posee 42567 filas, es decir, 42567 imagenes de entrenamiento. Por otro lado $X_{val}$ posee 7433 imagenes de validacion y $X_{test}$ 10000 imagenes de prueba."
   ]
  },
  {
   "cell_type": "code",
   "execution_count": 34,
   "metadata": {
    "collapsed": false
   },
   "outputs": [
    {
     "name": "stdout",
     "output_type": "stream",
     "text": [
      "[8 4 3 ..., 9 8 1]\n",
      "[7 8 6 ..., 4 9 5]\n"
     ]
    }
   ],
   "source": [
    "print Y_train\n",
    "print Y_val"
   ]
  },
  {
   "cell_type": "markdown",
   "metadata": {},
   "source": [
    "## B)"
   ]
  },
  {
   "cell_type": "code",
   "execution_count": 3,
   "metadata": {
    "collapsed": false
   },
   "outputs": [
    {
     "name": "stderr",
     "output_type": "stream",
     "text": [
      "/usr/local/lib/python2.7/dist-packages/sklearn/utils/validation.py:429: DataConversionWarning: Data with input dtype uint8 was converted to float64 by StandardScaler.\n",
      "  warnings.warn(msg, _DataConversionWarning)\n"
     ]
    },
    {
     "name": "stdout",
     "output_type": "stream",
     "text": [
      "[[-0.22652595 -0.23547842 -0.23478773 ..., -1.35456215 -1.2726719\n",
      "  -1.23281747]\n",
      " [ 0.52309228  0.52469012  0.51379339 ..., -0.67515192 -0.62735892\n",
      "  -0.67207938]\n",
      " [ 0.60486881  0.4279414   0.80490827 ...,  1.5946959   1.53904893\n",
      "   1.54056283]\n",
      " ..., \n",
      " [-1.18058552 -1.18914442 -1.20517067 ..., -1.53985585 -1.53387001\n",
      "  -1.50560898]\n",
      " [-1.38502685 -1.35499937 -0.90019317 ...,  0.08146402  0.01795406\n",
      "  -0.1871167 ]\n",
      " [ 0.11420961  0.19298021  0.25040373 ..., -0.16559425 -0.1049627\n",
      "  -0.1871167 ]]\n",
      "[[ 0.44705882  0.44313725  0.44705882 ...,  0.10196078  0.12156863\n",
      "   0.12941176]\n",
      " [ 0.6627451   0.65882353  0.65882353 ...,  0.2745098   0.28627451\n",
      "   0.2745098 ]\n",
      " [ 0.68627451  0.63137255  0.74117647 ...,  0.85098039  0.83921569\n",
      "   0.84705882]\n",
      " ..., \n",
      " [ 0.17254902  0.17254902  0.17254902 ...,  0.05490196  0.05490196\n",
      "   0.05882353]\n",
      " [ 0.11372549  0.1254902   0.25882353 ...,  0.46666667  0.45098039  0.4       ]\n",
      " [ 0.54509804  0.56470588  0.58431373 ...,  0.40392157  0.41960784  0.4       ]]\n",
      "[[0 0 0 ..., 0 0 0]\n",
      " [1 1 1 ..., 0 0 0]\n",
      " [1 1 1 ..., 1 1 1]\n",
      " ..., \n",
      " [0 0 0 ..., 0 0 0]\n",
      " [0 0 0 ..., 0 0 0]\n",
      " [1 1 1 ..., 0 0 0]]\n"
     ]
    }
   ],
   "source": [
    "# Escalar y centrar datos\n",
    "from sklearn.preprocessing import StandardScaler\n",
    "from sklearn.tree import DecisionTreeClassifier as Tree\n",
    "from keras.utils.np_utils import to_categorical\n",
    "\n",
    "def scaler_t(X,Xv,Xt,scaler_type):\n",
    "    if scaler_type == \"standar\":\n",
    "        scaler= StandardScaler(with_std=True).fit(X)\n",
    "        return scaler.transform(X), scaler.transform(Xv), scaler.transform(Xt)\n",
    "    elif scaler_type == \"int_max\":\n",
    "        aux = [ X/255.0, Xv/255.0, Xt/255.0 ]\n",
    "        newX = aux[0].copy()\n",
    "        newXv = aux[1].copy()\n",
    "        newXt = aux[2].copy()\n",
    "        #newX[ newX <0.2] = 1\n",
    "        #newX[ newX > 0.8] = 0\n",
    "        #newXv[ newXv <0.2] = 1\n",
    "        #newXv[ newXv > 0.8] = 0\n",
    "        #newXt[ newXt <0.2] = 1\n",
    "        #newXt[ newXt > 0.8] = 0\n",
    "        return newX,newXv,newXt\n",
    "    elif scaler_type == \"zeros_ones\":\n",
    "        newX = X.copy()\n",
    "        newXv = Xv.copy()\n",
    "        newXt = Xt.copy()\n",
    "        newX[ newX <128] = 0\n",
    "        newX[ newX > 127] = 1\n",
    "        newXv[ newXv <128] = 0\n",
    "        newXv[ newXv > 127] = 1\n",
    "        newXt[ newXt < 128] = 0\n",
    "        newXt[ newXt > 127] = 1\n",
    "        return newX,newXv,newXt\n",
    "    else: #otro\n",
    "        return X*0.5\n",
    "\n",
    "X,Xv,Xt = scaler_t(X_train,X_val,X_test,\"standar\")\n",
    "print X\n",
    "\n",
    "X,Xv,Xt = scaler_t(X_train,X_val,X_test,\"int_max\")\n",
    "print X\n",
    "\n",
    "X,Xv,Xt = scaler_t(X_train,X_val,X_test,\"zeros_ones\")\n",
    "print X"
   ]
  },
  {
   "cell_type": "markdown",
   "metadata": {},
   "source": [
    "En esta seccion se escalan las imagenes, para poder trabajarlas de forma apropiada. Este escalamiento se realiza en base a la intensidad maxima de los pixeles de las imagenes y se procede a centrar y estandarizar normalmente."
   ]
  },
  {
   "cell_type": "markdown",
   "metadata": {},
   "source": [
    "## C) ANN - analisis"
   ]
  },
  {
   "cell_type": "code",
   "execution_count": 27,
   "metadata": {
    "collapsed": false
   },
   "outputs": [
    {
     "name": "stdout",
     "output_type": "stream",
     "text": [
      "Para representacion datos normalizados estandar\n",
      "7392/7433 [============================>.] - ETA: 0sVALIDATION ACCURACY (activation relu-softmax) = 0.915579\n",
      "7328/7433 [============================>.] - ETA: 0sVALIDATION ACCURACY (activation relu-sigmoid) = 0.915108\n",
      "7328/7433 [============================>.] - ETA: 0sVALIDATION ACCURACY (optimizer RMSprop and activation relu-sigmoid) = 0.908973\n",
      "------------------------------------------------\n",
      "Para representacion datos escalados por la intensidad maxima (0-255 pasa a 0-1)\n",
      "7360/7433 [============================>.] - ETA: 0sVALIDATION ACCURACY (activation relu-softmax) = 0.901022\n",
      "7360/7433 [============================>.] - ETA: 0sVALIDATION ACCURACY (activation relu-sigmoid)= 0.887502\n"
     ]
    }
   ],
   "source": [
    "from keras.utils.np_utils import to_categorical\n",
    "from sklearn.preprocessing import StandardScaler\n",
    "from keras.models import Sequential\n",
    "from keras.layers import Dense, Activation,Dropout\n",
    "from keras.optimizers import SGD,RMSprop\n",
    "\n",
    "\n",
    "Xtr,Xv,Xt = scaler_t(X_train,X_val,X_test,\"standar\")\n",
    "Ytr = to_categorical(Y_train)\n",
    "Yv = to_categorical(Y_val)\n",
    "Yt = to_categorical(Y_test)\n",
    "print \"Para representacion datos normalizados estandar\"\n",
    "\n",
    "#experimentar variando valores\n",
    "model = Sequential()\n",
    "model.add(Dense(100, input_dim=Xtr.shape[1], init='uniform', activation='relu'))\n",
    "model.add(Dropout(0.1))\n",
    "model.add(Dense(10, init='uniform', activation='softmax'))\n",
    "model.compile(optimizer=SGD(lr=0.05), loss='binary_crossentropy', metrics=['accuracy'])\n",
    "model.fit(Xtr, Ytr, nb_epoch=50, batch_size=32, verbose=0, validation_data=(Xv,Yv))\n",
    "\n",
    "scores = model.evaluate(Xv, Yv)\n",
    "\n",
    "print \"VALIDATION ACCURACY (activation relu-softmax) = %f\"% scores[1]\n",
    "\n",
    "model = Sequential()\n",
    "model.add(Dense(100, input_dim=Xtr.shape[1], init='uniform', activation='relu'))\n",
    "model.add(Dropout(0.1))\n",
    "model.add(Dense(10, init='uniform', activation='sigmoid'))\n",
    "model.compile(optimizer=SGD(lr=0.05), loss='binary_crossentropy', metrics=['accuracy'])\n",
    "model.fit(Xtr, Ytr, nb_epoch=50, batch_size=32, verbose=0, validation_data=(Xv,Yv))\n",
    "\n",
    "scores = model.evaluate(Xv, Yv)\n",
    "\n",
    "print \"VALIDATION ACCURACY (activation relu-sigmoid) = %f\"% scores[1]\n",
    "\n",
    "model = Sequential()\n",
    "model.add(Dense(100, input_dim=Xtr.shape[1], init='uniform', activation='relu'))\n",
    "model.add(Dropout(0.1))\n",
    "model.add(Dense(10, init='uniform', activation='sigmoid'))\n",
    "model.compile(optimizer=RMSprop(), loss='binary_crossentropy', metrics=['accuracy'])\n",
    "model.fit(Xtr, Ytr, nb_epoch=50, batch_size=32, verbose=0, validation_data=(Xv,Yv))\n",
    "\n",
    "scores = model.evaluate(Xv, Yv)\n",
    "\n",
    "print \"VALIDATION ACCURACY (optimizer RMSprop and activation relu-sigmoid) = %f\"% scores[1]\n",
    "\n",
    "print \"------------------------------------------------\"\n",
    "\n",
    "X,Xv,Xt = scaler_t(X_train,X_val,X_test,\"int_max\")\n",
    "Ytr = to_categorical(Y_train)\n",
    "Yv = to_categorical(Y_val)\n",
    "Yt = to_categorical(Y_test)\n",
    "print \"Para representacion datos escalados por la intensidad maxima (0-255 pasa a 0-1)\"\n",
    "\n",
    "#experimentar variando valores\n",
    "model = Sequential()\n",
    "model.add(Dense(100, input_dim=Xtr.shape[1], init='uniform', activation='relu'))\n",
    "model.add(Dropout(0.1))\n",
    "model.add(Dense(10, init='uniform', activation='softmax'))\n",
    "model.compile(optimizer=SGD(lr=0.05), loss='binary_crossentropy', metrics=['accuracy'])\n",
    "model.fit(Xtr, Ytr, nb_epoch=50, batch_size=32, verbose=0, validation_data=(Xv,Yv))\n",
    "\n",
    "scores = model.evaluate(Xv, Yv)\n",
    "print \"VALIDATION ACCURACY (activation relu-softmax) = %f\"% scores[1]\n",
    "\n",
    "#experimentar variando valores\n",
    "model = Sequential()\n",
    "model.add(Dense(100, input_dim=Xtr.shape[1], init='uniform', activation='relu'))\n",
    "model.add(Dropout(0.1))\n",
    "model.add(Dense(10, init='uniform', activation='sigmoid'))\n",
    "model.compile(optimizer=SGD(lr=0.05), loss='binary_crossentropy', metrics=['accuracy'])\n",
    "model.fit(Xtr, Ytr, nb_epoch=50, batch_size=32, verbose=0, validation_data=(Xv,Yv))\n",
    "\n",
    "scores = model.evaluate(Xv, Yv)\n",
    "print \"VALIDATION ACCURACY (activation relu-sigmoid)= %f\"% scores[1]\n"
   ]
  },
  {
   "cell_type": "code",
   "execution_count": 7,
   "metadata": {
    "collapsed": false
   },
   "outputs": [
    {
     "name": "stdout",
     "output_type": "stream",
     "text": [
      "Train on 42567 samples, validate on 7433 samples\n",
      "Epoch 1/50\n",
      "42567/42567 [==============================] - 10s - loss: 0.3161 - acc: 0.9000 - val_loss: 0.3053 - val_acc: 0.9000\n",
      "Epoch 2/50\n",
      "42567/42567 [==============================] - 9s - loss: 0.2987 - acc: 0.9000 - val_loss: 0.2928 - val_acc: 0.9001\n",
      "Epoch 3/50\n",
      "42567/42567 [==============================] - 10s - loss: 0.2894 - acc: 0.9006 - val_loss: 0.2857 - val_acc: 0.9008\n",
      "Epoch 4/50\n",
      "42567/42567 [==============================] - 9s - loss: 0.2838 - acc: 0.9007 - val_loss: 0.2813 - val_acc: 0.9010\n",
      "Epoch 5/50\n",
      "42567/42567 [==============================] - 10s - loss: 0.2794 - acc: 0.9014 - val_loss: 0.2779 - val_acc: 0.9014\n",
      "Epoch 6/50\n",
      "42567/42567 [==============================] - 9s - loss: 0.2765 - acc: 0.9018 - val_loss: 0.2754 - val_acc: 0.9022\n",
      "Epoch 7/50\n",
      "42567/42567 [==============================] - 10s - loss: 0.2741 - acc: 0.9022 - val_loss: 0.2734 - val_acc: 0.9023\n",
      "Epoch 8/50\n",
      "42567/42567 [==============================] - 9s - loss: 0.2719 - acc: 0.9026 - val_loss: 0.2715 - val_acc: 0.9024\n",
      "Epoch 9/50\n",
      "42567/42567 [==============================] - 9s - loss: 0.2700 - acc: 0.9030 - val_loss: 0.2700 - val_acc: 0.9029\n",
      "Epoch 10/50\n",
      "42567/42567 [==============================] - 9s - loss: 0.2681 - acc: 0.9034 - val_loss: 0.2688 - val_acc: 0.9027\n",
      "Epoch 11/50\n",
      "42567/42567 [==============================] - 9s - loss: 0.2667 - acc: 0.9036 - val_loss: 0.2670 - val_acc: 0.9039\n",
      "Epoch 12/50\n",
      "42567/42567 [==============================] - 9s - loss: 0.2649 - acc: 0.9039 - val_loss: 0.2653 - val_acc: 0.9039\n",
      "Epoch 13/50\n",
      "42567/42567 [==============================] - 9s - loss: 0.2632 - acc: 0.9042 - val_loss: 0.2643 - val_acc: 0.9042\n",
      "Epoch 14/50\n",
      "42567/42567 [==============================] - 9s - loss: 0.2619 - acc: 0.9049 - val_loss: 0.2628 - val_acc: 0.9045\n",
      "Epoch 15/50\n",
      "42567/42567 [==============================] - 9s - loss: 0.2605 - acc: 0.9050 - val_loss: 0.2617 - val_acc: 0.9047\n",
      "Epoch 16/50\n",
      "42567/42567 [==============================] - 9s - loss: 0.2593 - acc: 0.9053 - val_loss: 0.2603 - val_acc: 0.9053\n",
      "Epoch 17/50\n",
      "42567/42567 [==============================] - 9s - loss: 0.2578 - acc: 0.9058 - val_loss: 0.2598 - val_acc: 0.9052\n",
      "Epoch 18/50\n",
      "42567/42567 [==============================] - 9s - loss: 0.2566 - acc: 0.9057 - val_loss: 0.2584 - val_acc: 0.9060\n",
      "Epoch 19/50\n",
      "42567/42567 [==============================] - 9s - loss: 0.2555 - acc: 0.9063 - val_loss: 0.2573 - val_acc: 0.9062\n",
      "Epoch 20/50\n",
      "42567/42567 [==============================] - 9s - loss: 0.2542 - acc: 0.9065 - val_loss: 0.2564 - val_acc: 0.9064\n",
      "Epoch 21/50\n",
      "42567/42567 [==============================] - 9s - loss: 0.2530 - acc: 0.9067 - val_loss: 0.2559 - val_acc: 0.9061\n",
      "Epoch 22/50\n",
      "42567/42567 [==============================] - 9s - loss: 0.2521 - acc: 0.9071 - val_loss: 0.2548 - val_acc: 0.9068\n",
      "Epoch 23/50\n",
      "42567/42567 [==============================] - 9s - loss: 0.2509 - acc: 0.9073 - val_loss: 0.2541 - val_acc: 0.9069\n",
      "Epoch 24/50\n",
      "42567/42567 [==============================] - 9s - loss: 0.2502 - acc: 0.9075 - val_loss: 0.2534 - val_acc: 0.9070\n",
      "Epoch 25/50\n",
      "42567/42567 [==============================] - 10s - loss: 0.2489 - acc: 0.9080 - val_loss: 0.2527 - val_acc: 0.9071\n",
      "Epoch 26/50\n",
      "42567/42567 [==============================] - 10s - loss: 0.2480 - acc: 0.9081 - val_loss: 0.2521 - val_acc: 0.9070\n",
      "Epoch 27/50\n",
      "42567/42567 [==============================] - 10s - loss: 0.2473 - acc: 0.9083 - val_loss: 0.2519 - val_acc: 0.9072\n",
      "Epoch 28/50\n",
      "42567/42567 [==============================] - 9s - loss: 0.2465 - acc: 0.9087 - val_loss: 0.2513 - val_acc: 0.9074\n",
      "Epoch 29/50\n",
      "42567/42567 [==============================] - 9s - loss: 0.2458 - acc: 0.9086 - val_loss: 0.2506 - val_acc: 0.9077\n",
      "Epoch 30/50\n",
      "42567/42567 [==============================] - 9s - loss: 0.2449 - acc: 0.9091 - val_loss: 0.2501 - val_acc: 0.9080\n",
      "Epoch 31/50\n",
      "42567/42567 [==============================] - 9s - loss: 0.2439 - acc: 0.9092 - val_loss: 0.2495 - val_acc: 0.9079\n",
      "Epoch 32/50\n",
      "42567/42567 [==============================] - 9s - loss: 0.2432 - acc: 0.9094 - val_loss: 0.2490 - val_acc: 0.9083\n",
      "Epoch 33/50\n",
      "42567/42567 [==============================] - 9s - loss: 0.2423 - acc: 0.9099 - val_loss: 0.2488 - val_acc: 0.9082\n",
      "Epoch 34/50\n",
      "42567/42567 [==============================] - 9s - loss: 0.2418 - acc: 0.9098 - val_loss: 0.2488 - val_acc: 0.9083\n",
      "Epoch 35/50\n",
      "42567/42567 [==============================] - 9s - loss: 0.2410 - acc: 0.9101 - val_loss: 0.2480 - val_acc: 0.9085\n",
      "Epoch 36/50\n",
      "42567/42567 [==============================] - 9s - loss: 0.2400 - acc: 0.9102 - val_loss: 0.2479 - val_acc: 0.9081\n",
      "Epoch 37/50\n",
      "42567/42567 [==============================] - 9s - loss: 0.2390 - acc: 0.9109 - val_loss: 0.2473 - val_acc: 0.9086\n",
      "Epoch 38/50\n",
      "42567/42567 [==============================] - 9s - loss: 0.2385 - acc: 0.9110 - val_loss: 0.2468 - val_acc: 0.9087\n",
      "Epoch 39/50\n",
      "42567/42567 [==============================] - 9s - loss: 0.2377 - acc: 0.9112 - val_loss: 0.2467 - val_acc: 0.9086\n",
      "Epoch 40/50\n",
      "42567/42567 [==============================] - 9s - loss: 0.2371 - acc: 0.9115 - val_loss: 0.2463 - val_acc: 0.9090\n",
      "Epoch 41/50\n",
      "42567/42567 [==============================] - 9s - loss: 0.2364 - acc: 0.9116 - val_loss: 0.2463 - val_acc: 0.9090\n",
      "Epoch 42/50\n",
      "42567/42567 [==============================] - 9s - loss: 0.2356 - acc: 0.9119 - val_loss: 0.2460 - val_acc: 0.9091\n",
      "Epoch 43/50\n",
      "42567/42567 [==============================] - 9s - loss: 0.2352 - acc: 0.9117 - val_loss: 0.2457 - val_acc: 0.9092\n",
      "Epoch 44/50\n",
      "42567/42567 [==============================] - 9s - loss: 0.2343 - acc: 0.9122 - val_loss: 0.2451 - val_acc: 0.9095\n",
      "Epoch 45/50\n",
      "42567/42567 [==============================] - 9s - loss: 0.2335 - acc: 0.9126 - val_loss: 0.2448 - val_acc: 0.9094\n",
      "Epoch 46/50\n",
      "42567/42567 [==============================] - 9s - loss: 0.2330 - acc: 0.9124 - val_loss: 0.2446 - val_acc: 0.9093\n",
      "Epoch 47/50\n",
      "42567/42567 [==============================] - 9s - loss: 0.2324 - acc: 0.9129 - val_loss: 0.2449 - val_acc: 0.9094\n",
      "Epoch 48/50\n",
      "42567/42567 [==============================] - 9s - loss: 0.2313 - acc: 0.9132 - val_loss: 0.2441 - val_acc: 0.9096\n",
      "Epoch 49/50\n",
      "42567/42567 [==============================] - 9s - loss: 0.2311 - acc: 0.9127 - val_loss: 0.2443 - val_acc: 0.9095\n",
      "Epoch 50/50\n",
      "42567/42567 [==============================] - 10s - loss: 0.2304 - acc: 0.9133 - val_loss: 0.2438 - val_acc: 0.9100\n",
      "7360/7433 [============================>.] - ETA: 0sVALIDATION ACCURACY (activation relu-softmax) = 0.909983\n"
     ]
    }
   ],
   "source": [
    "#scores = model.evaluate(Xt, Yt)\n",
    "#print \"TEST ACCURACY = %f\"% scores[1]\n",
    "from keras.utils.np_utils import to_categorical\n",
    "from sklearn.preprocessing import StandardScaler\n",
    "from keras.models import Sequential\n",
    "from keras.layers import Dense, Activation,Dropout\n",
    "from keras.optimizers import SGD,RMSprop\n",
    "\n",
    "#Xtr,Xv,Xt = scaler_t(X_train,X_val,X_test,\"standar\")\n",
    "Ytr = to_categorical(Y_train)\n",
    "Yv = to_categorical(Y_val)\n",
    "Yt = to_categorical(Y_test)\n",
    "#X,Xv,Xt = scaler_t(X_train,X_val,X_test,\"int_max\")\n",
    "Xtr,Xv,Xt = X_train,X_val,X_test\n",
    "model = Sequential()\n",
    "model.add(Dense(100, input_dim=Xtr.shape[1], init='uniform', activation='relu'))\n",
    "model.add(Dropout(0.1))\n",
    "model.add(Dense(10, init='uniform', activation='softmax'))\n",
    "model.compile(optimizer=SGD(lr=0.01), loss='binary_crossentropy', metrics=['accuracy'])\n",
    "model.fit(Xtr, Ytr, nb_epoch=50, batch_size=32, verbose=0, validation_data=(Xv,Yv))\n",
    "scores = model.evaluate(Xv, Yv)\n",
    "print \"VALIDATION ACCURACY (activation relu-softmax) = %f\"% scores[1]"
   ]
  },
  {
   "cell_type": "markdown",
   "metadata": {},
   "source": [
    "## D)"
   ]
  },
  {
   "cell_type": "code",
   "execution_count": 9,
   "metadata": {
    "collapsed": false
   },
   "outputs": [
    {
     "name": "stdout",
     "output_type": "stream",
     "text": [
      "(42567, 3072)\n",
      "(42567, 32, 32, 3)\n",
      "Dimensiones de representacion segun histograma de gradientes:  (42567, 144)\n",
      "(42567, 32, 32, 3)\n",
      "Dimensiones de representacion segun histogramas de color:  (42567, 10)\n",
      "(42567, 32, 32, 3)\n",
      "Dimensiones de representacion mixta:  (42567, 154)\n",
      "[[  3.28252652e+00   9.02344707e-01   0.00000000e+00 ...,   1.46484375e-02\n",
      "    1.46484375e-02   4.49218750e-02]\n",
      " [  1.27768186e+00   2.71226101e+00   6.44353672e-01 ...,   0.00000000e+00\n",
      "    0.00000000e+00   0.00000000e+00]\n",
      " [  1.93778528e+00   0.00000000e+00   8.79941741e-01 ...,   9.57031250e-02\n",
      "    4.49218750e-02   7.32421875e-02]\n",
      " ..., \n",
      " [  1.02592044e+00   5.98453495e-01   5.65761366e-01 ...,   1.46484375e-02\n",
      "    1.26953125e-02   1.75781250e-02]\n",
      " [  4.52694478e-01   9.61371393e-01   1.09370906e+00 ...,   6.83593750e-03\n",
      "    6.83593750e-03   1.75781250e-02]\n",
      " [  0.00000000e+00   0.00000000e+00   5.84914941e-02 ...,   1.95312500e-03\n",
      "    1.95312500e-03   2.63671875e-02]]\n"
     ]
    }
   ],
   "source": [
    "from top_level_features import hog_features\n",
    "from top_level_features import color_histogram_hsv\n",
    "from top_level_features import extract_features\n",
    "X_train, Y_train, X_test, Y_test,X_val,Y_val = load_CIFAR10(\"datasets/\")\n",
    "print X_train.shape\n",
    "\n",
    "features = extract_features(X_train,[hog_features],verbose=0) #extrae hog features\n",
    "print 'Dimensiones de representacion segun histograma de gradientes: ',features.shape\n",
    "features = extract_features(X_train,[color_histogram_hsv]) #extrae histogramas de color\n",
    "print 'Dimensiones de representacion segun histogramas de color: ',features.shape\n",
    "features = extract_features(X_train,[hog_features, color_histogram_hsv]) #extrae todo\n",
    "print 'Dimensiones de representacion mixta: ' ,features.shape\n",
    "\n",
    "print features"
   ]
  },
  {
   "cell_type": "code",
   "execution_count": 10,
   "metadata": {
    "collapsed": true
   },
   "outputs": [],
   "source": [
    "def representacion(x,xv,xt,tipo):\n",
    "    if tipo==\"hog\":\n",
    "        features_train = extract_features(x,[hog_features]) #extrae hog features\n",
    "        features_val = extract_features(xv,[hog_features]) #extrae hog features\n",
    "        features_test = extract_features(xt,[hog_features]) #extrae hog features\n",
    "    elif tipo==\"histogram\":\n",
    "        features_train = extract_features(x,[color_histogram_hsv]) #extrae histogramas de color\n",
    "        features_val = extract_features(xv,[color_histogram_hsv]) #extrae histogramas de color\n",
    "        features_test = extract_features(xt,[color_histogram_hsv]) #extraehistogramas de color\n",
    "    else:\n",
    "        features_train = extract_features(x,[hog_features, color_histogram_hsv]) #extrae todo\n",
    "        features_val = extract_features(xv,[hog_features, color_histogram_hsv]) #extrae todo\n",
    "        features_test = extract_features(xt,[hog_features, color_histogram_hsv]) #extrae todo\n",
    "\n",
    "    return features_train,features_val,features_test"
   ]
  },
  {
   "cell_type": "markdown",
   "metadata": {},
   "source": [
    "## E) SVM no lineal"
   ]
  },
  {
   "cell_type": "code",
   "execution_count": 63,
   "metadata": {
    "collapsed": false
   },
   "outputs": [],
   "source": [
    "#ajustar SVM no lineal sobre las distintas representaciones y variar hiperparametros\n",
    "from sklearn.svm import SVC\n",
    "from keras.utils.np_utils import to_categorical\n",
    "\n",
    "\n",
    "Cs = [pow(2,k) for k in np.arange(-2,7,1)]\n",
    "def do_SVC(x,y,xv,yv):\n",
    "    mejor = 0\n",
    "    info1 = []\n",
    "    info2 = []\n",
    "    for C in Cs:\n",
    "        clf1 = SVC(C=C, kernel=\"rbf\")\n",
    "        clf2 = SVC(C=C, kernel=\"poly\",degree=2, coef0=1)\n",
    "        \n",
    "        clf1 = clf1.fit(x,y)\n",
    "        clf2 = clf2.fit(x,y)\n",
    "        \n",
    "        acc_1 = clf1.score(x,y)\n",
    "        accv_1 = clf1.score(xv,yv)\n",
    "        \n",
    "        acc_2 = clf2.score(x,y)\n",
    "        accv_2 = clf2.score(xv,yv)\n",
    "        \n",
    "        if accv_1 > mejor:\n",
    "            mejor = accv_1\n",
    "        if accv_2 > mejor:\n",
    "            mejor = accv_2\n",
    "        info1.append([acc_1,accv_1])\n",
    "        info2.append([acc_2,accv_2])\n",
    "    print \"Best Validation Accuracy = %f\"%mejor\n",
    "    return info1,info2"
   ]
  },
  {
   "cell_type": "code",
   "execution_count": null,
   "metadata": {
    "collapsed": false
   },
   "outputs": [
    {
     "name": "stdout",
     "output_type": "stream",
     "text": [
      "(42567, 3072)\n",
      "(42567, 10)\n",
      "[LibSVM]"
     ]
    }
   ],
   "source": [
    "Xtr,Xv,Xt = scaler_t(X_train,X_val,X_test,\"standar\")\n",
    "print X.shape\n",
    "\n",
    "clf = SVC(C=1, kernel=\"rbf\",verbose=1)        \n",
    "clf = clf.fit(Xtr,Y_train)  \n",
    "\n",
    "acc = clf.score(Xt,Y_test)\n",
    "print \"TEST ACCURACY WITH STANDAR NORMALIZE = %f\"% acc\n",
    "\n",
    "#do_SVC(X,Ytr,Xv,Yv)"
   ]
  },
  {
   "cell_type": "code",
   "execution_count": null,
   "metadata": {
    "collapsed": true
   },
   "outputs": [],
   "source": [
    "#probar otros"
   ]
  },
  {
   "cell_type": "code",
   "execution_count": null,
   "metadata": {
    "collapsed": true
   },
   "outputs": [],
   "source": [
    "Xtr,Xv,Xt = representacion(X_train,X_val,X_test,\"hog\")\n",
    "\n",
    "clf = SVC(C=1, kernel=\"rbf\",verbose=1)        \n",
    "clf = clf.fit(Xtr,Y_train)  \n",
    "\n",
    "acc = clf.score(Xt,Y_test)\n",
    "print \"TEST ACCURACY WITH STANDAR NORMALIZE = %f\"% acc"
   ]
  },
  {
   "cell_type": "markdown",
   "metadata": {},
   "source": [
    "## F) Árbol de Clasificación"
   ]
  },
  {
   "cell_type": "code",
   "execution_count": 46,
   "metadata": {
    "collapsed": false
   },
   "outputs": [],
   "source": [
    "from sklearn.tree import DecisionTreeClassifier as Tree\n",
    "from keras.utils.np_utils import to_categorical\n",
    "\n",
    "N_ts = [2,5,10,13,17,20,25,30,50,80,90,100,150]\n",
    "def do_Tree(x,y,xv,yv):\n",
    "    mejor = 0\n",
    "    nivel = 0\n",
    "    info = []\n",
    "    for n_t in N_ts:\n",
    "        print \"arbol: %d\"%n_t\n",
    "        clf=Tree(criterion=\"gini\",splitter=\"best\",random_state=0,max_depth=n_t)\n",
    "        clf.fit(x,y)\n",
    "        acc = clf.score(x,y)\n",
    "        acc_v = clf.score(xv,yv)\n",
    "        if acc_v > mejor:\n",
    "            mejor = acc_v\n",
    "            nivel = n_t\n",
    "        info.append([acc,acc_v])\n",
    "    print \"Best Validation Accuracy = %f\"%mejor\n",
    "    print \"Tree's Level = %f\"%nivel\n",
    "    return info"
   ]
  },
  {
   "cell_type": "code",
   "execution_count": 47,
   "metadata": {
    "collapsed": false
   },
   "outputs": [
    {
     "name": "stdout",
     "output_type": "stream",
     "text": [
      "arbol: 2\n",
      "arbol: 5\n",
      "arbol: 10\n",
      "arbol: 13\n",
      "arbol: 17\n",
      "arbol: 20\n",
      "arbol: 25\n",
      "arbol: 30\n",
      "arbol: 50\n",
      "arbol: 80\n",
      "arbol: 90\n",
      "arbol: 100\n",
      "arbol: 150\n",
      "Best Validation Accuracy = 0.267052\n",
      "Tree's Level = 30.000000\n"
     ]
    }
   ],
   "source": [
    "Xtr,Xv,Xt = scaler_t(X_train,X_val,X_test,\"standar\")\n",
    "\n",
    "#cuidado---se demora harto\n",
    "info1 = do_Tree(Xtr,Y_train,Xv,Y_val)"
   ]
  },
  {
   "cell_type": "code",
   "execution_count": 54,
   "metadata": {
    "collapsed": false
   },
   "outputs": [
    {
     "data": {
      "image/png": "[encoded data removed]",
      "text/plain": [
       "<matplotlib.figure.Figure at 0x7f8793863cd0>"
      ]
     },
     "metadata": {},
     "output_type": "display_data"
    }
   ],
   "source": [
    "#utilizar el info\n",
    "error1 = [1-i[0] for i in info1]\n",
    "error2 = [1-i[1] for i in info1]\n",
    "import matplotlib.pyplot as plt\n",
    "plt.figure(figsize=(15,5))\n",
    "plt.plot(N_ts,error1, label = \"Training set\")\n",
    "plt.plot(N_ts,error2, label = \"Validation set\")\n",
    "plt.xticks(N_ts)\n",
    "plt.xlabel('Numero de niveles')\n",
    "plt.ylabel('Error')\n",
    "plt.title('Error sobre arbol de clasificacion con representacion estandarizada de pixeles')\n",
    "plt.legend(loc=\"upper right\")\n",
    "plt.show()"
   ]
  },
  {
   "cell_type": "code",
   "execution_count": 26,
   "metadata": {
    "collapsed": false
   },
   "outputs": [
    {
     "name": "stdout",
     "output_type": "stream",
     "text": [
      "VALIDATION ACCURACY WITH NORMALIZE BETWEEN 0-1 = 0.292479\n"
     ]
    }
   ],
   "source": [
    "Xtr,Xv,Xt = scaler_t(X_train,X_val,X_test,\"int_max\")\n",
    "\n",
    "clf=Tree(criterion=\"gini\",splitter=\"best\",random_state=0,max_depth=10)\n",
    "clf.fit(Xtr,Y_train)\n",
    "acc = clf.score(Xv,Y_val)\n",
    "print \"VALIDATION ACCURACY WITH NORMALIZE BETWEEN 0-1 = %f\"% acc\n",
    "        \n",
    "#info2 = do_Tree(Xtr,Ytr,Xv,Yv)"
   ]
  },
  {
   "cell_type": "code",
   "execution_count": 19,
   "metadata": {
    "collapsed": false
   },
   "outputs": [
    {
     "name": "stdout",
     "output_type": "stream",
     "text": [
      "VALIDATION ACCURACY WITH 0's and 1's REPRESENTATION = 0.284946\n"
     ]
    }
   ],
   "source": [
    "Xtr,Xv,Xt = scaler_t(X_train,X_val,X_test,\"zeros_ones\")\n",
    "\n",
    "clf=Tree(criterion=\"gini\",splitter=\"best\",random_state=0,max_depth=10)\n",
    "clf.fit(Xtr,Y_train)\n",
    "acc = clf.score(Xv,Y_val)\n",
    "print \"VALIDATION ACCURACY WITH 0's and 1's REPRESENTATION = %f\"% acc\n",
    "\n",
    "#info3 = do_Tree(Xtr,Ytr,Xv,Yv)"
   ]
  },
  {
   "cell_type": "markdown",
   "metadata": {},
   "source": [
    "A continuación se prueban las distintas representaciones de extracción de características"
   ]
  },
  {
   "cell_type": "code",
   "execution_count": 20,
   "metadata": {
    "collapsed": false
   },
   "outputs": [
    {
     "name": "stdout",
     "output_type": "stream",
     "text": [
      "(42567, 32, 32, 3)\n",
      "(7433, 32, 32, 3)\n",
      "(10000, 32, 32, 3)\n",
      "VALIDATION ACCURACY WITH HOG REPRESENTATION = 0.291941\n"
     ]
    }
   ],
   "source": [
    "Xtr,Xv,Xt = representacion(X_train,X_val,X_test,\"hog\")\n",
    "\n",
    "clf=Tree(criterion=\"gini\",splitter=\"best\",random_state=0,max_depth = 10)\n",
    "clf.fit(Xtr,Y_train)\n",
    "acc = clf.score(Xv,Y_val)\n",
    "print \"VALIDATION ACCURACY WITH HOG REPRESENTATION = %f\"% acc\n",
    "\n",
    "#info4 = do_Tree(Xtr,Ytr,Xv,Yv)"
   ]
  },
  {
   "cell_type": "code",
   "execution_count": 21,
   "metadata": {
    "collapsed": false
   },
   "outputs": [
    {
     "name": "stdout",
     "output_type": "stream",
     "text": [
      "(42567, 32, 32, 3)\n",
      "(7433, 32, 32, 3)\n",
      "(10000, 32, 32, 3)\n",
      "VALIDATION ACCURACY WITH COLOR HISTOGRAM REPRESENTATION = 0.262344\n"
     ]
    }
   ],
   "source": [
    "Xtr,Xv,Xt = representacion(X_train,X_val,X_test,\"histogram\")\n",
    "\n",
    "clf=Tree(criterion=\"gini\",splitter=\"best\",random_state=0,max_depth=10)\n",
    "clf.fit(Xtr,Y_train)\n",
    "acc = clf.score(Xv,Y_val)\n",
    "print \"VALIDATION ACCURACY WITH COLOR HISTOGRAM REPRESENTATION = %f\"% acc\n",
    "\n",
    "#info5 = do_Tree(Xtr,Ytr,Xv,Yv)"
   ]
  },
  {
   "cell_type": "code",
   "execution_count": 12,
   "metadata": {
    "collapsed": false
   },
   "outputs": [
    {
     "name": "stdout",
     "output_type": "stream",
     "text": [
      "(42567, 32, 32, 3)\n",
      "(7433, 32, 32, 3)\n",
      "(10000, 32, 32, 3)\n",
      "VALIDATION ACCURACY WITH COLOR HISTOGRAM AND HOG REPRESENTATION = 0.315485\n",
      "VALIDATION ACCURACY WITH COLOR HISTOGRAM AND HOG REPRESENTATION = 0.273241\n",
      "VALIDATION ACCURACY WITH COLOR HISTOGRAM AND HOG REPRESENTATION = 0.273645\n",
      "VALIDATION ACCURACY WITH COLOR HISTOGRAM AND HOG REPRESENTATION = 0.273645\n"
     ]
    }
   ],
   "source": [
    "from sklearn.tree import DecisionTreeClassifier as Tree\n",
    "\n",
    "Xtr,Xv,Xt = representacion(X_train,X_val,X_test,\"combinacion\")\n",
    "\n",
    "clf=Tree(criterion=\"gini\",splitter=\"best\",random_state=0,max_depth=10)\n",
    "clf.fit(Xtr,Y_train)\n",
    "acc = clf.score(Xv,Y_val)\n",
    "print \"VALIDATION ACCURACY WITH COLOR HISTOGRAM AND HOG REPRESENTATION = %f\"% acc\n",
    "\n",
    "clf=Tree(criterion=\"gini\",splitter=\"best\",random_state=0,max_depth=30)\n",
    "clf.fit(Xtr,Y_train)\n",
    "acc = clf.score(Xv,Y_val)\n",
    "print \"VALIDATION ACCURACY WITH COLOR HISTOGRAM AND HOG REPRESENTATION = %f\"% acc\n",
    "\n",
    "clf=Tree(criterion=\"gini\",splitter=\"best\",random_state=0,max_depth=50)\n",
    "clf.fit(Xtr,Y_train)\n",
    "acc = clf.score(Xv,Y_val)\n",
    "print \"VALIDATION ACCURACY WITH COLOR HISTOGRAM AND HOG REPRESENTATION = %f\"% acc\n",
    "\n",
    "clf=Tree(criterion=\"gini\",splitter=\"best\",random_state=0,max_depth=100)\n",
    "clf.fit(Xtr,Y_train)\n",
    "acc = clf.score(Xv,Y_val)\n",
    "print \"VALIDATION ACCURACY WITH COLOR HISTOGRAM AND HOG REPRESENTATION = %f\"% acc"
   ]
  },
  {
   "cell_type": "markdown",
   "metadata": {},
   "source": [
    "En base a lo anteriormente experimentado se escogen los mejores parametros y representación para un arbol de clasificación para este problema de clasificación de imágenes. Mostrando a continuación el error sobre el test set."
   ]
  },
  {
   "cell_type": "code",
   "execution_count": 23,
   "metadata": {
    "collapsed": false
   },
   "outputs": [
    {
     "name": "stdout",
     "output_type": "stream",
     "text": [
      "(42567, 32, 32, 3)\n",
      "(7433, 32, 32, 3)\n",
      "(10000, 32, 32, 3)\n",
      "TEST ACCURACY WITH ... = 0.312300\n"
     ]
    }
   ],
   "source": [
    "#la mejor representacion = combinacion\n",
    "#el mejor nivel = 30\n",
    "Xtr,Xv,Xt = representacion(X_train,X_val,X_test,\"combinacion\")\n",
    "\n",
    "clf=Tree(criterion=\"gini\",splitter=\"best\",random_state=0,max_depth=10)\n",
    "clf.fit(Xtr,Y_train)\n",
    "\n",
    "acc = clf.score(Xt,Y_test)\n",
    "print \"TEST ACCURACY WITH ... = %f\"% acc"
   ]
  }
 ],
 "metadata": {
  "kernelspec": {
   "display_name": "Python 2",
   "language": "python",
   "name": "python2"
  },
  "language_info": {
   "codemirror_mode": {
    "name": "ipython",
    "version": 2
   },
   "file_extension": ".py",
   "mimetype": "text/x-python",
   "name": "python",
   "nbconvert_exporter": "python",
   "pygments_lexer": "ipython2",
   "version": "2.7.9"
  }
 },
 "nbformat": 4,
 "nbformat_minor": 1
}
