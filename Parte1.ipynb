{
 "cells": [
  {
   "cell_type": "markdown",
   "metadata": {},
   "source": [
    "# El Viejo XOR: Métodos No-lineales para Problemas No-lineales"
   ]
  },
  {
   "cell_type": "code",
   "execution_count": null,
   "metadata": {
    "collapsed": true
   },
   "outputs": [],
   "source": [
    "explicacion"
   ]
  },
  {
   "cell_type": "markdown",
   "metadata": {},
   "source": [
    "## A)"
   ]
  },
  {
   "cell_type": "code",
   "execution_count": null,
   "metadata": {
    "collapsed": true
   },
   "outputs": [],
   "source": [
    "import numpy as np\n",
    "\n",
    "def do_XOR(n=1000,noisy_n=100,svm=True):\n",
    "    rng = np.random.RandomState(0)\n",
    "    X_train = rng.uniform(low=-1.0,high=1.0,size=(n,2))\n",
    "    Y_train = np.logical_xor(X_train[:,0] > 0, X_train[:,1] > 0)\n",
    "    Y_train = 2*Y_train-1 if svm else Y_train\n",
    "    X_noisy= rng.uniform(low=-0.8,high=0.2,size=(noisy_n,2))\n",
    "    Y_noisy = -1*np.logical_xor(X_noisy[:,0] > 0, X_noisy[:,1] > 0) + 1\n",
    "    Y_noisy = 2*Y_noisy-1 if svm else Y_noisy\n",
    "    X_train = np.vstack((X_train, X_noisy))\n",
    "    Y_train = np.hstack((Y_train, Y_noisy))\n",
    "    X_test = rng.uniform(low=-1.0,high=1.0,size=(n,2))\n",
    "    Y_test = np.logical_xor(X_test[:,0] > 0, X_test[:,1] > 0)\n",
    "    Y_test = 2*Y_test - 1 if svm else Y_test\n",
    "    return X_train,Y_train,X_test,Y_test\n",
    "\n",
    "X_train,Y_train,X_test,Y_test = do_XOR()"
   ]
  },
  {
   "cell_type": "markdown",
   "metadata": {},
   "source": [
    "## B)"
   ]
  },
  {
   "cell_type": "code",
   "execution_count": null,
   "metadata": {
    "collapsed": true
   },
   "outputs": [],
   "source": [
    "import matplotlib.pyplot as plt\n",
    "\n",
    "def plot_classifier(clf,X_train,Y_train,X_test,Y_test,model_type):\n",
    "    f, axis = plt.subplots(1, 1, sharex=’col’, sharey=’row’,figsize=(20, 20))\n",
    "    axis.scatter(X_train[:,0],X_train[:,1],s=5,c=Y_train,zorder=10,cmap=’gray’)\n",
    "    axis.scatter(X_test[:,0],X_test[:,1],s=15,c=Y_test,zorder=10,cmap=’gray’)\n",
    "    XX, YY = np.mgrid[-1:1:200j, -1:1:200j]\n",
    "    if model_type == ’svm’:\n",
    "    Z = clf.decision_function(np.c_[XX.ravel(), YY.ravel()])\n",
    "    elif model_type == ’tree’:\n",
    "    Z = clf.predict_proba(np.c_[XX.ravel(), YY.ravel()])[:,0]\n",
    "    elif model_type == ’ann’:\n",
    "    Z = clf.predict(np.c_[XX.ravel(), YY.ravel()])\n",
    "    else: raise ValueError(’model type not supported’)\n",
    "    Z = Z.reshape(XX.shape)\n",
    "    Zplot = Z > 0 if model_type == ’svm’ else Z > 0.5\n",
    "    axis.pcolormesh(XX, YY, Zplot ,cmap=’YlGn’)\n",
    "    axis.contour(XX, YY, Z, alpha=1, colors=[’k’, ’k’, ’k’],\n",
    "    linestyles=[’--’, ’-’, ’--’],levels=[-1, 0, 1])\n",
    "    plt.show()"
   ]
  },
  {
   "cell_type": "markdown",
   "metadata": {},
   "source": [
    "## C)"
   ]
  },
  {
   "cell_type": "code",
   "execution_count": null,
   "metadata": {
    "collapsed": true
   },
   "outputs": [],
   "source": [
    "from sklearn.svm import SVC\n",
    "clf = SVC(C=100, kernel=’rbf’)\n",
    "clf = SVC(C=10, kernel=’poly’,degree=2, coef0=1)\n",
    "clf.fit(X_train, Y_train)\n",
    "print \"Test Accuracy = %f\"%clf.score(X_test,Y_test)\n",
    "plot_classifier(clf,X_train,Y_train,X_test,Y_test,’svm’)"
   ]
  },
  {
   "cell_type": "markdown",
   "metadata": {},
   "source": [
    "## D)"
   ]
  },
  {
   "cell_type": "code",
   "execution_count": null,
   "metadata": {
    "collapsed": true
   },
   "outputs": [],
   "source": [
    "from keras.models import Sequential\n",
    "from keras.layers import Dense\n",
    "from keras.optimizers import SGD\n",
    "n_h=1\n",
    "model = Sequential()\n",
    "model.add(Dense(1, input_dim=X_train.shape[1], init=’uniform’, activation=’relu’))\n",
    "model.add(Dense(n_h, init=’uniform’, activation=’sigmoid’))\n",
    "model.compile(optimizer=SGD(lr=1), loss=’binary_crossentropy’, metrics=[’accuracy’])\n",
    "model.fit(X_train, Y_train, nb_epoch=50, batch_size=100, verbose=1)\n",
    "scores = model.evaluate(X_test, Y_test)\n",
    "test_acc = scores[1]"
   ]
  },
  {
   "cell_type": "markdown",
   "metadata": {},
   "source": [
    "## E)"
   ]
  },
  {
   "cell_type": "code",
   "execution_count": null,
   "metadata": {
    "collapsed": true
   },
   "outputs": [],
   "source": [
    "# Hacer algo\n",
    "\n",
    "n_h=8\n",
    "model = Sequential()\n",
    "model.add(Dense(1, input_dim=X_train.shape[1], init=’uniform’, activation=’relu’))\n",
    "model.add(Dense(n_h, init=’uniform’, activation=’sigmoid’))"
   ]
  },
  {
   "cell_type": "markdown",
   "metadata": {},
   "source": [
    "## F)"
   ]
  },
  {
   "cell_type": "code",
   "execution_count": null,
   "metadata": {
    "collapsed": true
   },
   "outputs": [],
   "source": [
    "from sklearn.tree import DecisionTreeClassifier as Tree\n",
    "clf=Tree(criterion=’gini’,splitter=’best’,random_state=0,max_depth=1)\n",
    "clf.fit(X_train,Y_train)\n",
    "acc_test = clf.score(X_test,Y_test)\n",
    "print \"Test Accuracy = %f\"%acc_test\n",
    "print clf.tree_.max_depth\n",
    "plot_classifier(clf,X_train,Y_train,X_test,Y_test,’tree’)"
   ]
  },
  {
   "cell_type": "markdown",
   "metadata": {},
   "source": [
    "## G)"
   ]
  },
  {
   "cell_type": "code",
   "execution_count": null,
   "metadata": {
    "collapsed": true
   },
   "outputs": [],
   "source": [
    "# Hacer algo\n",
    "\n",
    "n_t=8\n",
    "clf=Tree(criterion=’gini’,splitter=’best’,random_state=0,max_depth=n_t)\n",
    "clf.fit(X_train,Y_train)"
   ]
  },
  {
   "cell_type": "code",
   "execution_count": null,
   "metadata": {
    "collapsed": true
   },
   "outputs": [],
   "source": []
  }
 ],
 "metadata": {
  "kernelspec": {
   "display_name": "Python 2",
   "language": "python",
   "name": "python2"
  },
  "language_info": {
   "codemirror_mode": {
    "name": "ipython",
    "version": 2
   },
   "file_extension": ".py",
   "mimetype": "text/x-python",
   "name": "python",
   "nbconvert_exporter": "python",
   "pygments_lexer": "ipython2",
   "version": "2.7.10"
  }
 },
 "nbformat": 4,
 "nbformat_minor": 1
}
