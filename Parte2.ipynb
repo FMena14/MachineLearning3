{
 "cells": [
  {
   "cell_type": "markdown",
   "metadata": {},
   "source": [
    "# Bike Sharing: Predicción de Demanda Horaria"
   ]
  },
  {
   "cell_type": "code",
   "execution_count": null,
   "metadata": {
    "collapsed": true
   },
   "outputs": [],
   "source": [
    "explicacion"
   ]
  },
  {
   "cell_type": "markdown",
   "metadata": {},
   "source": [
    "|Atributo| Descripción |\n",
    "|--------|-------------|\n",
    "|_datetime_| algo|\n",
    "|_season_ | algo|\n",
    "|_holiday_| otro algo|\n",
    "|_workingday_| bla|\n",
    "|_weather_| bla|\n",
    "|_temp_| caca|\n",
    "|_atemp_|caca|\n",
    "|_humidity_|blabla|\n",
    "|_windspeed_|caca|\n",
    "|_casual_|casc|\n",
    "|_registered_|blasd|\n",
    "|_count_| demanda|  \n",
    "\n",
    "hourly date + timestamp\n",
    "1 = spring, 2 = summer, 3 = fall, 4 = winter\n",
    "whether the day is considered a holiday\n",
    "whether the day is neither a weekend nor holiday\n",
    "1: Clear, Few clouds, Partly cloudy, Partly cloudy\n",
    "2: Mist + Cloudy, Mist + Broken clouds, Mist + Few clouds, Mist\n",
    "3: Light Snow, Light Rain + Thunderstorm + Scattered clouds, Light Rain + Scattered clouds\n",
    "4: Heavy Rain + Ice Pallets + Thunderstorm + Mist, Snow + Fog\n",
    "temperature in Celsius\n",
    "“feels like” temperature in Celsius\n",
    "relative humidity\n",
    "wind speed\n",
    "number of non-registered user rentals initiated\n",
    "number of registered user rentals initiated\n",
    "number of total rentals"
   ]
  },
  {
   "cell_type": "markdown",
   "metadata": {},
   "source": [
    "## A)"
   ]
  },
  {
   "cell_type": "code",
   "execution_count": 1,
   "metadata": {
    "collapsed": false,
    "scrolled": true
   },
   "outputs": [
    {
     "name": "stdout",
     "output_type": "stream",
     "text": [
      "\n",
      "Summary - dataframe completo:\n",
      "\n",
      "             season       holiday    workingday       weather         temp  \\\n",
      "count  10886.000000  10886.000000  10886.000000  10886.000000  10886.00000   \n",
      "mean       2.506614      0.028569      0.680875      1.418427     20.23086   \n",
      "std        1.116174      0.166599      0.466159      0.633839      7.79159   \n",
      "min        1.000000      0.000000      0.000000      1.000000      0.82000   \n",
      "25%        2.000000      0.000000      0.000000      1.000000     13.94000   \n",
      "50%        3.000000      0.000000      1.000000      1.000000     20.50000   \n",
      "75%        4.000000      0.000000      1.000000      2.000000     26.24000   \n",
      "max        4.000000      1.000000      1.000000      4.000000     41.00000   \n",
      "\n",
      "              atemp      humidity     windspeed        casual    registered  \\\n",
      "count  10886.000000  10886.000000  10886.000000  10886.000000  10886.000000   \n",
      "mean      23.655084     61.886460     12.799395     36.021955    155.552177   \n",
      "std        8.474601     19.245033      8.164537     49.960477    151.039033   \n",
      "min        0.760000      0.000000      0.000000      0.000000      0.000000   \n",
      "25%       16.665000     47.000000      7.001500      4.000000     36.000000   \n",
      "50%       24.240000     62.000000     12.998000     17.000000    118.000000   \n",
      "75%       31.060000     77.000000     16.997900     49.000000    222.000000   \n",
      "max       45.455000    100.000000     56.996900    367.000000    886.000000   \n",
      "\n",
      "              count  \n",
      "count  10886.000000  \n",
      "mean     191.574132  \n",
      "std      181.144454  \n",
      "min        1.000000  \n",
      "25%       42.000000  \n",
      "50%      145.000000  \n",
      "75%      284.000000  \n",
      "max      977.000000  \n",
      "Dimensiones de training set: \n",
      "(6562, 13)\n",
      "Dimensiones de validation set: \n",
      "(2177, 13)\n",
      "Dimensiones de test set: \n",
      "(2147, 13)\n",
      "10886\n"
     ]
    }
   ],
   "source": [
    "import pandas as pd\n",
    "import numpy as np\n",
    "dftrain = pd.read_csv('bike_sharing_train.csv')\n",
    "dfval = pd.read_csv('bike_sharing_val.csv')\n",
    "dftest = pd.read_csv('bike_sharing_test.csv')\n",
    "ntrain = len(dftrain)\n",
    "nval = len(dftrain) + len(dfval)\n",
    "df = pd.concat([dftrain,dfval,dftest])\n",
    "df = df.drop('Unnamed: 0',axis=1)\n",
    "\n",
    "print('\\nSummary - dataframe completo:\\n')\n",
    "print(df.describe())\n",
    "#print df\n",
    "print \"Dimensiones de training set: \"\n",
    "print dftrain.shape\n",
    "print \"Dimensiones de validation set: \"\n",
    "print dfval.shape\n",
    "print \"Dimensiones de test set: \"\n",
    "print dftest.shape\n",
    "\n",
    "print len(df)\n",
    "#procesamiento\n",
    "df['hour'] = pd.to_datetime(df['datetime']).apply(lambda x: x.strftime('%H'))\n",
    "df['hour'] = pd.to_numeric(df['hour'])"
   ]
  },
  {
   "cell_type": "code",
   "execution_count": 2,
   "metadata": {
    "collapsed": false
   },
   "outputs": [
    {
     "name": "stdout",
     "output_type": "stream",
     "text": [
      "[13773, 60141, 43002, 53708, 53708, 53708] [27250, 98354, 81833, 96599, 96599, 96599] [33947, 104681, 89197, 100973, 100973, 100973] [27305, 99762, 78460, 93241, 93241, 93241]\n"
     ]
    },
    {
     "data": {
      "image/png": "[encoded data removed]",
      "text/plain": [
       "<matplotlib.figure.Figure at 0x7fb8fc332810>"
      ]
     },
     "metadata": {},
     "output_type": "display_data"
    }
   ],
   "source": [
    "import matplotlib.pyplot as plt\n",
    "\n",
    "spring_rows1 = df[ (df['season'] == 1) & (df['hour'] <= 6)]\n",
    "spring_rows2 = df[ (df['season'] == 1) & (df['hour'] > 6) & (df['hour'] <= 9)]\n",
    "spring_rows3 = df[ (df['season'] == 1) & (df['hour'] > 9) & (df['hour'] <= 12)]\n",
    "spring_rows4 = df[ (df['season'] == 1) & (df['hour'] > 12) & (df['hour'] <= 15)]\n",
    "spring_rows5 = df[ (df['season'] == 1) & (df['hour'] > 15) & (df['hour'] <= 18)]\n",
    "spring_rows6 = df[ (df['season'] == 1) & (df['hour'] > 18) & (df['hour'] <= 24)]\n",
    "\n",
    "spring_vals = [sum(spring_rows1['count']),sum(spring_rows2['count']),sum(spring_rows3['count']),sum(spring_rows4['count'])\n",
    "              ,sum(spring_rows4['count']),sum(spring_rows4['count'])]\n",
    "\n",
    "summer_rows1 = df[ (df['season'] == 2) & (df['hour'] <= 6)]\n",
    "summer_rows2 = df[ (df['season'] == 2) & (df['hour'] > 6) & (df['hour'] <= 9)]\n",
    "summer_rows3 = df[ (df['season'] == 2) & (df['hour'] > 9) & (df['hour'] <= 12)]\n",
    "summer_rows4 = df[ (df['season'] == 2) & (df['hour'] > 12) & (df['hour'] <= 15)]\n",
    "summer_rows5 = df[ (df['season'] == 2) & (df['hour'] > 15) & (df['hour'] <= 18)]\n",
    "summer_rows6 = df[ (df['season'] == 2) & (df['hour'] > 18) & (df['hour'] <= 24)]\n",
    "\n",
    "summer_vals = [sum(summer_rows1['count']),sum(summer_rows2['count']),sum(summer_rows3['count']),sum(summer_rows4['count'])\n",
    "              ,sum(summer_rows4['count']),sum(summer_rows4['count'])]\n",
    "\n",
    "fall_rows1 = df[ (df['season'] == 3) & (df['hour'] <= 6)]\n",
    "fall_rows2 = df[ (df['season'] == 3) & (df['hour'] > 6) & (df['hour'] <= 9)]\n",
    "fall_rows3 = df[ (df['season'] == 3) & (df['hour'] > 9) & (df['hour'] <= 12)]\n",
    "fall_rows4 = df[ (df['season'] == 3) & (df['hour'] > 12) & (df['hour'] <= 15)]\n",
    "fall_rows5 = df[ (df['season'] == 3) & (df['hour'] > 15) & (df['hour'] <= 18)]\n",
    "fall_rows6 = df[ (df['season'] == 3) & (df['hour'] > 18) & (df['hour'] <= 24)]\n",
    "\n",
    "fall_vals = [sum(fall_rows1['count']),sum(fall_rows2['count']),sum(fall_rows3['count']),sum(fall_rows4['count'])\n",
    "              ,sum(fall_rows4['count']),sum(fall_rows4['count'])]\n",
    "\n",
    "winter_rows1 = df[ (df['season'] == 4) & (df['hour'] <= 6)]\n",
    "winter_rows2 = df[ (df['season'] == 4) & (df['hour'] > 6) & (df['hour'] <= 9)]\n",
    "winter_rows3 = df[ (df['season'] == 4) & (df['hour'] > 9) & (df['hour'] <= 12)]\n",
    "winter_rows4 = df[ (df['season'] == 4) & (df['hour'] > 12) & (df['hour'] <= 15)]\n",
    "winter_rows5 = df[ (df['season'] == 4) & (df['hour'] > 15) & (df['hour'] <= 18)]\n",
    "winter_rows6 = df[ (df['season'] == 4) & (df['hour'] > 18) & (df['hour'] <= 24)]\n",
    "\n",
    "winter_vals = [sum(winter_rows1['count']),sum(winter_rows2['count']),sum(winter_rows3['count']),sum(winter_rows4['count'])\n",
    "              ,sum(winter_rows4['count']),sum(winter_rows4['count'])]\n",
    "\n",
    "\n",
    "print spring_vals, summer_vals,fall_vals,winter_vals\n",
    "\n",
    "# Construir histograma -------------------------------------------\n",
    "\n",
    "#PARA COMPARAR LAS EPOCAS DEL AÑO\n",
    "f, axarr = plt.subplots(2, 2, figsize=(12,8) )\n",
    "axarr[0, 0].bar(np.arange(0,6,1), spring_vals, width  = 0.5, align = \"center\", color = 'b')\n",
    "axarr[0, 0].set_title('Spring')\n",
    "axarr[0, 0].set_xticks([-0.25,0.5,1.5,2.5,3.5,4.5,5.25])\n",
    "axarr[0, 0].set_xticklabels(('12am','6am','9am','12pm','15pm','6pm','12am'))\n",
    "axarr[0, 0].set_ylabel('Ventas')\n",
    "axarr[0, 0].axis('tight')\n",
    "\n",
    "axarr[0, 1].bar(np.arange(0,6,1), summer_vals, width  = 0.5, align = \"center\", color = 'r')\n",
    "axarr[0, 1].set_title('Summer')\n",
    "axarr[0, 1].set_xticks([-0.25,0.5,1.5,2.5,3.5,4.5,5.25])\n",
    "axarr[0, 1].set_xticklabels(('6am','9am','12pm','15pm','6pm','12am'))\n",
    "axarr[0, 1].set_ylabel('Ventas')\n",
    "\n",
    "axarr[1, 0].bar(np.arange(0,6,1), fall_vals, width  = 0.5, align = \"center\", color = 'g')\n",
    "axarr[1, 0].set_title('Fall')\n",
    "axarr[1, 0].set_xticks([-0.25,0.5,1.5,2.5,3.5,4.5,5.25])\n",
    "axarr[1, 0].set_xticklabels(('6am','9am','12pm','15pm','6pm','12am'))\n",
    "axarr[1, 0].set_ylabel('Ventas')\n",
    "\n",
    "axarr[1, 1].bar(np.arange(0,6,1), winter_vals, width  = 0.5, align = \"center\", color = 'y')\n",
    "axarr[1, 1].set_title('Winter')\n",
    "axarr[1, 1].set_xticks([-0.25,0.5,1.5,2.5,3.5,4.5,5.25])\n",
    "axarr[1, 1].set_xticklabels(('6am','9am','12pm','15pm','6pm','12am'))\n",
    "axarr[1, 1].set_ylabel('Ventas')\n",
    "\n",
    "\n",
    "f.tight_layout() #separar los subplot\n",
    "plt.show()\n"
   ]
  },
  {
   "cell_type": "markdown",
   "metadata": {},
   "source": [
    "## B)"
   ]
  },
  {
   "cell_type": "code",
   "execution_count": 3,
   "metadata": {
    "collapsed": false
   },
   "outputs": [
    {
     "name": "stdout",
     "output_type": "stream",
     "text": [
      "SCORE TEST=0.703388\n",
      "KAGG EVAL TRAIN =0.028516\n",
      "KAGG EVAL VAL =0.554511\n",
      "KAGG EVAL TEST =0.574239\n"
     ]
    },
    {
     "data": {
      "image/png": "[encoded data removed]",
      "text/plain": [
       "<matplotlib.figure.Figure at 0x7fb8efcdce90>"
      ]
     },
     "metadata": {},
     "output_type": "display_data"
    }
   ],
   "source": [
    "from sklearn.tree import DecisionTreeRegressor as Tree\n",
    "import matplotlib.pyplot as plt\n",
    "\n",
    "def eval_bikemodel(y_predict,y_true):\n",
    "    diff = np.log(y_predict+1.0) - np.log(y_true+1.0)\n",
    "    return np.sqrt(np.sum(np.square(diff))/len(y_predict))\n",
    "\n",
    "\n",
    "Xdf=df.ix[:,['season','holiday','workingday','weather','temp','atemp',\n",
    "'humidity','windspeed','hour']]\n",
    "Ydf=df.ix[:,'count']\n",
    "\n",
    "X_train = Xdf[0:ntrain].values\n",
    "X_val = Xdf[ntrain:nval].values\n",
    "X_test = Xdf[nval:].values\n",
    "\n",
    "Y_train = Ydf[0:ntrain].values\n",
    "Y_val = Ydf[ntrain:nval].values\n",
    "Y_test = Ydf[nval:].values\n",
    "\n",
    "#Modelo\n",
    "model = Tree(random_state=0)\n",
    "model.fit(X_train,Y_train)\n",
    "score_test = model.score(X_test,Y_test)\n",
    "print \"SCORE TEST=%f\"%score_test\n",
    "\n",
    "Y_pred_train = model.predict(X_train)\n",
    "Y_pred_val = model.predict(X_val)\n",
    "Y_pred_test = model.predict(X_test)\n",
    "\n",
    "kagg_train = eval_bikemodel(Y_pred_train,Y_train)\n",
    "kagg_val = eval_bikemodel(Y_pred_val,Y_val)\n",
    "kagg_test = eval_bikemodel(Y_pred_test,Y_test)\n",
    "\n",
    "print \"KAGG EVAL TRAIN =%f\"%kagg_train\n",
    "print \"KAGG EVAL VAL =%f\"%kagg_val\n",
    "print \"KAGG EVAL TEST =%f\"%kagg_test\n",
    "\n",
    "plt.figure(figsize=(12,8))\n",
    "plt.plot(Y_test,Y_pred_test,'.')\n",
    "plt.xlabel('Valor Real')\n",
    "plt.ylabel('Prediccion')\n",
    "plt.show()"
   ]
  },
  {
   "cell_type": "markdown",
   "metadata": {},
   "source": [
    "## C)"
   ]
  },
  {
   "cell_type": "code",
   "execution_count": 7,
   "metadata": {
    "collapsed": false
   },
   "outputs": [
    {
     "data": {
      "image/png": "[encoded data removed]",
      "text/plain": [
       "<matplotlib.figure.Figure at 0x7fb9284816d0>"
      ]
     },
     "metadata": {},
     "output_type": "display_data"
    }
   ],
   "source": [
    "kaggs = []\n",
    "N_ts = np.arange(2,30)\n",
    "for n_t in N_ts:\n",
    "    model = Tree(random_state=0,max_depth=n_t)\n",
    "    model.fit(X_train,Y_train)\n",
    "\n",
    "    Y_pred_val = model.predict(X_val)\n",
    "    kagg_val = eval_bikemodel(Y_pred_val,Y_val)\n",
    "    kaggs.append(kagg_val)\n",
    "\n",
    "plt.figure(figsize=(14,5))    \n",
    "plt.plot(N_ts,kaggs)\n",
    "plt.xticks(N_ts)\n",
    "plt.xlabel('Numero de niveles')\n",
    "plt.ylabel('KAGG')\n",
    "plt.title('Valor de funcion de evaluacion KAGG para distintos niveles en un arbol de clasificacion')\n",
    "plt.show()"
   ]
  },
  {
   "cell_type": "code",
   "execution_count": 8,
   "metadata": {
    "collapsed": false
   },
   "outputs": [
    {
     "name": "stdout",
     "output_type": "stream",
     "text": [
      "KAGG EVAL VAL =0.476274\n"
     ]
    }
   ],
   "source": [
    "model = Tree(random_state=0,max_depth=10)\n",
    "model.fit(X_train,Y_train)\n",
    "\n",
    "Y_pred_val = model.predict(X_val)\n",
    "kagg_val = eval_bikemodel(Y_pred_val,Y_val)\n",
    "print \"KAGG EVAL VAL =%f\"%kagg_val"
   ]
  },
  {
   "cell_type": "markdown",
   "metadata": {},
   "source": [
    "## D)"
   ]
  },
  {
   "cell_type": "code",
   "execution_count": 9,
   "metadata": {
    "collapsed": false
   },
   "outputs": [
    {
     "name": "stdout",
     "output_type": "stream",
     "text": [
      "781979\n",
      "1303497\n"
     ]
    }
   ],
   "source": [
    "#procesamiento de fecha(datetime-timestamp) a numeros\n",
    "df['cday'] = pd.to_datetime(df['datetime']).dt.dayofweek#0:lunes,6:domingo\n",
    "df['cday'] = pd.to_numeric(df['cday'])\n",
    "\n",
    "df['year'] = pd.to_datetime(df['datetime']).dt.year#0:lunes,6:domingo\n",
    "df['year'] = pd.to_numeric(df['year'])\n",
    "\n",
    "df['month'] = pd.to_datetime(df['datetime']).dt.month#0:lunes,6:domingo\n",
    "df['month'] = pd.to_numeric(df['month'])\n",
    "\n",
    "\n",
    "once = df[ (df['year'] == 2011)]\n",
    "print sum(once['count'])\n",
    "donce = df[ (df['year'] == 2012)]\n",
    "print sum(donce['count'])\n",
    "\n",
    "df2 = df.drop('datetime', axis=1)"
   ]
  },
  {
   "cell_type": "code",
   "execution_count": 10,
   "metadata": {
    "collapsed": false
   },
   "outputs": [
    {
     "name": "stdout",
     "output_type": "stream",
     "text": [
      "selected = hour ...\n",
      "selected = cday ...\n",
      "selected = season ...\n",
      "selected = year ...\n",
      "selected = workingday ...\n",
      "selected = holiday ...\n",
      "selected = weather ...\n",
      "selected = atemp ...\n",
      "selected = month ...\n",
      "selected = humidity ...\n",
      "selected = temp ...\n",
      "selected = windspeed ...\n",
      "se eliminaron\n",
      "set(['windspeed', 'humidity', 'temp', 'month'])\n"
     ]
    }
   ],
   "source": [
    "def fss(x, y, xval,yval, names_x, k = 10000):\n",
    "    p = x.shape[1]-1\n",
    "    k = min(p, k)+1\n",
    "    names_x = np.array(names_x)\n",
    "    remaining = range(0, p+1)\n",
    "    selected = []\n",
    "    current_score = 0.0\n",
    "    best_new_score = 0.0\n",
    "    while remaining and len(selected)<=k :\n",
    "        score_candidates = []\n",
    "        for candidate in remaining:\n",
    "            model = Tree()\n",
    "            indexes = selected + [candidate]\n",
    "            x_train = x[:,indexes]\n",
    "            x_val = xval[:,indexes]\n",
    "            \n",
    "            predictions_val = model.fit(x_train, y).predict(x_val)\n",
    "            kagg_val = eval_bikemodel(predictions_val,yval) #en base al evaluador kagg\n",
    "            \n",
    "            score_candidates.append((kagg_val, candidate))\n",
    "        score_candidates.sort()\n",
    "        score_candidates[:] = score_candidates[::-1]\n",
    "        best_new_score, best_candidate = score_candidates.pop() #el de menor error es el mejor candidato\n",
    "        remaining.remove(best_candidate)\n",
    "        selected.append(best_candidate)\n",
    "        print \"selected = %s ...\"%names_x[best_candidate]\n",
    "    return selected\n",
    "\n",
    "names_features = ['season','holiday','workingday','weather','temp','atemp',\n",
    "    'humidity','windspeed','hour','cday','month','year']\n",
    "Xdf=df2.ix[:,names_features]\n",
    "Ydf=df2.ix[:,'count'] \n",
    "\n",
    "X_train = Xdf[0:ntrain].values\n",
    "X_val = Xdf[ntrain:nval].values\n",
    "Y_train = Ydf[0:ntrain].values\n",
    "Y_val = Ydf[ntrain:nval].values\n",
    "        \n",
    "new_names_features = fss(X_train,Y_train,X_val,Y_val,names_features)[:8]\n",
    "new_names_features = np.array(names_features)[new_names_features]\n",
    "print \"se eliminaron\"\n",
    "x = set(names_features)\n",
    "y = x - set(new_names_features)\n",
    "print y"
   ]
  },
  {
   "cell_type": "markdown",
   "metadata": {},
   "source": [
    "|nombre|caracteristicas|normalizado|transformacion(y)|\n",
    "|------|---------------|-----------|--------------|\n",
    "|old|season, holiday, workingday, weather, temp, atemp, humidity,windspeed, hour|  X | X|\n",
    "|all|old + **cday**, **month** | X | X |\n",
    "|extract|season, holiday, workingday, weather, atemp, hour, cday | X | X|"
   ]
  },
  {
   "cell_type": "code",
   "execution_count": 98,
   "metadata": {
    "collapsed": false,
    "scrolled": false
   },
   "outputs": [
    {
     "name": "stdout",
     "output_type": "stream",
     "text": [
      "---------------------------------------------\n",
      "representacion normal de las viejas caracteristicas\n",
      "KAGG EVAL VAL =0.476274\n",
      "representacion con escalamiento de las viejas caracteristicas\n",
      "KAGG EVAL VAL =0.477858\n",
      "---------------------------------------------\n",
      "representacion normal de todas las caracteristicas\n",
      "KAGG EVAL VAL =0.406954\n",
      "---------------------------------------------\n",
      "representacion con escalamiento de todas las caracteristicas\n",
      "KAGG EVAL VAL =0.407576\n",
      "---------------------------------------------\n",
      "representacion con extraccion de caracteristicas no normalizadas\n",
      "KAGG EVAL VAL =0.395105\n",
      "---------------------------------------------\n",
      "representacion con extraccion de caracteristicas normalizadas\n",
      "KAGG EVAL VAL =0.394858\n",
      "---------------------------------------------\n",
      "representacion con extracion de caracteristicas normalizadas y transformar la respuesta\n",
      "KAGG EVAL VAL =0.418274\n"
     ]
    }
   ],
   "source": [
    "#print df2\n",
    "print \"---------------------------------------------\"\n",
    "names_features = ['season','holiday','workingday','weather','temp','atemp',\n",
    "'humidity','windspeed','hour','cday','month','year']\n",
    "\n",
    "df2 = df2.ix[:,names_features+['count']]\n",
    "\n",
    "from sklearn.preprocessing import StandardScaler\n",
    "from sklearn.preprocessing import normalize\n",
    "def representacion(df, features,scaler,vector=False):\n",
    "    if features == \"all\":\n",
    "        names_features = ['season','holiday','workingday','weather','temp','atemp',\n",
    "                            'humidity','windspeed','hour','cday','month','year']\n",
    "    elif features == \"old\":\n",
    "        names_features = ['season','holiday','workingday','weather','temp','atemp',\n",
    "                        'humidity','windspeed','hour']\n",
    "    elif features == \"extract\":\n",
    "        names_features = ['season','holiday','workingday','weather','atemp','hour','cday','year']\n",
    "\n",
    "\n",
    "    #se procesan las caract\n",
    "    Xdf=df.ix[:,names_features]\n",
    "    \n",
    "    if vector: #para representacion vectorial de variables categoricas\n",
    "        all_categorical_features = ['season','weather','hour','cday','month']\n",
    "        x = set(all_categorical_features)\n",
    "        categorical_features = x.intersection(names_features)\n",
    "\n",
    "        Xdf = pd.get_dummies(Xdf,columns=categorical_features) #categorizar las caract\n",
    "    \n",
    "    #se crean las matrices\n",
    "    Ydf=df.ix[:,'count'] #no se normaliza\n",
    "    X_train = Xdf[0:ntrain].values\n",
    "    X_val = Xdf[ntrain:nval].values\n",
    "    X_test = Xdf[nval:].values\n",
    "    Y_train = Ydf[0:ntrain].values\n",
    "    Y_val = Ydf[ntrain:nval].values\n",
    "    Y_test = Ydf[nval:].values\n",
    "        \n",
    "    #se escala\n",
    "    if scaler == \"standar\":\n",
    "        scaler = StandardScaler()\n",
    "        X_train = scaler.fit_transform(X_train)\n",
    "        X_test = scaler.transform(X_test)\n",
    "        X_val = scaler.fit_transform(X_val)\n",
    "        \n",
    "        return X_train,Y_train,X_val,Y_val,X_test,Y_test\n",
    "            \n",
    "    elif scaler == \"normal\":\n",
    "        return X_train, Y_train, X_val, Y_val,X_test,Y_test\n",
    "    return 0\n",
    "   \n",
    "print \"representacion normal de las viejas caracteristicas\"\n",
    "X_train,Y_train,X_val,Y_val,X_test,Y_test = representacion(df2,\"old\",\"normal\")\n",
    "model = Tree(random_state=0,max_depth=10)\n",
    "model.fit(X_train,Y_train)\n",
    "Y_pred_val = model.predict(X_val)\n",
    "kagg_val = eval_bikemodel(Y_pred_val,Y_val)\n",
    "print \"KAGG EVAL VAL =%f\"%kagg_val\n",
    "\n",
    "print \"representacion con escalamiento de las viejas caracteristicas\"\n",
    "X_train,Y_train,X_val,Y_val,X_test,Y_test = representacion(df2,\"old\",\"standar\")\n",
    "model = Tree(random_state=0,max_depth=10)\n",
    "model.fit(X_train,Y_train)\n",
    "Y_pred_val = model.predict(X_val)\n",
    "kagg_val = eval_bikemodel(Y_pred_val,Y_val)\n",
    "print \"KAGG EVAL VAL =%f\"%kagg_val\n",
    "print \"---------------------------------------------\"\n",
    "\n",
    "print \"representacion normal de todas las caracteristicas\"\n",
    "X_train,Y_train,X_val,Y_val, X_test,Y_test = representacion(df2,\"all\",\"normal\")\n",
    "model = Tree(random_state=0,max_depth=10)\n",
    "model.fit(X_train,Y_train)\n",
    "Y_pred_val = model.predict(X_val)\n",
    "\n",
    "kagg_val = eval_bikemodel(Y_pred_val,Y_val)\n",
    "print \"KAGG EVAL VAL =%f\"%kagg_val\n",
    "print \"---------------------------------------------\"\n",
    "\n",
    "print \"representacion con escalamiento de todas las caracteristicas\"\n",
    "X_train,Y_train,X_val,Y_val, X_test,Y_test = representacion(df2,\"all\",\"standar\")\n",
    "model = Tree(random_state=0,max_depth=10)\n",
    "model.fit(X_train,Y_train)\n",
    "Y_pred_val = model.predict(X_val)\n",
    "\n",
    "kagg_val = eval_bikemodel(Y_pred_val,Y_val)\n",
    "print \"KAGG EVAL VAL =%f\"%kagg_val\n",
    "\n",
    "print \"---------------------------------------------\"\n",
    "print \"representacion con extraccion de caracteristicas no normalizadas\"\n",
    "X_train,Y_train,X_val,Y_val,X_test,Y_test = representacion(df2,\"extract\",\"normal\")\n",
    "model = Tree(random_state=0,max_depth=10) #esto\n",
    "model.fit(X_train,Y_train)\n",
    "Y_pred_val = model.predict(X_val)\n",
    "\n",
    "kagg_val = eval_bikemodel(Y_pred_val,Y_val)\n",
    "print \"KAGG EVAL VAL =%f\"%kagg_val\n",
    "\n",
    "print \"---------------------------------------------\"\n",
    "print \"representacion con extraccion de caracteristicas normalizadas\"\n",
    "X_train,Y_train,X_val,Y_val,X_test,Y_test = representacion(df2,\"extract\",\"standar\")\n",
    "model = Tree(random_state=0,max_depth=10) #esto\n",
    "model.fit(X_train,Y_train)\n",
    "Y_pred_val = model.predict(X_val)\n",
    "\n",
    "kagg_val = eval_bikemodel(Y_pred_val,Y_val)\n",
    "print \"KAGG EVAL VAL =%f\"%kagg_val\n",
    "\n",
    "print \"---------------------------------------------\"\n",
    "print \"representacion con extracion de caracteristicas normalizadas y transformar la respuesta\"\n",
    "X_train,Y_train,X_val,Y_val, X_test,Y_test = representacion(df2,\"extract\",\"standar\")\n",
    "\n",
    "#transforma la respuesta (Target)\n",
    "Y_train = np.log(Y_train+1)\n",
    "Y_val = np.log(Y_val+1)\n",
    "        \n",
    "model = Tree(random_state=0,max_depth=10)\n",
    "model.fit(X_train,Y_train) #ajusta el modelo con target normalizado\n",
    "Y_pred_val = model.predict(X_val)\n",
    "\n",
    "\n",
    "#volver a la variable original\n",
    "Y_val = np.exp(Y_val)-1\n",
    "Y_pred_val = np.exp(Y_pred_val)-1\n",
    "\n",
    "kagg_val = eval_bikemodel(Y_pred_val,Y_val)\n",
    "print \"KAGG EVAL VAL =%f\"%kagg_val"
   ]
  },
  {
   "cell_type": "markdown",
   "metadata": {},
   "source": [
    "## E)"
   ]
  },
  {
   "cell_type": "code",
   "execution_count": 86,
   "metadata": {
    "collapsed": false,
    "scrolled": true
   },
   "outputs": [
    {
     "name": "stdout",
     "output_type": "stream",
     "text": [
      "representacion con extraccion de caracteristicas normalizadas y transformar el Y(target)\n",
      "KAGG EVAL TRAIN =0.276680\n",
      "KAGG EVAL VAL =0.316920\n"
     ]
    }
   ],
   "source": [
    "X_train,Y_train,X_val,Y_val = representacion(df2,\"extract\",\"standar\",vector=True)\n",
    "print \"representacion con extraccion de caracteristicas normalizadas y transformar el Y(target)\"\n",
    "\n",
    "\n",
    "#transformar el Y\n",
    "Y_train = np.log(Y_train+1)\n",
    "Y_val = np.log(Y_val+1)\n",
    "        \n",
    "# Se ajusta a modelo SVR\n",
    "from sklearn.svm import SVR\n",
    "model = SVR()\n",
    "model.fit(X_train,Y_train)\n",
    "Y_pred_train = model.predict(X_train)\n",
    "Y_pred_val = model.predict(X_val)\n",
    "#Y_pred_test = model.predict(X_test)\n",
    "\n",
    "#volver a la variable original\n",
    "Y_train = np.exp(Y_train)-1\n",
    "Y_pred_train = np.exp(Y_pred_train)\n",
    "Y_val = np.exp(Y_val) -1\n",
    "Y_pred_val = np.exp(Y_pred_val) -1\n",
    "\n",
    "\n",
    "kagg_val = eval_bikemodel(Y_pred_train,Y_train)\n",
    "print \"KAGG EVAL TRAIN =%f\"%kagg_val\n",
    "kagg_val = eval_bikemodel(Y_pred_val,Y_val)\n",
    "print \"KAGG EVAL VAL =%f\"%kagg_val"
   ]
  },
  {
   "cell_type": "markdown",
   "metadata": {},
   "source": [
    "## F) SVR (regresion) no lineal - variacion de parametros"
   ]
  },
  {
   "cell_type": "code",
   "execution_count": 131,
   "metadata": {
    "collapsed": false
   },
   "outputs": [
    {
     "name": "stdout",
     "output_type": "stream",
     "text": [
      "representacion con extraccion de caracteristicas normalizadas y transformar el Y(target)\n",
      "[[1.3888119623398345, 1.3892056452556643, 1.3894093630912228, 1.3736750814760479, 1.6644681370370946], [0.96625289929329283, 0.96658831302758874, 0.9662010345803419, 1.0795615696535581, 1.6644681370370946], [0.38095961177310389, 0.38112685393430695, 0.38446638098908703, 0.73936475152902703, 1.6644681370370946], [0.32069390595809305, 0.32016431628388348, 0.31691987316282605, 0.6489748421696373, 1.6644681370370946], [0.34409729645151665, 0.34299164531706072, 0.33325336017241186, 0.62821522513619943, 1.6644681370370946], [0.37142676718003315, 0.36893377390151777, 0.35160101897108875, 0.62206343627790728, 1.6644681370370946]]\n"
     ]
    }
   ],
   "source": [
    "X_train,Y_train,X_val,Y_val,X_test,Y_test = representacion(df2,\"extract\",\"standar\",vector=True)\n",
    "print \"representacion con extraccion de caracteristicas normalizadas y transformar el Y(target)\"\n",
    "\n",
    "# Se ajusta a modelo SVR\n",
    "from sklearn.svm import SVR\n",
    "Cs = [0.001,0.01,0.1,1,10,100]\n",
    "es = [0.001,0.01,0.1,1,10]\n",
    "info = []\n",
    "for c in Cs:\n",
    "    subinfo=[]\n",
    "    for e in es:\n",
    "        #transformar el Y\n",
    "        Y_train = np.log(Y_train+1)\n",
    "        Y_val = np.log(Y_val+1)\n",
    "\n",
    "        model = SVR(kernel='rbf', C=c, epsilon=e)\n",
    "        model.fit(X_train,Y_train)\n",
    "        #Y_pred_train = model.predict(X_train)\n",
    "        Y_pred_val = model.predict(X_val)\n",
    "        #Y_pred_test = model.predict(X_test)\n",
    "\n",
    "        #volver a la variable original\n",
    "        Y_train = np.exp(Y_train) -1\n",
    "        Y_val = np.exp(Y_val) -1\n",
    "        Y_pred_val = np.exp(Y_pred_val) -1\n",
    "\n",
    "        #kagg_train = eval_bikemodel(Y_pred_train,Y_train)\n",
    "        kagg_val = eval_bikemodel(Y_pred_val,Y_val)\n",
    "        subinfo.append(kagg_val)\n",
    "        #print \"KAGG EVAL TRAIN =%f\"%kagg_train\n",
    "        #print \"KAGG EVAL VAL =%f\"%kagg_val\n",
    "    info.append(subinfo)\n",
    "print info"
   ]
  },
  {
   "cell_type": "code",
   "execution_count": 150,
   "metadata": {
    "collapsed": false
   },
   "outputs": [
    {
     "name": "stdout",
     "output_type": "stream",
     "text": [
      "=========  ========  ========  ========  ========  ========\n",
      "C/Epsilon  0.001     0.01      0.1       1         10\n",
      "0.001      1.38881   1.38921   1.38941   1.37368    1.66447\n",
      "0.01       0.966253  0.966588  0.966201  1.07956    1.66447\n",
      "0.1        0.38096   0.381127  0.384466  0.739365   1.66447\n",
      "1          0.320694  0.320164  0.31692   0.648975   1.66447\n",
      "10         0.344097  0.342992  0.333253  0.628215   1.66447\n",
      "100        0.371427  0.368934  0.351601  0.622063   1.66447\n",
      "=========  ========  ========  ========  ========  ========\n"
     ]
    }
   ],
   "source": [
    "fila1 = ['C/Epsilon']+es\n",
    "filas = [[Cs[i]]+info[i] for i in range(len(info))]\n",
    "table = [fila1]+filas\n",
    "from tabulate import tabulate\n",
    "print tabulate(table,   tablefmt=\"rst\")"
   ]
  },
  {
   "cell_type": "markdown",
   "metadata": {},
   "source": [
    "## G) Cross-validation"
   ]
  },
  {
   "cell_type": "code",
   "execution_count": 156,
   "metadata": {
    "collapsed": false
   },
   "outputs": [
    {
     "name": "stdout",
     "output_type": "stream",
     "text": [
      "*Árbol de clasificación\n",
      "(2177, 8) (6562, 8)\n",
      "(2177,) (6562,)\n",
      "(8739, 8)\n",
      "(8739,)\n",
      "0.422384571998\n"
     ]
    }
   ],
   "source": [
    "from sklearn import cross_validation\n",
    "\n",
    "def cross_validation_fun(X_train,Y_train,model):\n",
    "    k_fold = cross_validation.KFold(len(X_train)-2,10)\n",
    "    score_cv = 0\n",
    "    for k, (train, val) in enumerate(k_fold):\n",
    "        #model = ) #SVR(C=1,epsilon=0.1)\n",
    "        model.fit(X_train[train], Y_train[train])\n",
    "        Ypred_val = model.predict(X_train[val])\n",
    "        Ytrue_val = Y_train[val]\n",
    "        score_fold = eval_bikemodel(Ypred_val,Ytrue_val)\n",
    "        score_cv += score_fold\n",
    "    score_cv = score_cv / 10\n",
    "    return score_cv\n",
    "\n",
    "# score_cv SVM:\n",
    "# score_cv Tree:\n",
    "\n",
    "print \"*Árbol de clasificación\" #mejor representacion para el arbol\n",
    "X_train,Y_train,X_val,Y_val,X_test,Y_test = representacion(df2,\"extract\",\"normal\")\n",
    "\n",
    "#añadir X_val a X_train\n",
    "print X_val.shape, X_train.shape\n",
    "print Y_val.shape, Y_train.shape\n",
    "\n",
    "newX_train = np.concatenate((X_train,X_val))\n",
    "newY_train = np.concatenate((Y_train,Y_val))\n",
    "print newX_train.shape\n",
    "print newY_train.shape\n",
    "print cross_validation_fun(newX_train,newY_train, Tree(random_state=0,max_depth=10))"
   ]
  },
  {
   "cell_type": "markdown",
   "metadata": {},
   "source": [
    "## H)"
   ]
  },
  {
   "cell_type": "code",
   "execution_count": 161,
   "metadata": {
    "collapsed": false
   },
   "outputs": [
    {
     "name": "stdout",
     "output_type": "stream",
     "text": [
      "**la demanda es definida registered-casual**\n",
      "Para la combinacion SVM-SVM\n",
      "KAGG EVAL VAL =0.315239\n",
      "Para la combinacion SVM-TREE\n",
      "KAGG EVAL VAL =0.311762\n",
      "Para la combinacion TREE-SVM\n",
      "KAGG EVAL VAL =0.362839\n",
      "Para la combinacion TREE-TREE\n",
      "KAGG EVAL VAL =0.366786\n"
     ]
    }
   ],
   "source": [
    "Ydf=df.ix[:,'count'] #demanda total\n",
    "\n",
    "def do_ensambler(model1,model2):\n",
    "    # ------------------ Demanda Registrada ---------------------------\n",
    "    Ydf=df.ix[:,'registered']     \n",
    "    \n",
    "    Yreg_train = Ydf[0:ntrain].values\n",
    "    Yreg_val = Ydf[ntrain:nval].values\n",
    "    Yreg_test = Ydf[nval:].values\n",
    "\n",
    "    if model1 == \"arbol\":\n",
    "        X_train,Y_train,X_val,Y_val,X_test,Y_test = representacion(df2,\"extract\",\"standar\")\n",
    "        model = Tree(random_state=0,max_depth=10)\n",
    "        \n",
    "    elif model1 == \"svm\":\n",
    "        X_train,Y_train,X_val,Y_val,X_test,Y_test = representacion(df2,\"extract\",\"standar\",vector=True)\n",
    "        #transformar el Y de entrenamiento\n",
    "        Yreg_train = np.log(Yreg_train+1)\n",
    "        \n",
    "        model = SVR(kernel='rbf', C=1, epsilon=0.1)\n",
    "        \n",
    "    model.fit(X_train,Yreg_train)\n",
    "    Yreg_pred_val = model.predict(X_val)\n",
    "    \n",
    "    if model1==\"svm\": #volver a variable original\n",
    "        Yreg_pred_val = np.exp(Yreg_pred_val)-1\n",
    "\n",
    "        \n",
    "    # ------------------ Demanda Casual ---------------------------\n",
    "    Ydf=df.ix[:,'casual'] #demanda casual\n",
    "    \n",
    "    Ycas_train = Ydf[0:ntrain].values\n",
    "    Ycas_val = Ydf[ntrain:nval].values\n",
    "    Ycas_test = Ydf[nval:].values\n",
    "    \n",
    "    if model2 == \"arbol\":\n",
    "        X_train,Y_train,X_val,Y_val,X_test,Y_test = representacion(df2,\"extract\",\"standar\")\n",
    "        model = Tree(random_state=0,max_depth=10)\n",
    "        \n",
    "    elif model2 == \"svm\":\n",
    "        X_train,Y_train,X_val,Y_val,X_test,Y_test = representacion(df2,\"extract\",\"standar\",vector=True)\n",
    "        #transformar Y entrenamiento\n",
    "        Ycas_train = np.log(Ycas_train+1)\n",
    "        \n",
    "        model = SVR(kernel = 'rbf', C=1,epsilon=0.1)\n",
    "    \n",
    "    model.fit(X_train,Ycas_train)\n",
    "    Ycas_pred_val = model.predict(X_val)\n",
    "    \n",
    "    if model2 == \"svm\": #volver a variable original\n",
    "        Ycas_pred_val = np.exp(Ycas_pred_val)-1\n",
    "\n",
    "    return Yreg_pred_val+Ycas_pred_val\n",
    "\n",
    "print \"**la demanda es definida registered-casual**\"\n",
    "\n",
    "print \"Para la combinacion SVM-SVM\"\n",
    "Y_pred_val = do_ensambler(\"svm\",\"svm\")\n",
    "\n",
    "kagg_val = eval_bikemodel(Y_pred_val,Y_val)\n",
    "print \"KAGG EVAL VAL =%f\"%kagg_val\n",
    "\n",
    "print \"Para la combinacion SVM-TREE\"\n",
    "Y_pred_val = do_ensambler(\"svm\",\"arbol\")\n",
    "\n",
    "kagg_val = eval_bikemodel(Y_pred_val,Y_val)\n",
    "print \"KAGG EVAL VAL =%f\"%kagg_val\n",
    "\n",
    "print \"Para la combinacion TREE-SVM\"\n",
    "Y_pred_val = do_ensambler(\"arbol\",\"svm\")\n",
    "\n",
    "kagg_val = eval_bikemodel(Y_pred_val,Y_val)\n",
    "print \"KAGG EVAL VAL =%f\"%kagg_val\n",
    "\n",
    "print \"Para la combinacion TREE-TREE\"\n",
    "Y_pred_val = do_ensambler(\"arbol\",\"arbol\")\n",
    "\n",
    "kagg_val = eval_bikemodel(Y_pred_val,Y_val)\n",
    "print \"KAGG EVAL VAL =%f\"%kagg_val"
   ]
  },
  {
   "cell_type": "markdown",
   "metadata": {},
   "source": [
    "## I)"
   ]
  },
  {
   "cell_type": "code",
   "execution_count": 165,
   "metadata": {
    "collapsed": false
   },
   "outputs": [
    {
     "ename": "ValueError",
     "evalue": "operands could not be broadcast together with shapes (8739,) (6562,) ",
     "output_type": "error",
     "traceback": [
      "\u001b[0;31m---------------------------------------------------------------------------\u001b[0m",
      "\u001b[0;31mValueError\u001b[0m                                Traceback (most recent call last)",
      "\u001b[0;32m<ipython-input-165-4643efba3f27>\u001b[0m in \u001b[0;36m<module>\u001b[0;34m()\u001b[0m\n\u001b[1;32m     22\u001b[0m \u001b[0;34m\u001b[0m\u001b[0m\n\u001b[1;32m     23\u001b[0m     \u001b[0;31m#para grafico de mas abajo\u001b[0m\u001b[0;34m\u001b[0m\u001b[0;34m\u001b[0m\u001b[0m\n\u001b[0;32m---> 24\u001b[0;31m     \u001b[0mkagg_train\u001b[0m \u001b[0;34m=\u001b[0m \u001b[0meval_bikemodel\u001b[0m\u001b[0;34m(\u001b[0m\u001b[0mY_pred_train\u001b[0m\u001b[0;34m,\u001b[0m\u001b[0mY_train\u001b[0m\u001b[0;34m)\u001b[0m\u001b[0;34m\u001b[0m\u001b[0m\n\u001b[0m\u001b[1;32m     25\u001b[0m     \u001b[0mkagg_test\u001b[0m \u001b[0;34m=\u001b[0m \u001b[0meval_bikemodel\u001b[0m\u001b[0;34m(\u001b[0m\u001b[0mY_pred_test\u001b[0m\u001b[0;34m,\u001b[0m\u001b[0mY_test\u001b[0m\u001b[0;34m)\u001b[0m\u001b[0;34m\u001b[0m\u001b[0m\n\u001b[1;32m     26\u001b[0m \u001b[0;34m\u001b[0m\u001b[0m\n",
      "\u001b[0;32m<ipython-input-3-68f808c1f24a>\u001b[0m in \u001b[0;36meval_bikemodel\u001b[0;34m(y_predict, y_true)\u001b[0m\n\u001b[1;32m      3\u001b[0m \u001b[0;34m\u001b[0m\u001b[0m\n\u001b[1;32m      4\u001b[0m \u001b[0;32mdef\u001b[0m \u001b[0meval_bikemodel\u001b[0m\u001b[0;34m(\u001b[0m\u001b[0my_predict\u001b[0m\u001b[0;34m,\u001b[0m\u001b[0my_true\u001b[0m\u001b[0;34m)\u001b[0m\u001b[0;34m:\u001b[0m\u001b[0;34m\u001b[0m\u001b[0m\n\u001b[0;32m----> 5\u001b[0;31m     \u001b[0mdiff\u001b[0m \u001b[0;34m=\u001b[0m \u001b[0mnp\u001b[0m\u001b[0;34m.\u001b[0m\u001b[0mlog\u001b[0m\u001b[0;34m(\u001b[0m\u001b[0my_predict\u001b[0m\u001b[0;34m+\u001b[0m\u001b[0;36m1.0\u001b[0m\u001b[0;34m)\u001b[0m \u001b[0;34m-\u001b[0m \u001b[0mnp\u001b[0m\u001b[0;34m.\u001b[0m\u001b[0mlog\u001b[0m\u001b[0;34m(\u001b[0m\u001b[0my_true\u001b[0m\u001b[0;34m+\u001b[0m\u001b[0;36m1.0\u001b[0m\u001b[0;34m)\u001b[0m\u001b[0;34m\u001b[0m\u001b[0m\n\u001b[0m\u001b[1;32m      6\u001b[0m     \u001b[0;32mreturn\u001b[0m \u001b[0mnp\u001b[0m\u001b[0;34m.\u001b[0m\u001b[0msqrt\u001b[0m\u001b[0;34m(\u001b[0m\u001b[0mnp\u001b[0m\u001b[0;34m.\u001b[0m\u001b[0msum\u001b[0m\u001b[0;34m(\u001b[0m\u001b[0mnp\u001b[0m\u001b[0;34m.\u001b[0m\u001b[0msquare\u001b[0m\u001b[0;34m(\u001b[0m\u001b[0mdiff\u001b[0m\u001b[0;34m)\u001b[0m\u001b[0;34m)\u001b[0m\u001b[0;34m/\u001b[0m\u001b[0mlen\u001b[0m\u001b[0;34m(\u001b[0m\u001b[0my_predict\u001b[0m\u001b[0;34m)\u001b[0m\u001b[0;34m)\u001b[0m\u001b[0;34m\u001b[0m\u001b[0m\n\u001b[1;32m      7\u001b[0m \u001b[0;34m\u001b[0m\u001b[0m\n",
      "\u001b[0;31mValueError\u001b[0m: operands could not be broadcast together with shapes (8739,) (6562,) "
     ]
    }
   ],
   "source": [
    "from sklearn.ensemble import RandomForestRegressor\n",
    "\n",
    "X_train,Y_train,X_val,Y_val,X_test,Y_test = representacion(df2,\"extract\",\"standar\")\n",
    "newX_train = np.concatenate((X_train,X_val))\n",
    "newY_train = np.concatenate((Y_train,Y_val))\n",
    "\n",
    "N = np.arange(1,50)\n",
    "info1 = []\n",
    "mejor = 1\n",
    "mejor_numero = 0\n",
    "for n_trees in N:\n",
    "    model = RandomForestRegressor(n_estimators=n_trees,max_depth=10,random_state=0)\n",
    "    model.fit(newX_train,newY_train)\n",
    "    \n",
    "    Y_pred_train = model.predict(newX_train)\n",
    "    Y_pred_test = model.predict(X_test)\n",
    "    \n",
    "    val = cross_validation_fun(newX_train,newY_train,model)\n",
    "    if val <mejor:\n",
    "        mejor = kagg_val\n",
    "        mejor_numero = n_trees\n",
    "    \n",
    "    #para grafico de mas abajo\n",
    "    kagg_train = eval_bikemodel(Y_pred_train,Y_train)\n",
    "    kagg_test = eval_bikemodel(Y_pred_test,Y_test)\n",
    "        \n",
    "    info1.append([kagg_train,kagg_test])\n",
    "\n",
    "print \"NUMBER OF TREES = %d\"%mejor_numero\n",
    "print \"BEST KAGG EVAL VAL =%f\"%mejor\n",
    "\n",
    "N = np.arange(1,50)\n",
    "info2 = []\n",
    "mejor = 1\n",
    "mejor_niveles = 0\n",
    "for level in N:\n",
    "    model = RandomForestRegressor(n_estimators=5,max_depth=level,random_state=0)\n",
    "    model.fit(newX_train,newY_train)\n",
    "\n",
    "    Y_pred_train = model.predict(newX_train)\n",
    "    Y_pred_test = model.predict(X_test)\n",
    "    \n",
    "    val = cross_validation_fun(newX_train,newY_train,model)\n",
    "    if val <mejor:\n",
    "        mejor = kagg_val\n",
    "        mejor_niveles = level\n",
    "\n",
    "    kagg_train = eval_bikemodel(Y_pred_train,Y_train)\n",
    "    kagg_test = eval_bikemodel(Y_pred_test,Y_test)\n",
    "    \n",
    "    info2.append([kagg_train,kagg_test])\n",
    "\n",
    "print \"DEEPTH = %d\"%mejor_niveles\n",
    "print \"BEST KAGG EVAL VAL =%f\"%mejor"
   ]
  },
  {
   "cell_type": "code",
   "execution_count": 166,
   "metadata": {
    "collapsed": false
   },
   "outputs": [
    {
     "ename": "ValueError",
     "evalue": "x and y must have same first dimension",
     "output_type": "error",
     "traceback": [
      "\u001b[0;31m---------------------------------------------------------------------------\u001b[0m",
      "\u001b[0;31mValueError\u001b[0m                                Traceback (most recent call last)",
      "\u001b[0;32m<ipython-input-166-36392fb04932>\u001b[0m in \u001b[0;36m<module>\u001b[0;34m()\u001b[0m\n\u001b[1;32m      8\u001b[0m \u001b[0;32mimport\u001b[0m \u001b[0mmatplotlib\u001b[0m\u001b[0;34m.\u001b[0m\u001b[0mpyplot\u001b[0m \u001b[0;32mas\u001b[0m \u001b[0mplt\u001b[0m\u001b[0;34m\u001b[0m\u001b[0m\n\u001b[1;32m      9\u001b[0m \u001b[0mf\u001b[0m\u001b[0;34m,\u001b[0m \u001b[0maxarr\u001b[0m \u001b[0;34m=\u001b[0m \u001b[0mplt\u001b[0m\u001b[0;34m.\u001b[0m\u001b[0msubplots\u001b[0m\u001b[0;34m(\u001b[0m\u001b[0;36m1\u001b[0m\u001b[0;34m,\u001b[0m \u001b[0;36m2\u001b[0m\u001b[0;34m,\u001b[0m \u001b[0mfigsize\u001b[0m\u001b[0;34m=\u001b[0m\u001b[0;34m(\u001b[0m\u001b[0;36m15\u001b[0m\u001b[0;34m,\u001b[0m\u001b[0;36m5\u001b[0m\u001b[0;34m)\u001b[0m\u001b[0;34m)\u001b[0m\u001b[0;34m\u001b[0m\u001b[0m\n\u001b[0;32m---> 10\u001b[0;31m \u001b[0maxarr\u001b[0m\u001b[0;34m[\u001b[0m\u001b[0;36m0\u001b[0m\u001b[0;34m]\u001b[0m\u001b[0;34m.\u001b[0m\u001b[0mplot\u001b[0m\u001b[0;34m(\u001b[0m\u001b[0mN\u001b[0m\u001b[0;34m,\u001b[0m\u001b[0merror_train1\u001b[0m\u001b[0;34m,\u001b[0m \u001b[0mlabel\u001b[0m \u001b[0;34m=\u001b[0m \u001b[0;34m\"Training set\"\u001b[0m\u001b[0;34m)\u001b[0m\u001b[0;34m\u001b[0m\u001b[0m\n\u001b[0m\u001b[1;32m     11\u001b[0m \u001b[0maxarr\u001b[0m\u001b[0;34m[\u001b[0m\u001b[0;36m0\u001b[0m\u001b[0;34m]\u001b[0m\u001b[0;34m.\u001b[0m\u001b[0mplot\u001b[0m\u001b[0;34m(\u001b[0m\u001b[0mN\u001b[0m\u001b[0;34m,\u001b[0m\u001b[0merror_val1\u001b[0m\u001b[0;34m,\u001b[0m \u001b[0mlabel\u001b[0m \u001b[0;34m=\u001b[0m \u001b[0;34m\"Validation set\"\u001b[0m\u001b[0;34m)\u001b[0m\u001b[0;34m\u001b[0m\u001b[0m\n\u001b[1;32m     12\u001b[0m \u001b[0maxarr\u001b[0m\u001b[0;34m[\u001b[0m\u001b[0;36m0\u001b[0m\u001b[0;34m]\u001b[0m\u001b[0;34m.\u001b[0m\u001b[0mplot\u001b[0m\u001b[0;34m(\u001b[0m\u001b[0mN\u001b[0m\u001b[0;34m,\u001b[0m\u001b[0merror_test1\u001b[0m\u001b[0;34m,\u001b[0m \u001b[0mlabel\u001b[0m \u001b[0;34m=\u001b[0m \u001b[0;34m\"Test set\"\u001b[0m\u001b[0;34m)\u001b[0m\u001b[0;34m\u001b[0m\u001b[0m\n",
      "\u001b[0;32m/usr/local/lib/python2.7/dist-packages/matplotlib/__init__.pyc\u001b[0m in \u001b[0;36minner\u001b[0;34m(ax, *args, **kwargs)\u001b[0m\n\u001b[1;32m   1817\u001b[0m                     warnings.warn(msg % (label_namer, func.__name__),\n\u001b[1;32m   1818\u001b[0m                                   RuntimeWarning, stacklevel=2)\n\u001b[0;32m-> 1819\u001b[0;31m             \u001b[0;32mreturn\u001b[0m \u001b[0mfunc\u001b[0m\u001b[0;34m(\u001b[0m\u001b[0max\u001b[0m\u001b[0;34m,\u001b[0m \u001b[0;34m*\u001b[0m\u001b[0margs\u001b[0m\u001b[0;34m,\u001b[0m \u001b[0;34m**\u001b[0m\u001b[0mkwargs\u001b[0m\u001b[0;34m)\u001b[0m\u001b[0;34m\u001b[0m\u001b[0m\n\u001b[0m\u001b[1;32m   1820\u001b[0m         \u001b[0mpre_doc\u001b[0m \u001b[0;34m=\u001b[0m \u001b[0minner\u001b[0m\u001b[0;34m.\u001b[0m\u001b[0m__doc__\u001b[0m\u001b[0;34m\u001b[0m\u001b[0m\n\u001b[1;32m   1821\u001b[0m         \u001b[0;32mif\u001b[0m \u001b[0mpre_doc\u001b[0m \u001b[0;32mis\u001b[0m \u001b[0mNone\u001b[0m\u001b[0;34m:\u001b[0m\u001b[0;34m\u001b[0m\u001b[0m\n",
      "\u001b[0;32m/usr/local/lib/python2.7/dist-packages/matplotlib/axes/_axes.pyc\u001b[0m in \u001b[0;36mplot\u001b[0;34m(self, *args, **kwargs)\u001b[0m\n\u001b[1;32m   1380\u001b[0m         \u001b[0mkwargs\u001b[0m \u001b[0;34m=\u001b[0m \u001b[0mcbook\u001b[0m\u001b[0;34m.\u001b[0m\u001b[0mnormalize_kwargs\u001b[0m\u001b[0;34m(\u001b[0m\u001b[0mkwargs\u001b[0m\u001b[0;34m,\u001b[0m \u001b[0m_alias_map\u001b[0m\u001b[0;34m)\u001b[0m\u001b[0;34m\u001b[0m\u001b[0m\n\u001b[1;32m   1381\u001b[0m \u001b[0;34m\u001b[0m\u001b[0m\n\u001b[0;32m-> 1382\u001b[0;31m         \u001b[0;32mfor\u001b[0m \u001b[0mline\u001b[0m \u001b[0;32min\u001b[0m \u001b[0mself\u001b[0m\u001b[0;34m.\u001b[0m\u001b[0m_get_lines\u001b[0m\u001b[0;34m(\u001b[0m\u001b[0;34m*\u001b[0m\u001b[0margs\u001b[0m\u001b[0;34m,\u001b[0m \u001b[0;34m**\u001b[0m\u001b[0mkwargs\u001b[0m\u001b[0;34m)\u001b[0m\u001b[0;34m:\u001b[0m\u001b[0;34m\u001b[0m\u001b[0m\n\u001b[0m\u001b[1;32m   1383\u001b[0m             \u001b[0mself\u001b[0m\u001b[0;34m.\u001b[0m\u001b[0madd_line\u001b[0m\u001b[0;34m(\u001b[0m\u001b[0mline\u001b[0m\u001b[0;34m)\u001b[0m\u001b[0;34m\u001b[0m\u001b[0m\n\u001b[1;32m   1384\u001b[0m             \u001b[0mlines\u001b[0m\u001b[0;34m.\u001b[0m\u001b[0mappend\u001b[0m\u001b[0;34m(\u001b[0m\u001b[0mline\u001b[0m\u001b[0;34m)\u001b[0m\u001b[0;34m\u001b[0m\u001b[0m\n",
      "\u001b[0;32m/usr/local/lib/python2.7/dist-packages/matplotlib/axes/_base.pyc\u001b[0m in \u001b[0;36m_grab_next_args\u001b[0;34m(self, *args, **kwargs)\u001b[0m\n\u001b[1;32m    379\u001b[0m                 \u001b[0;32mreturn\u001b[0m\u001b[0;34m\u001b[0m\u001b[0m\n\u001b[1;32m    380\u001b[0m             \u001b[0;32mif\u001b[0m \u001b[0mlen\u001b[0m\u001b[0;34m(\u001b[0m\u001b[0mremaining\u001b[0m\u001b[0;34m)\u001b[0m \u001b[0;34m<=\u001b[0m \u001b[0;36m3\u001b[0m\u001b[0;34m:\u001b[0m\u001b[0;34m\u001b[0m\u001b[0m\n\u001b[0;32m--> 381\u001b[0;31m                 \u001b[0;32mfor\u001b[0m \u001b[0mseg\u001b[0m \u001b[0;32min\u001b[0m \u001b[0mself\u001b[0m\u001b[0;34m.\u001b[0m\u001b[0m_plot_args\u001b[0m\u001b[0;34m(\u001b[0m\u001b[0mremaining\u001b[0m\u001b[0;34m,\u001b[0m \u001b[0mkwargs\u001b[0m\u001b[0;34m)\u001b[0m\u001b[0;34m:\u001b[0m\u001b[0;34m\u001b[0m\u001b[0m\n\u001b[0m\u001b[1;32m    382\u001b[0m                     \u001b[0;32myield\u001b[0m \u001b[0mseg\u001b[0m\u001b[0;34m\u001b[0m\u001b[0m\n\u001b[1;32m    383\u001b[0m                 \u001b[0;32mreturn\u001b[0m\u001b[0;34m\u001b[0m\u001b[0m\n",
      "\u001b[0;32m/usr/local/lib/python2.7/dist-packages/matplotlib/axes/_base.pyc\u001b[0m in \u001b[0;36m_plot_args\u001b[0;34m(self, tup, kwargs)\u001b[0m\n\u001b[1;32m    357\u001b[0m             \u001b[0mx\u001b[0m\u001b[0;34m,\u001b[0m \u001b[0my\u001b[0m \u001b[0;34m=\u001b[0m \u001b[0mindex_of\u001b[0m\u001b[0;34m(\u001b[0m\u001b[0mtup\u001b[0m\u001b[0;34m[\u001b[0m\u001b[0;34m-\u001b[0m\u001b[0;36m1\u001b[0m\u001b[0;34m]\u001b[0m\u001b[0;34m)\u001b[0m\u001b[0;34m\u001b[0m\u001b[0m\n\u001b[1;32m    358\u001b[0m \u001b[0;34m\u001b[0m\u001b[0m\n\u001b[0;32m--> 359\u001b[0;31m         \u001b[0mx\u001b[0m\u001b[0;34m,\u001b[0m \u001b[0my\u001b[0m \u001b[0;34m=\u001b[0m \u001b[0mself\u001b[0m\u001b[0;34m.\u001b[0m\u001b[0m_xy_from_xy\u001b[0m\u001b[0;34m(\u001b[0m\u001b[0mx\u001b[0m\u001b[0;34m,\u001b[0m \u001b[0my\u001b[0m\u001b[0;34m)\u001b[0m\u001b[0;34m\u001b[0m\u001b[0m\n\u001b[0m\u001b[1;32m    360\u001b[0m \u001b[0;34m\u001b[0m\u001b[0m\n\u001b[1;32m    361\u001b[0m         \u001b[0;32mif\u001b[0m \u001b[0mself\u001b[0m\u001b[0;34m.\u001b[0m\u001b[0mcommand\u001b[0m \u001b[0;34m==\u001b[0m \u001b[0;34m'plot'\u001b[0m\u001b[0;34m:\u001b[0m\u001b[0;34m\u001b[0m\u001b[0m\n",
      "\u001b[0;32m/usr/local/lib/python2.7/dist-packages/matplotlib/axes/_base.pyc\u001b[0m in \u001b[0;36m_xy_from_xy\u001b[0;34m(self, x, y)\u001b[0m\n\u001b[1;32m    217\u001b[0m         \u001b[0my\u001b[0m \u001b[0;34m=\u001b[0m \u001b[0m_check_1d\u001b[0m\u001b[0;34m(\u001b[0m\u001b[0my\u001b[0m\u001b[0;34m)\u001b[0m\u001b[0;34m\u001b[0m\u001b[0m\n\u001b[1;32m    218\u001b[0m         \u001b[0;32mif\u001b[0m \u001b[0mx\u001b[0m\u001b[0;34m.\u001b[0m\u001b[0mshape\u001b[0m\u001b[0;34m[\u001b[0m\u001b[0;36m0\u001b[0m\u001b[0;34m]\u001b[0m \u001b[0;34m!=\u001b[0m \u001b[0my\u001b[0m\u001b[0;34m.\u001b[0m\u001b[0mshape\u001b[0m\u001b[0;34m[\u001b[0m\u001b[0;36m0\u001b[0m\u001b[0;34m]\u001b[0m\u001b[0;34m:\u001b[0m\u001b[0;34m\u001b[0m\u001b[0m\n\u001b[0;32m--> 219\u001b[0;31m             \u001b[0;32mraise\u001b[0m \u001b[0mValueError\u001b[0m\u001b[0;34m(\u001b[0m\u001b[0;34m\"x and y must have same first dimension\"\u001b[0m\u001b[0;34m)\u001b[0m\u001b[0;34m\u001b[0m\u001b[0m\n\u001b[0m\u001b[1;32m    220\u001b[0m         \u001b[0;32mif\u001b[0m \u001b[0mx\u001b[0m\u001b[0;34m.\u001b[0m\u001b[0mndim\u001b[0m \u001b[0;34m>\u001b[0m \u001b[0;36m2\u001b[0m \u001b[0;32mor\u001b[0m \u001b[0my\u001b[0m\u001b[0;34m.\u001b[0m\u001b[0mndim\u001b[0m \u001b[0;34m>\u001b[0m \u001b[0;36m2\u001b[0m\u001b[0;34m:\u001b[0m\u001b[0;34m\u001b[0m\u001b[0m\n\u001b[1;32m    221\u001b[0m             \u001b[0;32mraise\u001b[0m \u001b[0mValueError\u001b[0m\u001b[0;34m(\u001b[0m\u001b[0;34m\"x and y can be no greater than 2-D\"\u001b[0m\u001b[0;34m)\u001b[0m\u001b[0;34m\u001b[0m\u001b[0m\n",
      "\u001b[0;31mValueError\u001b[0m: x and y must have same first dimension"
     ]
    }
   ],
   "source": [
    "error_train1 = [ i[0] for i in info1]\n",
    "error_val1 = [i[1] for i in info1]\n",
    "error_test1 = [ i[2] for i in info1]\n",
    "error_train2 = [ i[0] for i in info2]\n",
    "error_val2 = [i[1] for i in info2]\n",
    "error_test2 = [ i[2] for i in info2]\n",
    "\n",
    "import matplotlib.pyplot as plt\n",
    "f, axarr = plt.subplots(1, 2, figsize=(15,5))\n",
    "axarr[0].plot(N,error_train1, label = \"Training set\")\n",
    "axarr[0].plot(N,error_val1, label = \"Validation set\")\n",
    "axarr[0].plot(N,error_test1, label = \"Test set\")\n",
    "#axarr[0].set_xticks(N)\n",
    "axarr[0].set_xlabel('Numero de maquinas de aprendizaje')\n",
    "axarr[0].set_ylabel('Error')\n",
    "axarr[0].set_title('Error sobre RandomForest de profundidad 10')\n",
    "#axarr[0].set_ylim(0,0.5)\n",
    "axarr[0].legend(loc=\"upper right\")\n",
    "\n",
    "axarr[1].plot(N,error_train2, label = \"Training set\")\n",
    "axarr[1].plot(N,error_val2, label = \"Validation set\")\n",
    "axarr[1].plot(N,error_train2, label = \"Test set\")\n",
    "#axarr[1].set_xticks(N)\n",
    "axarr[1].set_xlabel('Numero de niveles')\n",
    "axarr[1].set_ylabel('Error')\n",
    "axarr[1].set_title('Error sobre RandomForest con 45 maquinas de aprendizaje')\n",
    "axarr[1].legend(loc=\"upper right\")\n",
    "plt.show()"
   ]
  },
  {
   "cell_type": "code",
   "execution_count": null,
   "metadata": {
    "collapsed": true
   },
   "outputs": [],
   "source": []
  }
 ],
 "metadata": {
  "kernelspec": {
   "display_name": "Python 2",
   "language": "python",
   "name": "python2"
  },
  "language_info": {
   "codemirror_mode": {
    "name": "ipython",
    "version": 2
   },
   "file_extension": ".py",
   "mimetype": "text/x-python",
   "name": "python",
   "nbconvert_exporter": "python",
   "pygments_lexer": "ipython2",
   "version": "2.7.9"
  }
 },
 "nbformat": 4,
 "nbformat_minor": 1
}
